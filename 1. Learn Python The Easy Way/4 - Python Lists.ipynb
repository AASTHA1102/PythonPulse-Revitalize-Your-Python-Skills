{
 "cells": [
  {
   "cell_type": "markdown",
   "id": "53bf6c2a",
   "metadata": {},
   "source": [
    "### By - Aastha Agarwal \n",
    "### LinkedIn - https://www.linkedin.com/in/aasthaa1jan/"
   ]
  },
  {
   "cell_type": "markdown",
   "id": "e975d384",
   "metadata": {},
   "source": [
    "# Topic 4 : PYTHON DATA STRUCTURES\n",
    "## A. LISTS"
   ]
  },
  {
   "cell_type": "markdown",
   "id": "a926b0e0",
   "metadata": {},
   "source": [
    "# **Lists**\n",
    "-What are Lists?\n",
    "\n",
    "-Lists Vs Arrays\n",
    "\n",
    "-Characterstics of a List\n",
    "\n",
    "-How to create a list\n",
    "\n",
    "-Access items from a List\n",
    "\n",
    "-Editing items in a List\n",
    "\n",
    "-Deleting items from a List\n",
    "\n",
    "-Operations on Lists\n",
    "\n",
    "-Functions on Lists"
   ]
  },
  {
   "cell_type": "markdown",
   "id": "3e817dce",
   "metadata": {},
   "source": [
    "# **What are Lists**\n",
    "\n",
    "List is a data type where you can store multiple items under 1 name. More technically, lists act like dynamic arrays which means you can add more items on the fly."
   ]
  },
  {
   "cell_type": "code",
   "execution_count": 1,
   "id": "0b7d2edc",
   "metadata": {},
   "outputs": [],
   "source": [
    "# L= [ 20, 'Jessa', 35.75, [30, 60, 90]]\n",
    "#      |      |      |           |\n",
    "#     L[0]   L[1]   L[2]        L[3]"
   ]
  },
  {
   "cell_type": "markdown",
   "id": "b95f9e3f",
   "metadata": {},
   "source": [
    "# **Array Vs Lists**\n",
    "\n",
    "-Fixed Vs Dynamic Size\n",
    "\n",
    "-Convenience -> Hetrogeneous\n",
    "\n",
    "-Speed of Execution is less in array\n",
    "\n",
    "-Memory is used more in list as compared to arrays"
   ]
  },
  {
   "cell_type": "code",
   "execution_count": 7,
   "id": "4caf0d20",
   "metadata": {},
   "outputs": [
    {
     "name": "stdout",
     "output_type": "stream",
     "text": [
      "2010898524496\n",
      "2010978560640\n",
      "2010898524464\n",
      "2010898524496\n",
      "2010898524528\n",
      "2010898524560\n",
      "2010898524464\n",
      "2010898524496\n",
      "2010898524528\n",
      "2010898524560\n"
     ]
    }
   ],
   "source": [
    "a=2\n",
    "print(id(a))  \n",
    "# id gives me memory address\n",
    "\n",
    "\n",
    "L = [1,2,3,4,5,6,7]\n",
    "# using index\n",
    "print(id(L))\n",
    "print(id(L[0]))\n",
    "print(id(L[1]))\n",
    "print(id(L[2]))\n",
    "print(id(L[3]))\n",
    "\n",
    "# using element\n",
    "print(id(1))\n",
    "print(id(2))\n",
    "print(id(3))\n",
    "print(id(4))"
   ]
  },
  {
   "cell_type": "markdown",
   "id": "207c6392",
   "metadata": {},
   "source": [
    "# **How lists are stored in memory**\n",
    "\n",
    "Characterstics of a List\n",
    "\n",
    "-Ordered\n",
    "\n",
    "-Changeble/Mutable\n",
    "\n",
    "-Hetrogeneous\n",
    "\n",
    "-Can have duplicates\n",
    "\n",
    "-are dynamic\n",
    "\n",
    "-can be nested\n",
    "\n",
    "-items can be accessed\n",
    "\n",
    "-can contain any kind of objects in python"
   ]
  },
  {
   "cell_type": "code",
   "execution_count": 2,
   "id": "75234def",
   "metadata": {},
   "outputs": [
    {
     "data": {
      "text/plain": [
       "False"
      ]
     },
     "execution_count": 2,
     "metadata": {},
     "output_type": "execute_result"
    }
   ],
   "source": [
    "L=[1,2,3,1]\n",
    "\n",
    "L1=[3,2,1,1]\n",
    "\n",
    "L==L1"
   ]
  },
  {
   "cell_type": "markdown",
   "id": "3de76161",
   "metadata": {},
   "source": [
    "# **Creating a List**"
   ]
  },
  {
   "cell_type": "code",
   "execution_count": 7,
   "id": "46712cbd",
   "metadata": {},
   "outputs": [
    {
     "name": "stdout",
     "output_type": "stream",
     "text": [
      "[]\n",
      "[1, 2, 3, 4, 5]\n",
      "[1, 2, 3, [4, 5, 6]]\n",
      "[[[1, 2], [3, 4]], [[5, 6], [7, 8]]]\n",
      "[1, True, 5.6, 'Hello']\n",
      "['H', 'e', 'l', 'l', 'o']\n"
     ]
    }
   ],
   "source": [
    "# Empty\n",
    "print([])\n",
    "\n",
    "# 1D -> Homo\n",
    "print([1,2,3,4,5])\n",
    "\n",
    "# 2D\n",
    "print([1,2,3,[4,5,6]])\n",
    "\n",
    "# 3D\n",
    "print([[[1,2],[3,4]],[[5,6],[7,8]]])\n",
    "\n",
    "# Hetrogenous\n",
    "print([1,True,5.6,'Hello'])\n",
    "\n",
    "# Using Type conversion\n",
    "print(list('Hello'))"
   ]
  },
  {
   "cell_type": "markdown",
   "id": "df14986b",
   "metadata": {},
   "source": [
    "# Accessing Items from a List"
   ]
  },
  {
   "cell_type": "code",
   "execution_count": 1,
   "id": "bafaf708",
   "metadata": {},
   "outputs": [
    {
     "name": "stdout",
     "output_type": "stream",
     "text": [
      "2\n",
      "6\n",
      "[8, 7, 6, 5, 4, 3, 2, 1]\n"
     ]
    }
   ],
   "source": [
    "# Indexing\n",
    "L=[[[1,2],[3,4]],[[5,6],[7,8]]]\n",
    "#positive\n",
    "print(L[0][0][1])\n",
    "print(L[1][0][1])\n",
    "\n",
    "# Slicing\n",
    "L=[1,2,3,4,5,6,7,8]\n",
    "print(L[::-1])"
   ]
  },
  {
   "cell_type": "markdown",
   "id": "bacc345a",
   "metadata": {},
   "source": [
    "# Adding Items to a List"
   ]
  },
  {
   "cell_type": "code",
   "execution_count": 14,
   "id": "991c05ff",
   "metadata": {},
   "outputs": [
    {
     "name": "stdout",
     "output_type": "stream",
     "text": [
      "[1, 2, 3, 4, 5, True]\n"
     ]
    }
   ],
   "source": [
    "# append\n",
    "L=[1,2,3,4,5]\n",
    "L.append(True)\n",
    "print(L)"
   ]
  },
  {
   "cell_type": "code",
   "execution_count": 15,
   "id": "30cef61a",
   "metadata": {},
   "outputs": [
    {
     "name": "stdout",
     "output_type": "stream",
     "text": [
      "[1, 2, 3, 4, 5, 6, 7, 8, 9]\n"
     ]
    }
   ],
   "source": [
    "# extend\n",
    "L=[1,2,3,4,5]\n",
    "L.extend([6,7,8,9])\n",
    "print(L)"
   ]
  },
  {
   "cell_type": "code",
   "execution_count": 16,
   "id": "f46ec3b7",
   "metadata": {},
   "outputs": [
    {
     "name": "stdout",
     "output_type": "stream",
     "text": [
      "[1, 2, 3, 4, 5, [6, 7, 8, 9]]\n"
     ]
    }
   ],
   "source": [
    "# append function adds up in a a list as a singlr element\n",
    "L=[1,2,3,4,5]\n",
    "L.append([6,7,8,9])\n",
    "print(L)"
   ]
  },
  {
   "cell_type": "code",
   "execution_count": 17,
   "id": "66a390a9",
   "metadata": {},
   "outputs": [
    {
     "name": "stdout",
     "output_type": "stream",
     "text": [
      "[1, 2, 3, 4, 5, 'D', 'e', 'l', 'h', 'i']\n"
     ]
    }
   ],
   "source": [
    "# extending a string breaks the strings into characters\n",
    "L=[1,2,3,4,5]\n",
    "L.extend('Delhi')\n",
    "print(L)"
   ]
  },
  {
   "cell_type": "code",
   "execution_count": 19,
   "id": "e363f240",
   "metadata": {},
   "outputs": [
    {
     "name": "stdout",
     "output_type": "stream",
     "text": [
      "[1, 2, 3, 4, 5, 'Delhi']\n"
     ]
    }
   ],
   "source": [
    "L=[1,2,3,4,5]\n",
    "L.extend(['Delhi'])\n",
    "print(L)"
   ]
  },
  {
   "cell_type": "code",
   "execution_count": 21,
   "id": "4f16e695",
   "metadata": {},
   "outputs": [
    {
     "name": "stdout",
     "output_type": "stream",
     "text": [
      "[1, 20, 2, 3, 4, 5, 6, 7, 8]\n"
     ]
    }
   ],
   "source": [
    "# insert  -> List.insert(position,element)\n",
    "L=[1,2,3,4,5,6,7,8]\n",
    "L.insert(1,20)\n",
    "print(L)"
   ]
  },
  {
   "cell_type": "markdown",
   "id": "ab83bd49",
   "metadata": {},
   "source": [
    "# Editing items in a List"
   ]
  },
  {
   "cell_type": "code",
   "execution_count": 24,
   "id": "a4761b49",
   "metadata": {},
   "outputs": [
    {
     "name": "stdout",
     "output_type": "stream",
     "text": [
      "[1, 2, 3, 4, 5, 500]\n",
      "[1, 100, 200, 300, 5, 500]\n"
     ]
    }
   ],
   "source": [
    "L=[1,2,3,4,5,6]\n",
    "\n",
    "# editing with indexing\n",
    "L[-1]=500                 #inserts value at the end (-1)\n",
    "print(L)\n",
    "\n",
    "# editing with slicing\n",
    "L[1:4]=[100,200,300]\n",
    "print(L)"
   ]
  },
  {
   "cell_type": "markdown",
   "id": "3d38ed62",
   "metadata": {},
   "source": [
    "# Deleting items from a List"
   ]
  },
  {
   "cell_type": "code",
   "execution_count": 29,
   "id": "956be95c",
   "metadata": {},
   "outputs": [
    {
     "name": "stdout",
     "output_type": "stream",
     "text": [
      "[1, 2, 3, 4, 5, 6, 7]\n",
      "[1, 5, 6, 7]\n"
     ]
    }
   ],
   "source": [
    "# del\n",
    "L=[1,2,3,4]\n",
    "del(L)\n",
    "# print(L) \n",
    "\n",
    "# indexing\n",
    "L=[1,2,3,4,5,6,7,8]\n",
    "del L[-1]\n",
    "print(L)\n",
    "\n",
    "# slicing\n",
    "del L[1:4]\n",
    "print(L)"
   ]
  },
  {
   "cell_type": "code",
   "execution_count": 1,
   "id": "21e76cc4",
   "metadata": {},
   "outputs": [
    {
     "name": "stdout",
     "output_type": "stream",
     "text": [
      "[1, 2, 3, 4]\n"
     ]
    }
   ],
   "source": [
    "# remove element --> deleting with value\n",
    "L=[1,2,3,4,5]\n",
    "L.remove(5)\n",
    "print(L)"
   ]
  },
  {
   "cell_type": "code",
   "execution_count": 32,
   "id": "d4745d19",
   "metadata": {},
   "outputs": [
    {
     "name": "stdout",
     "output_type": "stream",
     "text": [
      "[1, 2, 3, 4, 5, 6]\n"
     ]
    }
   ],
   "source": [
    "# pop  -> Deletes end element\n",
    "L=[1,2,3,4,5,6,7]\n",
    "L.pop()\n",
    "print(L)"
   ]
  },
  {
   "cell_type": "code",
   "execution_count": 34,
   "id": "6e1e50d7",
   "metadata": {},
   "outputs": [
    {
     "name": "stdout",
     "output_type": "stream",
     "text": [
      "[]\n"
     ]
    }
   ],
   "source": [
    "# clear -> deletes element from the list\n",
    "L=[1,2,4,5,6,7]\n",
    "L.clear()\n",
    "print(L)"
   ]
  },
  {
   "cell_type": "markdown",
   "id": "6d91959f",
   "metadata": {},
   "source": [
    "# Operations on Lists\n",
    "\n",
    "-Arithmetic\n",
    "\n",
    "-Membership\n",
    "\n",
    "-Loop"
   ]
  },
  {
   "cell_type": "code",
   "execution_count": 36,
   "id": "22d0d64b",
   "metadata": {},
   "outputs": [
    {
     "name": "stdout",
     "output_type": "stream",
     "text": [
      "[1, 2, 3, 4, 5, 6, 7, 8, 9, 10]\n"
     ]
    }
   ],
   "source": [
    "# Arithmetic (+)\n",
    "L1=[1,2,3,4,5,6]\n",
    "L2=[7,8,9,10]\n",
    "\n",
    "# Concatenation/Merge\n",
    "print(L1+L2)"
   ]
  },
  {
   "cell_type": "code",
   "execution_count": 38,
   "id": "cf616d21",
   "metadata": {},
   "outputs": [
    {
     "name": "stdout",
     "output_type": "stream",
     "text": [
      "[1, 2, 3, 4, 5, 6, 1, 2, 3, 4, 5, 6]\n"
     ]
    }
   ],
   "source": [
    "# Arithmetic (*)\n",
    "print(L1*2)"
   ]
  },
  {
   "cell_type": "code",
   "execution_count": 42,
   "id": "a404a697",
   "metadata": {},
   "outputs": [
    {
     "name": "stdout",
     "output_type": "stream",
     "text": [
      "False\n",
      "True\n",
      "False\n",
      "True\n"
     ]
    }
   ],
   "source": [
    "# Membership\n",
    "L1=[1,2,3,4,5]\n",
    "L2=[1,2,3,4,5,6,[7,8,9]]\n",
    "\n",
    "print(5 not in L1)\n",
    "print(10 not in L2)\n",
    "\n",
    "print([2,3,4] in L1)\n",
    "print([7,8,9] in L2)"
   ]
  },
  {
   "cell_type": "code",
   "execution_count": 45,
   "id": "2af4ef0e",
   "metadata": {},
   "outputs": [
    {
     "name": "stdout",
     "output_type": "stream",
     "text": [
      "1\n",
      "2\n",
      "3\n",
      "4\n",
      "6\n",
      "\n",
      "1\n",
      "2\n",
      "3\n",
      "4\n",
      "[5, 6]\n",
      "\n",
      "[[1, 2], [3, 4], [[5, 6], [7, 8]]]\n"
     ]
    }
   ],
   "source": [
    "# Loops\n",
    "\n",
    "L1=[1,2,3,4,6]\n",
    "L2=[1,2,3,4,[5,6]]\n",
    "L3=[[[1,2],[3,4],[[5,6],[7,8]]]]\n",
    "\n",
    "\n",
    "for i in L1:\n",
    "    print(i)\n",
    "    \n",
    "print()\n",
    "\n",
    "for i in L2:\n",
    "    print(i)\n",
    "    \n",
    "print()\n",
    "\n",
    "for i in L3:\n",
    "    print(i)"
   ]
  },
  {
   "cell_type": "markdown",
   "id": "8205f4c4",
   "metadata": {},
   "source": [
    "# List Functions"
   ]
  },
  {
   "cell_type": "code",
   "execution_count": 47,
   "id": "b2f63182",
   "metadata": {},
   "outputs": [
    {
     "name": "stdout",
     "output_type": "stream",
     "text": [
      "5\n",
      "1\n",
      "5\n",
      "[1, 2, 3, 4, 5]\n",
      "[5, 4, 3, 2, 1]\n"
     ]
    }
   ],
   "source": [
    "# len/min/max/sorted\n",
    "L=[2,1,3,4,5]\n",
    "\n",
    "print(len(L))\n",
    "print(min(L))\n",
    "print(max(L))\n",
    "print(sorted(L))\n",
    "print(sorted(L,reverse=True))"
   ]
  },
  {
   "cell_type": "code",
   "execution_count": 48,
   "id": "1897477f",
   "metadata": {},
   "outputs": [
    {
     "data": {
      "text/plain": [
       "3"
      ]
     },
     "execution_count": 48,
     "metadata": {},
     "output_type": "execute_result"
    }
   ],
   "source": [
    "# count \n",
    "L=[3,1,2,3,4,5,3]\n",
    "L.count(3)"
   ]
  },
  {
   "cell_type": "code",
   "execution_count": 50,
   "id": "0dc50928",
   "metadata": {},
   "outputs": [
    {
     "data": {
      "text/plain": [
       "4"
      ]
     },
     "execution_count": 50,
     "metadata": {},
     "output_type": "execute_result"
    }
   ],
   "source": [
    "# index\n",
    "L=[1,2,3,4,5,6]\n",
    "L.index(3)\n",
    "L.index(5)"
   ]
  },
  {
   "cell_type": "code",
   "execution_count": 2,
   "id": "c6b2bd0a",
   "metadata": {},
   "outputs": [
    {
     "name": "stdout",
     "output_type": "stream",
     "text": [
      "[6, 5, 4, 3, 2, 1]\n"
     ]
    }
   ],
   "source": [
    "# reverse\n",
    "L=[1,2,3,4,5,6]\n",
    "\n",
    "# permanently reverses the list\n",
    "L.reverse()\n",
    "print(L)"
   ]
  },
  {
   "cell_type": "code",
   "execution_count": 54,
   "id": "ea6ac9a5",
   "metadata": {},
   "outputs": [
    {
     "name": "stdout",
     "output_type": "stream",
     "text": [
      "[1, 2, 34, 6, 7]\n",
      "[1, 2, 6, 7, 34]\n",
      "[1, 2, 34, 6, 7]\n",
      "[1, 2, 6, 7, 34]\n"
     ]
    }
   ],
   "source": [
    "# sort (vs sorted)\n",
    "# sort - works on the original list\n",
    "# sorted - makes the copy of the list and the sorts it\n",
    "L=[1,2,34,6,7]\n",
    "print(L)\n",
    "print(sorted(L))\n",
    "print(L)\n",
    "L.sort()\n",
    "print(L)"
   ]
  },
  {
   "cell_type": "code",
   "execution_count": 58,
   "id": "f1234f97",
   "metadata": {},
   "outputs": [
    {
     "name": "stdout",
     "output_type": "stream",
     "text": [
      "[2, 3, 4, 5, 6, 7]\n",
      "2849656251904\n",
      "[2, 3, 4, 5, 6, 7]\n",
      "2849657106560\n"
     ]
    }
   ],
   "source": [
    "# copy -> shallow --> alag memory location pr store krna\n",
    "L=[2,3,4,5,6,7]\n",
    "print(L)\n",
    "print(id(L))\n",
    "\n",
    "L1=L.copy()\n",
    "print(L)\n",
    "print(id(L1))"
   ]
  },
  {
   "cell_type": "markdown",
   "id": "01f7e867",
   "metadata": {},
   "source": [
    "# List Comprehension"
   ]
  },
  {
   "cell_type": "markdown",
   "id": "afcec0ff",
   "metadata": {},
   "source": [
    " List Comprehension provides a concise way of creating lists.\n",
    "\n",
    "# newlist = [expression for item in iterable if condition == True]"
   ]
  },
  {
   "cell_type": "markdown",
   "id": "62350e8d",
   "metadata": {},
   "source": [
    "Advantages of List Comprehension\n",
    "\n",
    "-More time-efficient and space-efficient than loops.\n",
    "\n",
    "-Require fewer lines of code.\n",
    "\n",
    "-Transforms iterative statement into a formula."
   ]
  },
  {
   "cell_type": "code",
   "execution_count": 59,
   "id": "5aa2bf5f",
   "metadata": {},
   "outputs": [
    {
     "name": "stdout",
     "output_type": "stream",
     "text": [
      "[1, 2, 3, 4, 5, 6, 7, 8, 9, 10]\n"
     ]
    }
   ],
   "source": [
    "L=[]\n",
    "# Add 1 to 10 numbers to a list\n",
    "for i in range(1,11):\n",
    "    L.append(i)\n",
    "    \n",
    "print(L)"
   ]
  },
  {
   "cell_type": "code",
   "execution_count": 2,
   "id": "e6cd42d2",
   "metadata": {},
   "outputs": [
    {
     "name": "stdout",
     "output_type": "stream",
     "text": [
      "[1, 2, 3, 4, 5, 6, 7, 8]\n",
      "[1, 2, 3, 4, 5, 6, 7, 8]\n",
      "[1, 2, 3, 4, 5, 6, 7, 8]\n",
      "[1, 2, 3, 4, 5, 6, 7, 8]\n",
      "[1, 2, 3, 4, 5, 6, 7, 8]\n",
      "[1, 2, 3, 4, 5, 6, 7, 8]\n",
      "[1, 2, 3, 4, 5, 6, 7, 8]\n",
      "[1, 2, 3, 4, 5, 6, 7, 8]\n",
      "[1, 2, 3, 4, 5, 6, 7, 8]\n",
      "[1, 2, 3, 4, 5, 6, 7, 8]\n"
     ]
    }
   ],
   "source": [
    "for i in range(1,11):\n",
    "    print(L)"
   ]
  },
  {
   "cell_type": "code",
   "execution_count": 3,
   "id": "20802838",
   "metadata": {
    "scrolled": true
   },
   "outputs": [
    {
     "name": "stdout",
     "output_type": "stream",
     "text": [
      "[1, 2, 3, 4, 5, 6, 7, 8, 9, 10]\n"
     ]
    }
   ],
   "source": [
    "L=[i for i in range(1,11)]\n",
    "print(L)\n",
    "# print(i for i in range(1,11))"
   ]
  },
  {
   "cell_type": "code",
   "execution_count": 67,
   "id": "889ff4ea",
   "metadata": {},
   "outputs": [
    {
     "data": {
      "text/plain": [
       "[-6, -9, -12]"
      ]
     },
     "execution_count": 67,
     "metadata": {},
     "output_type": "execute_result"
    }
   ],
   "source": [
    "# scalar multiplication on a vector\n",
    "v=[2,3,4]\n",
    "s=-3\n",
    "\n",
    "[s*i for i in v]"
   ]
  },
  {
   "cell_type": "code",
   "execution_count": 68,
   "id": "11d73d99",
   "metadata": {},
   "outputs": [
    {
     "data": {
      "text/plain": [
       "[-1, 0, 1]"
      ]
     },
     "execution_count": 68,
     "metadata": {},
     "output_type": "execute_result"
    }
   ],
   "source": [
    "[s+i for i in v]"
   ]
  },
  {
   "cell_type": "code",
   "execution_count": 69,
   "id": "2ecde01e",
   "metadata": {},
   "outputs": [
    {
     "data": {
      "text/plain": [
       "[9, -27, 81]"
      ]
     },
     "execution_count": 69,
     "metadata": {},
     "output_type": "execute_result"
    }
   ],
   "source": [
    "# Add squares\n",
    "[s**i for i in v]"
   ]
  },
  {
   "cell_type": "code",
   "execution_count": 70,
   "id": "1119205d",
   "metadata": {},
   "outputs": [
    {
     "data": {
      "text/plain": [
       "[5, 10, 15, 20, 25, 30, 35, 40, 45, 50]"
      ]
     },
     "execution_count": 70,
     "metadata": {},
     "output_type": "execute_result"
    }
   ],
   "source": [
    "# Print all numbers divisible by 5 in the range of 1 to 50\n",
    "\n",
    "[i for i in range(1,51) if i%5==0]"
   ]
  },
  {
   "cell_type": "code",
   "execution_count": 72,
   "id": "c721bb4b",
   "metadata": {},
   "outputs": [
    {
     "data": {
      "text/plain": [
       "['java', 'javascript']"
      ]
     },
     "execution_count": 72,
     "metadata": {},
     "output_type": "execute_result"
    }
   ],
   "source": [
    "# find languages which start with letter p\n",
    "languages= ['java','python','php','c','javascript']\n",
    "[language for language in languages if language.startswith('p')]\n",
    "[language for language in languages if language.startswith('j')]"
   ]
  },
  {
   "cell_type": "code",
   "execution_count": 1,
   "id": "962a4176",
   "metadata": {},
   "outputs": [
    {
     "data": {
      "text/plain": [
       "['apple']"
      ]
     },
     "execution_count": 1,
     "metadata": {},
     "output_type": "execute_result"
    }
   ],
   "source": [
    "# Nested if with List Comprehension\n",
    "basket=['apple','mango','banana','kiwi','cherry']\n",
    "fruits=['apple','grapes','banana','orange']\n",
    "\n",
    "# add new list from my_fruits and items if the fruit exists in basket and also starts with 'a'\n",
    "[fruit for fruit in fruits if fruit in basket if fruit.startswith('a')]"
   ]
  },
  {
   "cell_type": "code",
   "execution_count": 2,
   "id": "8cfb04f3",
   "metadata": {},
   "outputs": [
    {
     "data": {
      "text/plain": [
       "[[1, 2, 3], [2, 4, 6], [3, 6, 9]]"
      ]
     },
     "execution_count": 2,
     "metadata": {},
     "output_type": "execute_result"
    }
   ],
   "source": [
    "# Print a (3,3) matrix using list comprehension -> Nested List comprehension\n",
    "[[i*j for i in range(1,4)] for j in range(1,4)]"
   ]
  },
  {
   "cell_type": "code",
   "execution_count": 3,
   "id": "79525776",
   "metadata": {},
   "outputs": [
    {
     "data": {
      "text/plain": [
       "[5, 6, 7, 8, 10, 12, 14, 16, 15, 18, 21, 24, 20, 24, 28, 32]"
      ]
     },
     "execution_count": 3,
     "metadata": {},
     "output_type": "execute_result"
    }
   ],
   "source": [
    "# cartesian products -> List comprehension on 2 lists together\n",
    "\n",
    "L1 =[1,2,3,4]\n",
    "L2 = [5,6,7,8]\n",
    "\n",
    "[i*j for i in L1 for j in L2]"
   ]
  },
  {
   "cell_type": "markdown",
   "id": "7616076e",
   "metadata": {},
   "source": [
    "# 2 ways to traverse a list\n",
    "-itemwise\n",
    "\n",
    "-indexwise"
   ]
  },
  {
   "cell_type": "code",
   "execution_count": 4,
   "id": "ca4f9298",
   "metadata": {},
   "outputs": [
    {
     "name": "stdout",
     "output_type": "stream",
     "text": [
      "1\n",
      "2\n",
      "3\n",
      "4\n",
      "5\n"
     ]
    }
   ],
   "source": [
    "# itemwise\n",
    "L=[1,2,3,4,5]\n",
    "\n",
    "for i in L:\n",
    "    print(i)"
   ]
  },
  {
   "cell_type": "code",
   "execution_count": 6,
   "id": "428c6b17",
   "metadata": {},
   "outputs": [
    {
     "name": "stdout",
     "output_type": "stream",
     "text": [
      "1\n",
      "2\n",
      "3\n",
      "4\n",
      "5\n"
     ]
    }
   ],
   "source": [
    "# indexwise\n",
    "L=[1,2,3,4,5]\n",
    "for i in range(0,len(L)):\n",
    "    print(L[i])"
   ]
  },
  {
   "cell_type": "markdown",
   "id": "98de7578",
   "metadata": {},
   "source": [
    "# Zip\n",
    "\n",
    "The zip() function returns a zip object, which is an iterator of tuples where the first item in each passed iterator is paired together, and then the second item in each passed iterator are paired together.\n",
    "\n",
    "If the passed iterators have different lengths, the iterator with the least items decides the length of the new iterator."
   ]
  },
  {
   "cell_type": "code",
   "execution_count": 3,
   "id": "d3333902",
   "metadata": {},
   "outputs": [
    {
     "data": {
      "text/plain": [
       "[(1, -1), (2, -2), (3, -3), (4, -4)]"
      ]
     },
     "execution_count": 3,
     "metadata": {},
     "output_type": "execute_result"
    }
   ],
   "source": [
    "# Write a program to add items of 2 lists indexwise\n",
    "L1 = [1,2,3,4]\n",
    "L2 = [-1,-2,-3,-4]\n",
    "\n",
    "# Index wise addition\n",
    "list(zip(L1,L2))"
   ]
  },
  {
   "cell_type": "code",
   "execution_count": 4,
   "id": "43c903db",
   "metadata": {},
   "outputs": [
    {
     "data": {
      "text/plain": [
       "[0, 0, 0, 0]"
      ]
     },
     "execution_count": 4,
     "metadata": {},
     "output_type": "execute_result"
    }
   ],
   "source": [
    "[i+j for i,j in zip(L1,L2)]"
   ]
  },
  {
   "cell_type": "markdown",
   "id": "4654d1bf",
   "metadata": {},
   "source": [
    "# Disadvantages of Python Lists\n",
    "\n",
    "-Slow\n",
    "\n",
    "-Risky usage\n",
    "\n",
    "-eats up more memory"
   ]
  },
  {
   "cell_type": "code",
   "execution_count": 5,
   "id": "37d09ae6",
   "metadata": {},
   "outputs": [
    {
     "name": "stdout",
     "output_type": "stream",
     "text": [
      "[1, 2, 3]\n",
      "[1, 2, 3]\n",
      "[1, 2, 3, 5]\n",
      "[1, 2, 3, 9]\n"
     ]
    }
   ],
   "source": [
    "# lists are mutable\n",
    "\n",
    "a = [1,2,3]\n",
    "b = a.copy()\n",
    "\n",
    "print(a)\n",
    "print(b)\n",
    "\n",
    "a.append(5)\n",
    "print(a)\n",
    "b.append(9)\n",
    "print(b)"
   ]
  },
  {
   "cell_type": "markdown",
   "id": "0684716e",
   "metadata": {},
   "source": [
    "# List Programs"
   ]
  },
  {
   "cell_type": "code",
   "execution_count": 10,
   "id": "cdacdc4f",
   "metadata": {},
   "outputs": [
    {
     "name": "stdout",
     "output_type": "stream",
     "text": [
      "[2, 4, 6, 8, 10, 12, 14, 16]\n",
      "[1, 3, 5, 7, 9, 11, 13, 15]\n"
     ]
    }
   ],
   "source": [
    "# Create 2 lists from a given list where \n",
    "# 1st list will contain all the odd numbers from the original list and\n",
    "# the 2nd one will contain all the even numbers \n",
    "L=[1,2,3,4,5,6,7,8,9,10,11,12,13,14,15,16]\n",
    "\n",
    "L1=[i for i in L if i%2==0]\n",
    "print(L1)\n",
    "\n",
    "L2=[i for i in L if i%2!=0]\n",
    "print(L2)"
   ]
  },
  {
   "cell_type": "code",
   "execution_count": 13,
   "id": "a0dacd2c",
   "metadata": {},
   "outputs": [
    {
     "name": "stdout",
     "output_type": "stream",
     "text": [
      "[1, 2, 3, 4, 5, 6, 7, 8, 9, 10]\n"
     ]
    }
   ],
   "source": [
    "## Write a program to merge 2 list without using the + operator\n",
    "L=[1,2,3,4,5]\n",
    "L1= [6,7,8,9,10]\n",
    "\n",
    "L.extend(L1)\n",
    "print(L)"
   ]
  }
 ],
 "metadata": {
  "kernelspec": {
   "display_name": "Python 3 (ipykernel)",
   "language": "python",
   "name": "python3"
  },
  "language_info": {
   "codemirror_mode": {
    "name": "ipython",
    "version": 3
   },
   "file_extension": ".py",
   "mimetype": "text/x-python",
   "name": "python",
   "nbconvert_exporter": "python",
   "pygments_lexer": "ipython3",
   "version": "3.11.3"
  }
 },
 "nbformat": 4,
 "nbformat_minor": 5
}
