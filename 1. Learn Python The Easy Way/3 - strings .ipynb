{
 "cells": [
  {
   "cell_type": "markdown",
   "id": "fdc9d7be",
   "metadata": {},
   "source": [
    "### By - Aastha Agarwal \n",
    "###  LinkedIn - https://www.linkedin.com/in/aasthaa1jan/"
   ]
  },
  {
   "cell_type": "markdown",
   "id": "3f389d33",
   "metadata": {},
   "source": [
    "# Topic 3 : STRINGS"
   ]
  },
  {
   "cell_type": "markdown",
   "id": "8d381d87",
   "metadata": {},
   "source": [
    "# STRINGS"
   ]
  },
  {
   "cell_type": "code",
   "execution_count": 2,
   "id": "69e51368",
   "metadata": {},
   "outputs": [],
   "source": [
    "# Strings -> sequence of Unicode Characters\n",
    "\n",
    "# 1.Creating \n",
    "# 2.Accessing\n",
    "# 3.Adding Chars to Strings\n",
    "# 4.Editing\n",
    "# 5.Deleting\n",
    "# 6.Operations on Strings \n",
    "# 7.String Functions"
   ]
  },
  {
   "cell_type": "code",
   "execution_count": 7,
   "id": "ffd4063d",
   "metadata": {},
   "outputs": [
    {
     "name": "stdout",
     "output_type": "stream",
     "text": [
      "hello\n",
      "hi\n",
      "Triple Quotes...\n",
      "Triple Double Quotes...\n"
     ]
    }
   ],
   "source": [
    "# 1.Creating \n",
    "\n",
    "s='hello'\n",
    "print(s)\n",
    "s=\"hi\"\n",
    "print(s)\n",
    "s='''Triple Quotes...'''  #MULTILINE \n",
    "print(s)\n",
    "s=\"\"\"Triple Double Quotes...\"\"\"\n",
    "print(s)"
   ]
  },
  {
   "cell_type": "code",
   "execution_count": 12,
   "id": "cacd1075",
   "metadata": {},
   "outputs": [
    {
     "name": "stdout",
     "output_type": "stream",
     "text": [
      "h\n",
      "e\n"
     ]
    }
   ],
   "source": [
    "# 2.Accessing\n",
    "# indexing\n",
    "\n",
    "# positive indexing\n",
    "s='Hello there.'\n",
    "print(s[7])\n",
    "\n",
    "# negative indexing\n",
    "s='Hello there.'\n",
    "print(s[-4])"
   ]
  },
  {
   "cell_type": "code",
   "execution_count": 23,
   "id": "85cca08c",
   "metadata": {},
   "outputs": [
    {
     "name": "stdout",
     "output_type": "stream",
     "text": [
      "Hello\n",
      "Hello there.\n",
      "Hlot\n",
      "eht olleH\n",
      ".ereht olleH\n"
     ]
    }
   ],
   "source": [
    "# slicing\n",
    "s='Hello there.'\n",
    "print(s[0:5])\n",
    "\n",
    "print(s[:])\n",
    "\n",
    "print(s[0:7:2])\n",
    "\n",
    "# reverse\n",
    "print(s[8::-1])\n",
    "print(s[::-1])"
   ]
  },
  {
   "cell_type": "code",
   "execution_count": 24,
   "id": "8dfde3db",
   "metadata": {},
   "outputs": [],
   "source": [
    "# slicing using negative indexing"
   ]
  },
  {
   "cell_type": "code",
   "execution_count": 27,
   "id": "3d9d90d4",
   "metadata": {},
   "outputs": [
    {
     "name": "stdout",
     "output_type": "stream",
     "text": [
      "ereht\n"
     ]
    }
   ],
   "source": [
    "s='Hello there'\n",
    "print(s[-1:-6:-1])"
   ]
  },
  {
   "cell_type": "code",
   "execution_count": 31,
   "id": "1804dd4b",
   "metadata": {},
   "outputs": [],
   "source": [
    "# 3.Adding Chars to Strings\n"
   ]
  },
  {
   "cell_type": "code",
   "execution_count": 30,
   "id": "b593fda2",
   "metadata": {},
   "outputs": [
    {
     "ename": "TypeError",
     "evalue": "'str' object does not support item assignment",
     "output_type": "error",
     "traceback": [
      "\u001b[1;31m---------------------------------------------------------------------------\u001b[0m",
      "\u001b[1;31mTypeError\u001b[0m                                 Traceback (most recent call last)",
      "\u001b[1;32m~\\AppData\\Local\\Temp\\ipykernel_10548\\615006980.py\u001b[0m in \u001b[0;36m<module>\u001b[1;34m\u001b[0m\n\u001b[0;32m      1\u001b[0m \u001b[1;31m# Edit / Delete a string\u001b[0m\u001b[1;33m\u001b[0m\u001b[1;33m\u001b[0m\u001b[0m\n\u001b[0;32m      2\u001b[0m \u001b[0ms\u001b[0m\u001b[1;33m=\u001b[0m\u001b[1;34m'Hello World..'\u001b[0m\u001b[1;33m\u001b[0m\u001b[1;33m\u001b[0m\u001b[0m\n\u001b[1;32m----> 3\u001b[1;33m \u001b[0ms\u001b[0m\u001b[1;33m[\u001b[0m\u001b[1;36m0\u001b[0m\u001b[1;33m]\u001b[0m\u001b[1;33m=\u001b[0m\u001b[1;34m'H'\u001b[0m\u001b[1;33m\u001b[0m\u001b[1;33m\u001b[0m\u001b[0m\n\u001b[0m",
      "\u001b[1;31mTypeError\u001b[0m: 'str' object does not support item assignment"
     ]
    }
   ],
   "source": [
    "# 4.Edit / Delete a string\n",
    "s='Hello World..'\n",
    "s[0]='H'   \n",
    "# PYTHON STRINGS ARE IMMUTABLE"
   ]
  },
  {
   "cell_type": "code",
   "execution_count": 32,
   "id": "d6b6f031",
   "metadata": {},
   "outputs": [
    {
     "ename": "NameError",
     "evalue": "name 'a' is not defined",
     "output_type": "error",
     "traceback": [
      "\u001b[1;31m---------------------------------------------------------------------------\u001b[0m",
      "\u001b[1;31mNameError\u001b[0m                                 Traceback (most recent call last)",
      "\u001b[1;32m~\\AppData\\Local\\Temp\\ipykernel_10548\\2092044021.py\u001b[0m in \u001b[0;36m<module>\u001b[1;34m\u001b[0m\n\u001b[0;32m      1\u001b[0m \u001b[0ma\u001b[0m\u001b[1;33m=\u001b[0m\u001b[1;34m\"Aastha Agarwal\"\u001b[0m\u001b[1;33m\u001b[0m\u001b[1;33m\u001b[0m\u001b[0m\n\u001b[0;32m      2\u001b[0m \u001b[1;32mdel\u001b[0m\u001b[1;33m(\u001b[0m\u001b[0ma\u001b[0m\u001b[1;33m)\u001b[0m\u001b[1;33m\u001b[0m\u001b[1;33m\u001b[0m\u001b[0m\n\u001b[1;32m----> 3\u001b[1;33m \u001b[0mprint\u001b[0m\u001b[1;33m(\u001b[0m\u001b[0ma\u001b[0m\u001b[1;33m)\u001b[0m\u001b[1;33m\u001b[0m\u001b[1;33m\u001b[0m\u001b[0m\n\u001b[0m",
      "\u001b[1;31mNameError\u001b[0m: name 'a' is not defined"
     ]
    }
   ],
   "source": [
    "a=\"Aastha Agarwal\"\n",
    "del(a)\n",
    "print(a)\n",
    "# Not defined as the string is delete "
   ]
  },
  {
   "cell_type": "markdown",
   "id": "a26c24be",
   "metadata": {},
   "source": [
    "# Operations in strings\n"
   ]
  },
  {
   "cell_type": "markdown",
   "id": "a3dcc44c",
   "metadata": {},
   "source": [
    "# i.Arithmetic Operations\n"
   ]
  },
  {
   "cell_type": "code",
   "execution_count": 44,
   "id": "6851b9a3",
   "metadata": {},
   "outputs": [
    {
     "name": "stdout",
     "output_type": "stream",
     "text": [
      "Aastha Agarwal\n",
      "Aastha Aastha Aastha \n",
      "**************************************************\n"
     ]
    }
   ],
   "source": [
    "print('Aastha'+' '+'Agarwal')\n",
    "\n",
    "print('Aastha '*3)\n",
    "\n",
    "print('*'*50)"
   ]
  },
  {
   "cell_type": "markdown",
   "id": "e488dacf",
   "metadata": {},
   "source": [
    "# ii.Relational Operations"
   ]
  },
  {
   "cell_type": "code",
   "execution_count": 43,
   "id": "a423ed44",
   "metadata": {},
   "outputs": [
    {
     "data": {
      "text/plain": [
       "False"
      ]
     },
     "execution_count": 43,
     "metadata": {},
     "output_type": "execute_result"
    }
   ],
   "source": [
    "'delhi'=='Delhi'"
   ]
  },
  {
   "cell_type": "code",
   "execution_count": 40,
   "id": "948f0cc0",
   "metadata": {},
   "outputs": [
    {
     "data": {
      "text/plain": [
       "True"
      ]
     },
     "execution_count": 40,
     "metadata": {},
     "output_type": "execute_result"
    }
   ],
   "source": [
    "'Mumbai'<'Pune'\n",
    "# lexiographically order"
   ]
  },
  {
   "cell_type": "code",
   "execution_count": 41,
   "id": "bc8e5e0a",
   "metadata": {},
   "outputs": [
    {
     "data": {
      "text/plain": [
       "True"
      ]
     },
     "execution_count": 41,
     "metadata": {},
     "output_type": "execute_result"
    }
   ],
   "source": [
    "'delhi'>'Delhi'"
   ]
  },
  {
   "cell_type": "markdown",
   "id": "aa1905f9",
   "metadata": {},
   "source": [
    "# iii.Logical Operations"
   ]
  },
  {
   "cell_type": "code",
   "execution_count": 46,
   "id": "cf34eeab",
   "metadata": {},
   "outputs": [
    {
     "data": {
      "text/plain": [
       "'hello'"
      ]
     },
     "execution_count": 46,
     "metadata": {},
     "output_type": "execute_result"
    }
   ],
   "source": [
    "'Hello' and 'hello'\n",
    "\n",
    "# 1 AND 1\n",
    "\n",
    "# Agar string me characters h toh TRUE hai \n",
    "# Agar string null h to FALSE h"
   ]
  },
  {
   "cell_type": "code",
   "execution_count": 47,
   "id": "6d54a18c",
   "metadata": {},
   "outputs": [
    {
     "data": {
      "text/plain": [
       "'Hello'"
      ]
     },
     "execution_count": 47,
     "metadata": {},
     "output_type": "execute_result"
    }
   ],
   "source": [
    "'Hello' or 'hello'\n",
    "# 1 OR 1=1"
   ]
  },
  {
   "cell_type": "code",
   "execution_count": 48,
   "id": "0778660d",
   "metadata": {},
   "outputs": [
    {
     "data": {
      "text/plain": [
       "''"
      ]
     },
     "execution_count": 48,
     "metadata": {},
     "output_type": "execute_result"
    }
   ],
   "source": [
    "'' and 'Hiii'\n",
    "# 0 and 1"
   ]
  },
  {
   "cell_type": "code",
   "execution_count": 49,
   "id": "fbcd58bd",
   "metadata": {},
   "outputs": [
    {
     "data": {
      "text/plain": [
       "'Hiii'"
      ]
     },
     "execution_count": 49,
     "metadata": {},
     "output_type": "execute_result"
    }
   ],
   "source": [
    "'Hiii' or ''\n",
    "# 1 or 0"
   ]
  },
  {
   "cell_type": "code",
   "execution_count": 50,
   "id": "d0b955c0",
   "metadata": {},
   "outputs": [
    {
     "data": {
      "text/plain": [
       "True"
      ]
     },
     "execution_count": 50,
     "metadata": {},
     "output_type": "execute_result"
    }
   ],
   "source": [
    "not ''"
   ]
  },
  {
   "cell_type": "code",
   "execution_count": 51,
   "id": "d1c8d505",
   "metadata": {},
   "outputs": [
    {
     "data": {
      "text/plain": [
       "False"
      ]
     },
     "execution_count": 51,
     "metadata": {},
     "output_type": "execute_result"
    }
   ],
   "source": [
    "not 'Hiii'"
   ]
  },
  {
   "cell_type": "markdown",
   "id": "c0ad97c3",
   "metadata": {},
   "source": [
    "# iv.Loops"
   ]
  },
  {
   "cell_type": "code",
   "execution_count": 52,
   "id": "cefa4457",
   "metadata": {},
   "outputs": [
    {
     "name": "stdout",
     "output_type": "stream",
     "text": [
      "pune\n",
      "pune\n",
      "pune\n",
      "pune\n",
      "pune\n"
     ]
    }
   ],
   "source": [
    "for i in 'Delhi':\n",
    "    print('pune')\n",
    "    \n",
    "    \n",
    "# loop utni baar chalega jitne no of characters ho"
   ]
  },
  {
   "cell_type": "code",
   "execution_count": 53,
   "id": "0b2fa14d",
   "metadata": {},
   "outputs": [
    {
     "data": {
      "text/plain": [
       "False"
      ]
     },
     "execution_count": 53,
     "metadata": {},
     "output_type": "execute_result"
    }
   ],
   "source": [
    " 'D' in 'delhi'"
   ]
  },
  {
   "cell_type": "markdown",
   "id": "75ce3cc4",
   "metadata": {},
   "source": [
    "# String Functions"
   ]
  },
  {
   "cell_type": "markdown",
   "id": "2e5537f4",
   "metadata": {},
   "source": [
    "Common Functions\n",
    "\n",
    "* len\n",
    "* max\n",
    "* min\n",
    "* sorted\n"
   ]
  },
  {
   "cell_type": "code",
   "execution_count": 55,
   "id": "525ee28d",
   "metadata": {},
   "outputs": [
    {
     "data": {
      "text/plain": [
       "5"
      ]
     },
     "execution_count": 55,
     "metadata": {},
     "output_type": "execute_result"
    }
   ],
   "source": [
    "len('Hello')"
   ]
  },
  {
   "cell_type": "code",
   "execution_count": 56,
   "id": "42095948",
   "metadata": {},
   "outputs": [
    {
     "data": {
      "text/plain": [
       "'o'"
      ]
     },
     "execution_count": 56,
     "metadata": {},
     "output_type": "execute_result"
    }
   ],
   "source": [
    "max('Hello')"
   ]
  },
  {
   "cell_type": "code",
   "execution_count": 57,
   "id": "f35a01a8",
   "metadata": {},
   "outputs": [
    {
     "data": {
      "text/plain": [
       "'H'"
      ]
     },
     "execution_count": 57,
     "metadata": {},
     "output_type": "execute_result"
    }
   ],
   "source": [
    "min('Hello')"
   ]
  },
  {
   "cell_type": "code",
   "execution_count": 58,
   "id": "8723cc50",
   "metadata": {},
   "outputs": [
    {
     "data": {
      "text/plain": [
       "[' ', 'H', 'W', 'd', 'e', 'l', 'l', 'l', 'o', 'o', 'r']"
      ]
     },
     "execution_count": 58,
     "metadata": {},
     "output_type": "execute_result"
    }
   ],
   "source": [
    "sorted('Hello World')"
   ]
  },
  {
   "cell_type": "markdown",
   "id": "26c684a4",
   "metadata": {},
   "source": [
    "Capitalize / Title / Upper / Lower / SwapCase"
   ]
  },
  {
   "cell_type": "code",
   "execution_count": 61,
   "id": "40638987",
   "metadata": {},
   "outputs": [
    {
     "data": {
      "text/plain": [
       "'Hello'"
      ]
     },
     "execution_count": 61,
     "metadata": {},
     "output_type": "execute_result"
    }
   ],
   "source": [
    "s='Hello'\n",
    "s.capitalize()"
   ]
  },
  {
   "cell_type": "code",
   "execution_count": 62,
   "id": "024d5b84",
   "metadata": {},
   "outputs": [
    {
     "data": {
      "text/plain": [
       "'Hello'"
      ]
     },
     "execution_count": 62,
     "metadata": {},
     "output_type": "execute_result"
    }
   ],
   "source": [
    "s.title()"
   ]
  },
  {
   "cell_type": "code",
   "execution_count": 63,
   "id": "27c27e94",
   "metadata": {},
   "outputs": [
    {
     "data": {
      "text/plain": [
       "'HELLO'"
      ]
     },
     "execution_count": 63,
     "metadata": {},
     "output_type": "execute_result"
    }
   ],
   "source": [
    "s.upper()"
   ]
  },
  {
   "cell_type": "code",
   "execution_count": 64,
   "id": "45a6d646",
   "metadata": {},
   "outputs": [
    {
     "data": {
      "text/plain": [
       "'hello'"
      ]
     },
     "execution_count": 64,
     "metadata": {},
     "output_type": "execute_result"
    }
   ],
   "source": [
    "s.lower()"
   ]
  },
  {
   "cell_type": "code",
   "execution_count": 66,
   "id": "d5c3d60f",
   "metadata": {},
   "outputs": [
    {
     "data": {
      "text/plain": [
       "'hElLo wOrlD'"
      ]
     },
     "execution_count": 66,
     "metadata": {},
     "output_type": "execute_result"
    }
   ],
   "source": [
    "a='HeLlO WoRLd'\n",
    "a.swapcase()"
   ]
  },
  {
   "cell_type": "markdown",
   "id": "f1e2adaf",
   "metadata": {},
   "source": [
    "Count / Find / Index"
   ]
  },
  {
   "cell_type": "code",
   "execution_count": 69,
   "id": "4b73336c",
   "metadata": {},
   "outputs": [
    {
     "data": {
      "text/plain": [
       "5"
      ]
     },
     "execution_count": 69,
     "metadata": {},
     "output_type": "execute_result"
    }
   ],
   "source": [
    "'My name is Aastha Agarwal.'.count('a')"
   ]
  },
  {
   "cell_type": "code",
   "execution_count": 70,
   "id": "9bb5a2ce",
   "metadata": {},
   "outputs": [
    {
     "data": {
      "text/plain": [
       "8"
      ]
     },
     "execution_count": 70,
     "metadata": {},
     "output_type": "execute_result"
    }
   ],
   "source": [
    "'My name is Aastha Agarwal.'.find('is')\n",
    "# -1 for not found"
   ]
  },
  {
   "cell_type": "code",
   "execution_count": 72,
   "id": "e7cf7529",
   "metadata": {},
   "outputs": [
    {
     "data": {
      "text/plain": [
       "4"
      ]
     },
     "execution_count": 72,
     "metadata": {},
     "output_type": "execute_result"
    }
   ],
   "source": [
    "'My name is Aastha Agarwal.'.index('a')\n",
    "# error if not found"
   ]
  },
  {
   "cell_type": "markdown",
   "id": "474db102",
   "metadata": {},
   "source": [
    "endswith / startwith"
   ]
  },
  {
   "cell_type": "code",
   "execution_count": 73,
   "id": "11be33b9",
   "metadata": {},
   "outputs": [
    {
     "data": {
      "text/plain": [
       "True"
      ]
     },
     "execution_count": 73,
     "metadata": {},
     "output_type": "execute_result"
    }
   ],
   "source": [
    "'My name is Aastha Agarwal.'.endswith('al.')"
   ]
  },
  {
   "cell_type": "code",
   "execution_count": 95,
   "id": "649db62f",
   "metadata": {},
   "outputs": [
    {
     "data": {
      "text/plain": [
       "True"
      ]
     },
     "execution_count": 95,
     "metadata": {},
     "output_type": "execute_result"
    }
   ],
   "source": [
    "'My name is Aastha Agarwal.'.startswith('My')"
   ]
  },
  {
   "cell_type": "markdown",
   "id": "c4f9aac7",
   "metadata": {},
   "source": [
    "format"
   ]
  },
  {
   "cell_type": "code",
   "execution_count": 83,
   "id": "8df2cb4e",
   "metadata": {},
   "outputs": [
    {
     "data": {
      "text/plain": [
       "'Hi my name is Aastha and I am a female'"
      ]
     },
     "execution_count": 83,
     "metadata": {},
     "output_type": "execute_result"
    }
   ],
   "source": [
    "name='Aastha'\n",
    "gender='female'\n",
    "\n",
    "'Hi my name is {} and I am a {}'.format(name,gender)"
   ]
  },
  {
   "cell_type": "code",
   "execution_count": 85,
   "id": "42b8ad0c",
   "metadata": {},
   "outputs": [
    {
     "data": {
      "text/plain": [
       "'Hi my name is Aastha & I am a female'"
      ]
     },
     "execution_count": 85,
     "metadata": {},
     "output_type": "execute_result"
    }
   ],
   "source": [
    "'Hi my name is {1} & I am a {0}'.format(gender,name)"
   ]
  },
  {
   "cell_type": "markdown",
   "id": "a5ba675a",
   "metadata": {},
   "source": [
    "isalnum / isalpha / isdigit / isidentifier"
   ]
  },
  {
   "cell_type": "code",
   "execution_count": 86,
   "id": "3e3253e9",
   "metadata": {},
   "outputs": [
    {
     "data": {
      "text/plain": [
       "True"
      ]
     },
     "execution_count": 86,
     "metadata": {},
     "output_type": "execute_result"
    }
   ],
   "source": [
    "'Aastha1Jan'.isalnum()"
   ]
  },
  {
   "cell_type": "code",
   "execution_count": 87,
   "id": "ebb9c0ce",
   "metadata": {},
   "outputs": [
    {
     "data": {
      "text/plain": [
       "True"
      ]
     },
     "execution_count": 87,
     "metadata": {},
     "output_type": "execute_result"
    }
   ],
   "source": [
    "'Aastha'.isalnum()"
   ]
  },
  {
   "cell_type": "code",
   "execution_count": 91,
   "id": "504b1ada",
   "metadata": {},
   "outputs": [
    {
     "data": {
      "text/plain": [
       "True"
      ]
     },
     "execution_count": 91,
     "metadata": {},
     "output_type": "execute_result"
    }
   ],
   "source": [
    "'01012002'.isdigit()"
   ]
  },
  {
   "cell_type": "code",
   "execution_count": 94,
   "id": "5fecce0b",
   "metadata": {},
   "outputs": [
    {
     "name": "stdout",
     "output_type": "stream",
     "text": [
      "True\n",
      "False\n"
     ]
    }
   ],
   "source": [
    "print('Aastha1Jan'.isidentifier())\n",
    "print('1Aastha1Jan'.isidentifier())"
   ]
  },
  {
   "cell_type": "markdown",
   "id": "9e5292b6",
   "metadata": {},
   "source": [
    "Split / Join"
   ]
  },
  {
   "cell_type": "code",
   "execution_count": 99,
   "id": "488e63ab",
   "metadata": {},
   "outputs": [
    {
     "data": {
      "text/plain": [
       "['My', 'name', 'is', 'Aastha', 'Agarwal.']"
      ]
     },
     "execution_count": 99,
     "metadata": {},
     "output_type": "execute_result"
    }
   ],
   "source": [
    "'My name is Aastha Agarwal.'.split()"
   ]
  },
  {
   "cell_type": "code",
   "execution_count": 102,
   "id": "e4f42bd5",
   "metadata": {},
   "outputs": [
    {
     "data": {
      "text/plain": [
       "'My name is Aastha Agarwal.'"
      ]
     },
     "execution_count": 102,
     "metadata": {},
     "output_type": "execute_result"
    }
   ],
   "source": [
    "' '.join(['My', 'name', 'is', 'Aastha', 'Agarwal.'])"
   ]
  },
  {
   "cell_type": "markdown",
   "id": "38bafb30",
   "metadata": {},
   "source": [
    "Replace"
   ]
  },
  {
   "cell_type": "code",
   "execution_count": 103,
   "id": "ef1eed61",
   "metadata": {},
   "outputs": [
    {
     "data": {
      "text/plain": [
       "'My name is Campusx Agarwal.'"
      ]
     },
     "execution_count": 103,
     "metadata": {},
     "output_type": "execute_result"
    }
   ],
   "source": [
    "'My name is Aastha Agarwal.'.replace('Aastha','Campusx')"
   ]
  },
  {
   "cell_type": "markdown",
   "id": "7091aeda",
   "metadata": {},
   "source": [
    "Strip"
   ]
  },
  {
   "cell_type": "code",
   "execution_count": 105,
   "id": "45487b10",
   "metadata": {},
   "outputs": [
    {
     "data": {
      "text/plain": [
       "'Aastha'"
      ]
     },
     "execution_count": 105,
     "metadata": {},
     "output_type": "execute_result"
    }
   ],
   "source": [
    "'Aastha                      '.strip()\n",
    "# remove trailing spacing"
   ]
  }
 ],
 "metadata": {
  "kernelspec": {
   "display_name": "Python 3 (ipykernel)",
   "language": "python",
   "name": "python3"
  },
  "language_info": {
   "codemirror_mode": {
    "name": "ipython",
    "version": 3
   },
   "file_extension": ".py",
   "mimetype": "text/x-python",
   "name": "python",
   "nbconvert_exporter": "python",
   "pygments_lexer": "ipython3",
   "version": "3.11.3"
  }
 },
 "nbformat": 4,
 "nbformat_minor": 5
}
