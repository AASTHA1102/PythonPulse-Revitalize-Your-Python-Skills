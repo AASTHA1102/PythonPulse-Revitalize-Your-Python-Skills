{
 "cells": [
  {
   "cell_type": "markdown",
   "id": "0233db3e",
   "metadata": {},
   "source": [
    "### By - Aastha Agarwal \n",
    "### LinkedIn - https://www.linkedin.com/in/aasthaa1jan/"
   ]
  },
  {
   "cell_type": "markdown",
   "id": "ae586628",
   "metadata": {},
   "source": [
    "# Topic 2 : OPERATORS , IF ELSE STATEMENTS & LOOPS"
   ]
  },
  {
   "cell_type": "markdown",
   "id": "8bfde9b4",
   "metadata": {},
   "source": [
    "# 1. Operators in Python"
   ]
  },
  {
   "cell_type": "code",
   "execution_count": 2,
   "id": "6bc72582",
   "metadata": {},
   "outputs": [],
   "source": [
    "#Arithmetic\n",
    "#Relational\n",
    "#Logical\n",
    "#Bitwise\n",
    "#Assignment\n",
    "#Membership"
   ]
  },
  {
   "cell_type": "code",
   "execution_count": 3,
   "id": "a3bc731f",
   "metadata": {},
   "outputs": [
    {
     "name": "stdout",
     "output_type": "stream",
     "text": [
      "11\n",
      "-3\n",
      "4.5\n",
      "4\n",
      "1\n",
      "81\n"
     ]
    }
   ],
   "source": [
    "#Arithmetic\n",
    "print(5+6)\n",
    "\n",
    "print(7-10)\n",
    "\n",
    "print(9/2)\n",
    "\n",
    "print(9//2)\n",
    "\n",
    "print(9%2)\n",
    "\n",
    "print(9**2)"
   ]
  },
  {
   "cell_type": "code",
   "execution_count": 4,
   "id": "f101d69c",
   "metadata": {},
   "outputs": [
    {
     "name": "stdout",
     "output_type": "stream",
     "text": [
      "False\n",
      "True\n",
      "True\n",
      "False\n",
      "False\n",
      "True\n",
      "True\n"
     ]
    }
   ],
   "source": [
    "#Relational\n",
    "\n",
    "print(4>5)\n",
    "\n",
    "print(4<5)\n",
    "\n",
    "print(4<=5)\n",
    "\n",
    "print(4>=5)\n",
    "\n",
    "print(4==5)\n",
    "\n",
    "print(5==5)\n",
    "\n",
    "print(4!=5)"
   ]
  },
  {
   "cell_type": "code",
   "execution_count": 5,
   "id": "845facc2",
   "metadata": {},
   "outputs": [
    {
     "name": "stdout",
     "output_type": "stream",
     "text": [
      "0\n",
      "1\n",
      "False\n"
     ]
    }
   ],
   "source": [
    "#Logical\n",
    "print(1 and 0)\n",
    "\n",
    "print(1 or 0)\n",
    "\n",
    "print(not 1)"
   ]
  },
  {
   "cell_type": "code",
   "execution_count": 6,
   "id": "8e55b0f4",
   "metadata": {},
   "outputs": [
    {
     "name": "stdout",
     "output_type": "stream",
     "text": [
      "2\n",
      "3\n",
      "1\n",
      "-4\n",
      "1\n",
      "20\n"
     ]
    }
   ],
   "source": [
    "# Bitwise\n",
    "\n",
    "# AND\n",
    "print(2&3)\n",
    "# 010 -> 2\n",
    "# 110 -> 3\n",
    "# ---\n",
    "# 010\n",
    "\n",
    "# OR\n",
    "print(2|3)\n",
    "# 010 -> 2\n",
    "# 110 -> 3\n",
    "# ---\n",
    "# 110\n",
    "\n",
    "# XOR --> same =0 \n",
    "print(2^3)\n",
    "# 010 -> 2\n",
    "# 110 -> 3\n",
    "# ---\n",
    "# 100\n",
    "\n",
    "# NOT\n",
    "print(~3)\n",
    "\n",
    "# LEFT SHIFT\n",
    "print(4>>2)\n",
    "\n",
    "# RIGHT SHIFT\n",
    "print(5<<2)"
   ]
  },
  {
   "cell_type": "code",
   "execution_count": 2,
   "id": "01a5541a",
   "metadata": {},
   "outputs": [
    {
     "name": "stdout",
     "output_type": "stream",
     "text": [
      "2\n",
      "4\n"
     ]
    },
    {
     "data": {
      "text/plain": [
       "5"
      ]
     },
     "execution_count": 2,
     "metadata": {},
     "output_type": "execute_result"
    }
   ],
   "source": [
    "#Assignment (=)\n",
    "\n",
    "a=2\n",
    "print(a)\n",
    "a+=2\n",
    "print(a)\n",
    "b=10\n",
    "b-=5\n",
    "b"
   ]
  },
  {
   "cell_type": "code",
   "execution_count": 8,
   "id": "74580052",
   "metadata": {},
   "outputs": [
    {
     "name": "stdout",
     "output_type": "stream",
     "text": [
      "True\n",
      "False\n",
      "False\n",
      "True\n"
     ]
    }
   ],
   "source": [
    "#Membership -> in/not in\n",
    "\n",
    "print('D' in 'Delhi')\n",
    "print('d' in 'Delhi')\n",
    "\n",
    "\n",
    "print('D' not in 'Delhi')\n",
    "print('d' not in 'Delhi')"
   ]
  },
  {
   "cell_type": "code",
   "execution_count": 9,
   "id": "7c7a345d",
   "metadata": {},
   "outputs": [
    {
     "name": "stdout",
     "output_type": "stream",
     "text": [
      "Enter 3 Digit Number: 231\n",
      "6\n"
     ]
    }
   ],
   "source": [
    "# Sum of 3 digit numbers\n",
    " \n",
    "num=int(input('Enter 3 Digit Number: '))\n",
    "a=num%10\n",
    "num=num//10\n",
    "b=num%10\n",
    "num=num//10\n",
    "c=num%10\n",
    "num=num//10\n",
    "print(a+b+c)\n"
   ]
  },
  {
   "cell_type": "markdown",
   "id": "33ed709f",
   "metadata": {},
   "source": [
    "# 2.If-Else"
   ]
  },
  {
   "cell_type": "code",
   "execution_count": 10,
   "id": "ec682b95",
   "metadata": {},
   "outputs": [],
   "source": [
    "# if-else examples\n",
    "# 1. Find the min of 3 given numbers\n",
    "# 2. Menu Driven Program"
   ]
  },
  {
   "cell_type": "code",
   "execution_count": 11,
   "id": "263b059c",
   "metadata": {},
   "outputs": [
    {
     "name": "stdout",
     "output_type": "stream",
     "text": [
      "enter email: nitish.campusx@gmail.com\n",
      "enter password: 21\n",
      "Wrong credentials\n"
     ]
    }
   ],
   "source": [
    "# login program and indentation\n",
    "# email -> nitish.campusx@gmail.com\n",
    "# password -> 1234\n",
    "\n",
    "e=input('enter email: ')\n",
    "p=input('enter password: ')\n",
    "\n",
    "if e=='nitish.campusx@gmail.com' and p=='1234':\n",
    "    print('Welcome')\n",
    "else:\n",
    "    print('Wrong credentials')"
   ]
  },
  {
   "cell_type": "code",
   "execution_count": 12,
   "id": "21882e2b",
   "metadata": {},
   "outputs": [
    {
     "name": "stdout",
     "output_type": "stream",
     "text": [
      "enter email: nitish.campusx@gmail.com\n",
      "enter password: 123\n",
      "Wrong Password, Try Again!!!\n",
      "Enter password again: 1234\n",
      "Welcome, Finally!!\n"
     ]
    }
   ],
   "source": [
    "e=input('enter email: ')\n",
    "p=input('enter password: ')\n",
    "\n",
    "if e=='nitish.campusx@gmail.com' and p=='1234':\n",
    "    print('Welcome')\n",
    "elif e=='nitish.campusx@gmail.com' and p!='1234':\n",
    "    print('Wrong Password, Try Again!!!')\n",
    "    p=input('Enter password again: ')\n",
    "    if p=='1234':\n",
    "        print('Welcome, Finally!!')\n",
    "    else:\n",
    "        print('Wrong credentials')\n",
    "else:\n",
    "    print('Wrong credentials')"
   ]
  },
  {
   "cell_type": "code",
   "execution_count": 13,
   "id": "b55eead6",
   "metadata": {},
   "outputs": [
    {
     "name": "stdout",
     "output_type": "stream",
     "text": [
      "1st Number: 2\n",
      "2nd Number: 5\n",
      "3rd Number: 7\n",
      "c is largest\n"
     ]
    }
   ],
   "source": [
    "# Maximum of the three number\n",
    "a=int(input('1st Number: '))\n",
    "b=int(input('2nd Number: '))\n",
    "c=int(input('3rd Number: '))\n",
    "\n",
    "if a>b and a>c:\n",
    "    print('a is largest')\n",
    "elif b>a and b>c:\n",
    "    print('b is largest')\n",
    "else :\n",
    "    print('c is largest')\n",
    "    "
   ]
  },
  {
   "cell_type": "code",
   "execution_count": 3,
   "id": "b4b494e3",
   "metadata": {},
   "outputs": [
    {
     "name": "stdout",
     "output_type": "stream",
     "text": [
      "\n",
      "Hi! how can I help you.\n",
      "1. Enter 1 for pin change\n",
      "2. Enter 2 for balance check\n",
      "3. Enter 3 for withdrawl\n",
      "4. Enter 4 for exit\n",
      "2\n",
      "balance\n"
     ]
    }
   ],
   "source": [
    "# menu driven calculator\n",
    "menu = input(\"\"\"\n",
    "Hi! how can I help you.\n",
    "1. Enter 1 for pin change\n",
    "2. Enter 2 for balance check\n",
    "3. Enter 3 for withdrawl\n",
    "4. Enter 4 for exit\n",
    "\"\"\")\n",
    "\n",
    "if menu == '1':\n",
    "  print('pin change')\n",
    "elif menu == '2':\n",
    "  print('balance')\n",
    "else:\n",
    "  print('exit')"
   ]
  },
  {
   "cell_type": "markdown",
   "id": "cb799ca6",
   "metadata": {},
   "source": [
    "# 2.Modules In Python"
   ]
  },
  {
   "cell_type": "code",
   "execution_count": 15,
   "id": "42d2c63b",
   "metadata": {},
   "outputs": [],
   "source": [
    "# math\n",
    "# keywords\n",
    "# random\n",
    "# datetime"
   ]
  },
  {
   "cell_type": "code",
   "execution_count": 16,
   "id": "05e4ffd0",
   "metadata": {},
   "outputs": [
    {
     "data": {
      "text/plain": [
       "14.0"
      ]
     },
     "execution_count": 16,
     "metadata": {},
     "output_type": "execute_result"
    }
   ],
   "source": [
    "# math\n",
    "import math\n",
    "math.sqrt(196)"
   ]
  },
  {
   "cell_type": "code",
   "execution_count": 17,
   "id": "84ddd993",
   "metadata": {},
   "outputs": [
    {
     "name": "stdout",
     "output_type": "stream",
     "text": [
      "['False', 'None', 'True', '__peg_parser__', 'and', 'as', 'assert', 'async', 'await', 'break', 'class', 'continue', 'def', 'del', 'elif', 'else', 'except', 'finally', 'for', 'from', 'global', 'if', 'import', 'in', 'is', 'lambda', 'nonlocal', 'not', 'or', 'pass', 'raise', 'return', 'try', 'while', 'with', 'yield']\n"
     ]
    }
   ],
   "source": [
    "# keywords\n",
    "import keyword\n",
    "print(keyword.kwlist)"
   ]
  },
  {
   "cell_type": "code",
   "execution_count": 18,
   "id": "bfbee030",
   "metadata": {},
   "outputs": [
    {
     "name": "stdout",
     "output_type": "stream",
     "text": [
      "75\n"
     ]
    }
   ],
   "source": [
    "# random\n",
    "import random\n",
    "print(random.randint(1,100))"
   ]
  },
  {
   "cell_type": "code",
   "execution_count": 19,
   "id": "3a4a30be",
   "metadata": {},
   "outputs": [
    {
     "name": "stdout",
     "output_type": "stream",
     "text": [
      "2023-02-23 20:05:01.598836\n"
     ]
    }
   ],
   "source": [
    "# datetime\n",
    "import datetime\n",
    "print(datetime.datetime.now())"
   ]
  },
  {
   "cell_type": "code",
   "execution_count": 20,
   "id": "b540a7d1",
   "metadata": {
    "scrolled": false
   },
   "outputs": [
    {
     "name": "stdout",
     "output_type": "stream",
     "text": [
      "\n",
      "Please wait a moment while I gather a list of all available modules...\n",
      "\n"
     ]
    },
    {
     "name": "stderr",
     "output_type": "stream",
     "text": [
      "C:\\Users\\aasth\\anaconda3\\lib\\site-packages\\IPython\\kernel\\__init__.py:12: ShimWarning: The `IPython.kernel` package has been deprecated since IPython 4.0.You should import from ipykernel or jupyter_client instead.\n",
      "  warn(\"The `IPython.kernel` package has been deprecated since IPython 4.0.\"\n",
      "WARNING: AstropyDeprecationWarning: The private astropy._erfa module has been made into its own package, pyerfa, which is a dependency of astropy and can be imported directly using \"import erfa\" [astropy._erfa]\n",
      "C:\\Users\\aasth\\anaconda3\\lib\\site-packages\\paramiko\\transport.py:219: CryptographyDeprecationWarning: Blowfish has been deprecated\n",
      "  \"class\": algorithms.Blowfish,\n",
      "C:\\Users\\aasth\\anaconda3\\lib\\site-packages\\nltk\\twitter\\__init__.py:20: UserWarning: The twython library has not been installed. Some functionality from the twitter package will not be available.\n",
      "  warnings.warn(\n",
      "C:\\Users\\aasth\\anaconda3\\lib\\site-packages\\_distutils_hack\\__init__.py:33: UserWarning: Setuptools is replacing distutils.\n",
      "  warnings.warn(\"Setuptools is replacing distutils.\")\n",
      "No QCoreApplication instance found. Application patches not applied. You have to call load_stylesheet function after instantiation of QApplication to take effect. \n",
      "C:\\Users\\aasth\\anaconda3\\lib\\pkgutil.py:108: VisibleDeprecationWarning:\n",
      "\n",
      "zmq.eventloop.minitornado is deprecated in pyzmq 14.0 and will be removed.\n",
      "    Install tornado itself to use zmq with the tornado IOLoop.\n",
      "    \n",
      "\n"
     ]
    },
    {
     "name": "stdout",
     "output_type": "stream",
     "text": [
      "Cython              comtypes            mock                socks\n",
      "IPython             concurrent          modulefinder        sockshandler\n",
      "OpenSSL             conda               mpmath              sortedcollections\n",
      "PIL                 conda_build         msgpack             sortedcontainers\n",
      "PyQt5               conda_content_trust msilib              soupsieve\n",
      "TBB                 conda_env           msvcrt              sphinx\n",
      "__future__          conda_pack          multipledispatch    spyder\n",
      "_abc                conda_package_handling multiprocessing     spyder_kernels\n",
      "_aix_support        conda_token         munkres             sqlalchemy\n",
      "_argon2_cffi_bindings conda_verify        mypy_extensions     sqlite3\n",
      "_ast                configparser        nacl                sre_compile\n",
      "_asyncio            constantly          navigator_updater   sre_constants\n",
      "_bisect             contextlib          nbclassic           sre_parse\n",
      "_black_version      contextvars         nbclient            ssl\n",
      "_blake2             cookiecutter        nbconvert           sspi\n",
      "_bootlocale         copy                nbformat            sspicon\n",
      "_bootsubprocess     copyreg             nest_asyncio        stat\n",
      "_bz2                crypt               netbios             statistics\n",
      "_cffi_backend       cryptography        netrc               statsmodels\n",
      "_codecs             cssselect           networkx            storemagic\n",
      "_codecs_cn          csv                 nltk                string\n",
      "_codecs_hk          ctypes              nntplib             stringprep\n",
      "_codecs_iso2022     curl                nose                struct\n",
      "_codecs_jp          curses              notebook            subprocess\n",
      "_codecs_kr          cwp                 nt                  sunau\n",
      "_codecs_tw          cycler              ntpath              symbol\n",
      "_collections        cython              ntsecuritycon       sympy\n",
      "_collections_abc    cythonmagic         nturl2path          sympyprinting\n",
      "_compat_pickle      cytoolz             numba               symtable\n",
      "_compression        daal4py             numbergen           sys\n",
      "_contextvars        dask                numbers             sysconfig\n",
      "_csv                dataclasses         numexpr             tables\n",
      "_ctypes             datashader          numpy               tabnanny\n",
      "_ctypes_test        datashape           numpydoc            tabulate\n",
      "_datetime           datetime            odbc                tarfile\n",
      "_decimal            dateutil            olefile             tbb\n",
      "_distutils_hack     dbi                 onedal              tblib\n",
      "_elementtree        dbm                 opcode              telnetlib\n",
      "_functools          dde                 openpyxl            tempfile\n",
      "_hashlib            debugpy             operator            tenacity\n",
      "_heapq              decimal             optparse            terminado\n",
      "_imp                decorator           os                  test\n",
      "_io                 defusedxml          packaging           test_pycosat\n",
      "_json               diff_match_patch    pandas              testpath\n",
      "_locale             difflib             pandocfilters       tests\n",
      "_lsprof             dill                panel               text_unidecode\n",
      "_lzma               dis                 param               textdistance\n",
      "_markupbase         distributed         paramiko            textwrap\n",
      "_md5                distutils           parsel              this\n",
      "_msi                doctest             parser              threading\n",
      "_multibytecodec     docutils            parso               threadpoolctl\n",
      "_multiprocessing    email               partd               three_merge\n",
      "_nsis               encodings           past                tifffile\n",
      "_opcode             ensurepip           pathlib             time\n",
      "_operator           entrypoints         pathspec            timeit\n",
      "_osx_support        enum                patsy               timer\n",
      "_overlapped         erfa                pdb                 tinycss\n",
      "_peg_parser         errno               pep8                tkinter\n",
      "_pickle             et_xmlfile          perfmon             tldextract\n",
      "_plotly_future_     fastjsonschema      pexpect             tlz\n",
      "_plotly_utils       faulthandler        pickle              token\n",
      "_py_abc             filecmp             pickleshare         tokenize\n",
      "_pydecimal          fileinput           pickletools         toml\n",
      "_pyio               filelock            pip                 tomli\n",
      "_pyrsistent_version flake8              pipes               tomlkit\n",
      "_pytest             flask               pkg_resources       toolz\n",
      "_queue              fnmatch             pkginfo             tornado\n",
      "_random             fontTools           pkgutil             tqdm\n",
      "_sha1               formatter           platform            trace\n",
      "_sha256             fractions           platformdirs        traceback\n",
      "_sha3               fsspec              plistlib            tracemalloc\n",
      "_sha512             ftplib              plotly              traitlets\n",
      "_signal             functools           pluggy              tty\n",
      "_sitebuiltins       future              poplib              turtle\n",
      "_socket             gc                  posixpath           turtledemo\n",
      "_sqlite3            genericpath         poyo                twisted\n",
      "_sre                gensim              pprint              types\n",
      "_ssl                getopt              profile             typing\n",
      "_stat               getpass             prometheus_client   typing_extensions\n",
      "_statistics         gettext             prompt_toolkit      ujson\n",
      "_string             glob                protego             unicodedata\n",
      "_strptime           glob2               pstats              unidecode\n",
      "_struct             graphlib            psutil              unittest\n",
      "_symtable           greenlet            pty                 urllib\n",
      "_system_path        gzip                ptyprocess          urllib3\n",
      "_testbuffer         h5py                pvectorc            uu\n",
      "_testcapi           hamcrest            py                  uuid\n",
      "_testconsole        hashlib             py_compile          venv\n",
      "_testimportmultiple heapdict            pyasn1              w3lib\n",
      "_testinternalcapi   heapq               pyasn1_modules      warnings\n",
      "_testmultiphase     hmac                pyclbr              watchdog\n",
      "_thread             holoviews           pycodestyle         wave\n",
      "_threading_local    html                pycosat             wcwidth\n",
      "_tkinter            http                pycparser           weakref\n",
      "_tracemalloc        hvplot              pyct                webbrowser\n",
      "_uuid               hyperlink           pycurl              webencodings\n",
      "_warnings           idlelib             pydispatch          websocket\n",
      "_weakref            idna                pydoc               werkzeug\n",
      "_weakrefset         imagecodecs         pydoc_data          wheel\n",
      "_win32sysloader     imageio             pydocstyle          widgetsnbextension\n",
      "_winapi             imagesize           pyexpat             win2kras\n",
      "_winxptheme         imaplib             pyflakes            win32api\n",
      "_xxsubinterpreters  imghdr              pygments            win32clipboard\n",
      "_yaml               imp                 pylab               win32com\n",
      "_zoneinfo           importlib           pylint              win32con\n",
      "abc                 importlib_metadata  pyls_spyder         win32console\n",
      "adodbapi            incremental         pylsp               win32cred\n",
      "afxres              inflection          pylsp_black         win32crypt\n",
      "aifc                iniconfig           pylsp_jsonrpc       win32cryptcon\n",
      "alabaster           inspect             pyodbc              win32ctypes\n",
      "anaconda_navigator  intake              pyparsing           win32event\n",
      "anaconda_project    intervaltree        pyrsistent          win32evtlog\n",
      "antigravity         io                  pytest              win32evtlogutil\n",
      "anyio               ipaddress           pythoncom           win32file\n",
      "appdirs             ipykernel           pytz                win32gui\n",
      "argon2              ipykernel_launcher  pyviz_comms         win32gui_struct\n",
      "argparse            ipython_genutils    pywin               win32help\n",
      "array               ipywidgets          pywin32_bootstrap   win32inet\n",
      "arrow               isapi               pywin32_testutil    win32inetcon\n",
      "ast                 isort               pywintypes          win32job\n",
      "astroid             isympy              pywt                win32lz\n",
      "astropy             itemadapter         pyximport           win32net\n",
      "asynchat            itemloaders         qdarkstyle          win32netcon\n",
      "asyncio             itertools           qstylizer           win32pdh\n",
      "asyncore            itsdangerous        qtawesome           win32pdhquery\n",
      "atexit              jdcal               qtconsole           win32pdhutil\n",
      "atomicwrites        jedi                qtpy                win32pipe\n",
      "attr                jellyfish           queue               win32print\n",
      "attrs               jinja2              queuelib            win32process\n",
      "audioop             jinja2_time         quopri              win32profile\n",
      "automat             jmespath            random              win32ras\n",
      "autopep8            joblib              rasutil             win32rcparser\n",
      "autoreload          json                re                  win32security\n",
      "babel               json5               regcheck            win32service\n",
      "backcall            jsonschema          regex               win32serviceutil\n",
      "backports           jupyter             regutil             win32timezone\n",
      "base64              jupyter_client      repo_cli            win32trace\n",
      "bcrypt              jupyter_console     reprlib             win32traceutil\n",
      "bdb                 jupyter_core        requests            win32transaction\n",
      "binaryornot         jupyter_server      requests_file       win32ts\n",
      "binascii            jupyterlab          rlcompleter         win32ui\n",
      "binhex              jupyterlab_plotly   rmagic              win32uiole\n",
      "binstar_client      jupyterlab_pygments rope                win32verstamp\n",
      "bisect              jupyterlab_server   rtree               win32wnet\n",
      "bitarray            jupyterlab_widgets  ruamel_yaml         win_inet_pton\n",
      "bkcharts            jwt                 run                 win_unicode_console\n",
      "black               keyring             runpy               wincertstore\n",
      "blackd              keyword             s3transfer          winerror\n",
      "bleach              kiwisolver          sched               winioctlcon\n",
      "blib2to3            lazy_object_proxy   scipy               winnt\n",
      "bokeh               lib2to3             scrapy              winperf\n",
      "boto3               libarchive          seaborn             winpty\n",
      "botocore            libfuturize         secrets             winreg\n",
      "bottleneck          libpasteurize       select              winsound\n",
      "brotli              lief                selectors           winxpgui\n",
      "bs4                 linecache           send2trash          winxptheme\n",
      "builtins            llvmlite            service_identity    wrapt\n",
      "bz2                 locale              servicemanager      wsgiref\n",
      "cProfile            locket              setuptools          xarray\n",
      "calendar            logging             shelve              xdrlib\n",
      "certifi             lxml                shlex               xlrd\n",
      "cffi                lz4                 shutil              xlsxwriter\n",
      "cgi                 lzma                signal              xlwings\n",
      "cgitb               mailbox             sip                 xml\n",
      "chardet             mailcap             sipconfig           xmlrpc\n",
      "charset_normalizer  markdown            sipdistutils        xxsubtype\n",
      "chunk               markupsafe          site                yaml\n",
      "click               marshal             six                 yapf\n",
      "cloudpickle         math                skimage             yapftests\n",
      "clyent              matplotlib          sklearn             zict\n",
      "cmath               matplotlib_inline   sklearnex           zipapp\n",
      "cmd                 mccabe              slugify             zipfile\n",
      "code                menuinst            smart_open          zipimport\n",
      "codecs              mimetypes           smtpd               zipp\n",
      "codeop              mistune             smtplib             zlib\n",
      "collections         mkl                 snappy              zmq\n",
      "colorama            mkl_fft             sndhdr              zoneinfo\n",
      "colorcet            mkl_random          sniffio             zope\n",
      "colorsys            mmap                snowballstemmer     \n",
      "commctrl            mmapfile            socket              \n",
      "compileall          mmsystem            socketserver        \n",
      "\n",
      "Enter any module name to get more help.  Or, type \"modules spam\" to search\n",
      "for modules whose name or summary contain the string \"spam\".\n",
      "\n"
     ]
    }
   ],
   "source": [
    "help('modules')"
   ]
  },
  {
   "cell_type": "markdown",
   "id": "54f4bc61",
   "metadata": {},
   "source": [
    "# 3.LOOPS"
   ]
  },
  {
   "cell_type": "code",
   "execution_count": null,
   "id": "5f9f9cdd",
   "metadata": {},
   "outputs": [],
   "source": [
    "# Need for loops\n",
    "# While Loop\n",
    "# For Loop?"
   ]
  },
  {
   "cell_type": "code",
   "execution_count": null,
   "id": "09854319",
   "metadata": {},
   "outputs": [],
   "source": [
    "# While loop example -> program to print the table\n",
    "# Program -> Sum of all digits of a given number\n",
    "# Program -> keep accepting numbers from users till he/she enters a 0 and then find the avg"
   ]
  },
  {
   "cell_type": "code",
   "execution_count": null,
   "id": "2598021e",
   "metadata": {},
   "outputs": [],
   "source": [
    "num=int(input('Enter number: '))\n",
    "i=0\n",
    "sum=0\n",
    "while i<num:\n",
    "    sum+=num\n",
    "print(sum)"
   ]
  },
  {
   "cell_type": "code",
   "execution_count": 4,
   "id": "2b8947d5",
   "metadata": {},
   "outputs": [
    {
     "name": "stdout",
     "output_type": "stream",
     "text": [
      "1\n",
      "2\n",
      "limit crossed\n"
     ]
    }
   ],
   "source": [
    "# while loop with else \n",
    "\n",
    "x = 1\n",
    "\n",
    "while x < 3:\n",
    "  print(x)\n",
    "  x += 1\n",
    "\n",
    "else:\n",
    "  print('limit crossed')"
   ]
  },
  {
   "cell_type": "code",
   "execution_count": null,
   "id": "3c13552f",
   "metadata": {},
   "outputs": [],
   "source": [
    "# Guessing game\n",
    "\n",
    "# generate a random integer between 1 and 100\n",
    "import random\n",
    "jackpot = random.randint(1,100)\n",
    "\n",
    "guess = int(input('guess karo'))\n",
    "counter = 1\n",
    "while guess != jackpot:\n",
    "  if guess < jackpot:\n",
    "    print('galat!guess higher')\n",
    "  else:\n",
    "    print('galat!guess lower')\n",
    "\n",
    "  guess = int(input('guess karo'))\n",
    "  counter += 1\n",
    "\n",
    "else:\n",
    "  print('correct guess')\n",
    "  print('attempts',counter)\n",
    "\n",
    "  \n"
   ]
  },
  {
   "cell_type": "code",
   "execution_count": null,
   "id": "224e9d8e",
   "metadata": {},
   "outputs": [],
   "source": [
    "# For loop demo\n",
    "\n",
    "for i in {1,2,3,4,5}:\n",
    "  print(i)"
   ]
  },
  {
   "cell_type": "code",
   "execution_count": 1,
   "id": "fbcc9bfc",
   "metadata": {},
   "outputs": [
    {
     "name": "stdout",
     "output_type": "stream",
     "text": [
      "10 10000\n",
      "9 9000.0\n",
      "8 8100.0\n",
      "7 7290.0\n",
      "6 6561.0\n",
      "5 5904.9\n",
      "4 5314.41\n",
      "3 4782.969\n",
      "2 4304.6721\n",
      "1 3874.20489\n"
     ]
    }
   ],
   "source": [
    "# Program - The current population of a town is 10000. \n",
    "# The population of the town is increasing at the rate of 10% per year. \n",
    "# You have to write a program to find out the population at the end of each of the last 10 years.\n",
    "\n",
    "curr_pop = 10000\n",
    "\n",
    "for i in range(10,0,-1):\n",
    "  print(i,curr_pop)\n",
    "  curr_pop = curr_pop - 0.1*curr_pop"
   ]
  }
 ],
 "metadata": {
  "kernelspec": {
   "display_name": "Python 3 (ipykernel)",
   "language": "python",
   "name": "python3"
  },
  "language_info": {
   "codemirror_mode": {
    "name": "ipython",
    "version": 3
   },
   "file_extension": ".py",
   "mimetype": "text/x-python",
   "name": "python",
   "nbconvert_exporter": "python",
   "pygments_lexer": "ipython3",
   "version": "3.11.3"
  }
 },
 "nbformat": 4,
 "nbformat_minor": 5
}
