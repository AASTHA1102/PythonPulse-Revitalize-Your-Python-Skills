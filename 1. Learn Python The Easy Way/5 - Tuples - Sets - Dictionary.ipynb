{
 "cells": [
  {
   "cell_type": "markdown",
   "id": "b5612764",
   "metadata": {},
   "source": [
    "# Topic 4 : PYTHON DATA STRUCTURES\n",
    "## B. TUPLES"
   ]
  },
  {
   "cell_type": "markdown",
   "id": "776894aa",
   "metadata": {},
   "source": [
    "A tuple in Python is similar to a list. The difference between the two is that we cannot change the elements of a tuple once it is assigned whereas we can change the elements of a list.\n",
    "\n",
    "In short, a tuple is an immutable list. A tuple can not be changed in any way once it is created.\n",
    "\n",
    "Characterstics\n",
    "\n",
    "    - Ordered\n",
    "    \n",
    "    - Unchangeble\n",
    "    \n",
    "    - Allows duplicate"
   ]
  },
  {
   "cell_type": "markdown",
   "id": "662af6fa",
   "metadata": {},
   "source": [
    "# Plan of attack\n",
    "\n",
    "    -Creating a Tuple\n",
    "    -Accessing items\n",
    "    -Editing items\n",
    "    -Adding items\n",
    "    -Deleting items\n",
    "    -Operations on Tuples\n",
    "    -Tuple Functions"
   ]
  },
  {
   "cell_type": "markdown",
   "id": "aa83daf5",
   "metadata": {},
   "source": [
    "# Creating Tuples"
   ]
  },
  {
   "cell_type": "code",
   "execution_count": 7,
   "id": "556a25a9",
   "metadata": {},
   "outputs": [
    {
     "name": "stdout",
     "output_type": "stream",
     "text": [
      "<class 'int'>\n",
      "(1,)\n",
      "<class 'tuple'>\n",
      "(1, 2, 3, 4, 5)\n",
      "(1, 1, 2, 4, [1, 2, 3], True)\n",
      "(1, 2, 3, 4, (5, 6, 7))\n",
      "('h', 'e', 'l', 'l', 'o')\n"
     ]
    }
   ],
   "source": [
    "# empty\n",
    "T = ()\n",
    "\n",
    "# create a tuple with a single item\n",
    "T1 = (1)\n",
    "print(type(T1))\n",
    "T1 = (1,)\n",
    "print(T1)\n",
    "print(type(T1))\n",
    "\n",
    "# homo\n",
    "t3 = (1,2,3,4,5)\n",
    "print(t3)\n",
    "\n",
    "# hetro\n",
    "t4 = (1,1,2,4,[1,2,3],True)\n",
    "print(t4)\n",
    "\n",
    "# 2d tuple\n",
    "t5 = (1,2,3,4,(5,6,7))\n",
    "print(t5)\n",
    "\n",
    "# using type conversion\n",
    "t6 = tuple('hello')\n",
    "print(t6)"
   ]
  },
  {
   "cell_type": "markdown",
   "id": "8b7ae033",
   "metadata": {},
   "source": [
    "# Accessing Items\n",
    "\n",
    "    - Indexing\n",
    "    - Slicing"
   ]
  },
  {
   "cell_type": "code",
   "execution_count": 10,
   "id": "c16f8a84",
   "metadata": {},
   "outputs": [
    {
     "name": "stdout",
     "output_type": "stream",
     "text": [
      "(1, 2, 3, 4, 5)\n",
      "1\n",
      "5\n"
     ]
    }
   ],
   "source": [
    "t3\n",
    "print(t3)\n",
    "print(t3[0])\n",
    "print(t3[-1])"
   ]
  },
  {
   "cell_type": "code",
   "execution_count": 12,
   "id": "c299314b",
   "metadata": {},
   "outputs": [
    {
     "data": {
      "text/plain": [
       "(1, 3)"
      ]
     },
     "execution_count": 12,
     "metadata": {},
     "output_type": "execute_result"
    }
   ],
   "source": [
    "t3[0:4:2]"
   ]
  },
  {
   "cell_type": "code",
   "execution_count": 13,
   "id": "5178e77c",
   "metadata": {},
   "outputs": [
    {
     "data": {
      "text/plain": [
       "(5, 4, 3, 2, 1)"
      ]
     },
     "execution_count": 13,
     "metadata": {},
     "output_type": "execute_result"
    }
   ],
   "source": [
    "t3[::-1]"
   ]
  },
  {
   "cell_type": "markdown",
   "id": "dc86a327",
   "metadata": {},
   "source": [
    "# Editing items"
   ]
  },
  {
   "cell_type": "code",
   "execution_count": 14,
   "id": "7c9d83f9",
   "metadata": {},
   "outputs": [
    {
     "name": "stdout",
     "output_type": "stream",
     "text": [
      "(1, 2, 3, 4, 5)\n"
     ]
    },
    {
     "ename": "TypeError",
     "evalue": "'tuple' object does not support item assignment",
     "output_type": "error",
     "traceback": [
      "\u001b[1;31m---------------------------------------------------------------------------\u001b[0m",
      "\u001b[1;31mTypeError\u001b[0m                                 Traceback (most recent call last)",
      "Cell \u001b[1;32mIn[14], line 4\u001b[0m\n\u001b[0;32m      1\u001b[0m \u001b[38;5;66;03m# immutable just like strings\u001b[39;00m\n\u001b[0;32m      2\u001b[0m \u001b[38;5;28mprint\u001b[39m(t3)\n\u001b[1;32m----> 4\u001b[0m \u001b[43mt3\u001b[49m\u001b[43m[\u001b[49m\u001b[38;5;241;43m0\u001b[39;49m\u001b[43m]\u001b[49m\u001b[38;5;241m=\u001b[39m\u001b[38;5;241m100\u001b[39m\n",
      "\u001b[1;31mTypeError\u001b[0m: 'tuple' object does not support item assignment"
     ]
    }
   ],
   "source": [
    "# immutable just like strings\n",
    "print(t3)\n",
    "\n",
    "t3[0]=100\n"
   ]
  },
  {
   "cell_type": "markdown",
   "id": "1931328a",
   "metadata": {},
   "source": [
    "# Adding items"
   ]
  },
  {
   "cell_type": "code",
   "execution_count": 17,
   "id": "dfea1f33",
   "metadata": {},
   "outputs": [
    {
     "name": "stdout",
     "output_type": "stream",
     "text": [
      "(1, 2, 3, 4, 5)\n"
     ]
    }
   ],
   "source": [
    "# not possible\n",
    "print(t3)"
   ]
  },
  {
   "cell_type": "markdown",
   "id": "b457e8a1",
   "metadata": {},
   "source": [
    "# Deleting items"
   ]
  },
  {
   "cell_type": "code",
   "execution_count": 18,
   "id": "fbcbfb66",
   "metadata": {},
   "outputs": [
    {
     "name": "stdout",
     "output_type": "stream",
     "text": [
      "(1, 2, 3, 4, 5)\n"
     ]
    }
   ],
   "source": [
    "print(t3)"
   ]
  },
  {
   "cell_type": "code",
   "execution_count": 22,
   "id": "22406cb2",
   "metadata": {},
   "outputs": [
    {
     "ename": "NameError",
     "evalue": "name 't3' is not defined",
     "output_type": "error",
     "traceback": [
      "\u001b[1;31m---------------------------------------------------------------------------\u001b[0m",
      "\u001b[1;31mNameError\u001b[0m                                 Traceback (most recent call last)",
      "Cell \u001b[1;32mIn[22], line 1\u001b[0m\n\u001b[1;32m----> 1\u001b[0m \u001b[38;5;28;01mdel\u001b[39;00m \u001b[43mt3\u001b[49m   \u001b[38;5;66;03m# works only on deleting the whole tuple\u001b[39;00m\n\u001b[0;32m      2\u001b[0m \u001b[38;5;28mprint\u001b[39m(t3)\n",
      "\u001b[1;31mNameError\u001b[0m: name 't3' is not defined"
     ]
    }
   ],
   "source": [
    "del t3   # works only on deleting the whole tuple\n",
    "print(t3)"
   ]
  },
  {
   "cell_type": "code",
   "execution_count": 23,
   "id": "cdc38ec6",
   "metadata": {},
   "outputs": [
    {
     "name": "stdout",
     "output_type": "stream",
     "text": [
      "(1, 2, 3, 4, (5, 6, 7))\n"
     ]
    },
    {
     "ename": "TypeError",
     "evalue": "'tuple' object doesn't support item deletion",
     "output_type": "error",
     "traceback": [
      "\u001b[1;31m---------------------------------------------------------------------------\u001b[0m",
      "\u001b[1;31mTypeError\u001b[0m                                 Traceback (most recent call last)",
      "Cell \u001b[1;32mIn[23], line 2\u001b[0m\n\u001b[0;32m      1\u001b[0m \u001b[38;5;28mprint\u001b[39m(t5)\n\u001b[1;32m----> 2\u001b[0m \u001b[38;5;28;01mdel\u001b[39;00m \u001b[43mt5\u001b[49m\u001b[43m[\u001b[49m\u001b[38;5;241;43m-\u001b[39;49m\u001b[38;5;241;43m1\u001b[39;49m\u001b[43m]\u001b[49m\n\u001b[0;32m      4\u001b[0m \u001b[38;5;66;03m# immutable\u001b[39;00m\n",
      "\u001b[1;31mTypeError\u001b[0m: 'tuple' object doesn't support item deletion"
     ]
    }
   ],
   "source": [
    "print(t5)\n",
    "del t5[-1]\n",
    "\n",
    "# immutable"
   ]
  },
  {
   "cell_type": "markdown",
   "id": "39a8622c",
   "metadata": {},
   "source": [
    "# Operations on Tuples"
   ]
  },
  {
   "cell_type": "code",
   "execution_count": 32,
   "id": "b8673763",
   "metadata": {},
   "outputs": [
    {
     "name": "stdout",
     "output_type": "stream",
     "text": [
      "(1, 2, 3, 4, 5, 6, 7, 8)\n",
      "(1, 2, 3, 4, 1, 2, 3, 4, 1, 2, 3, 4)\n",
      "True\n",
      "5\n",
      "6\n",
      "7\n",
      "8\n"
     ]
    }
   ],
   "source": [
    "# + and *\n",
    "t1 = (1,2,3,4)\n",
    "t2 = (5,6,7,8)\n",
    "\n",
    "print(t1+t2)\n",
    "print(t1*3)\n",
    "\n",
    "# membership\n",
    "print(2 in t1)\n",
    "\n",
    "# iteration\n",
    "for i in t2:\n",
    "    print(i)"
   ]
  },
  {
   "cell_type": "markdown",
   "id": "54eb6bfd",
   "metadata": {},
   "source": [
    "# Tuple Functions"
   ]
  },
  {
   "cell_type": "code",
   "execution_count": 34,
   "id": "1a698847",
   "metadata": {},
   "outputs": [
    {
     "name": "stdout",
     "output_type": "stream",
     "text": [
      "5\n",
      "19\n",
      "1\n",
      "7\n",
      "[1, 2, 4, 5, 7]\n",
      "(1, 2, 7, 4, 5)\n",
      "[7, 5, 4, 2, 1]\n"
     ]
    }
   ],
   "source": [
    "# len/sum/min/max/sorted\n",
    "\n",
    "t3 = (1,2,7,4,5)\n",
    "print(len(t3))\n",
    "print(sum(t3))\n",
    "print(min(t3))\n",
    "print(max(t3))\n",
    "print(sorted(t3))\n",
    "print(t3)\n",
    "\n",
    "print(sorted(t3,reverse=True))"
   ]
  },
  {
   "cell_type": "code",
   "execution_count": 35,
   "id": "3cc039b0",
   "metadata": {},
   "outputs": [
    {
     "data": {
      "text/plain": [
       "1"
      ]
     },
     "execution_count": 35,
     "metadata": {},
     "output_type": "execute_result"
    }
   ],
   "source": [
    "# count\n",
    "t1.count(2)"
   ]
  },
  {
   "cell_type": "code",
   "execution_count": 37,
   "id": "c7c9d8d5",
   "metadata": {},
   "outputs": [
    {
     "data": {
      "text/plain": [
       "2"
      ]
     },
     "execution_count": 37,
     "metadata": {},
     "output_type": "execute_result"
    }
   ],
   "source": [
    "# index\n",
    "t2.index(7)"
   ]
  },
  {
   "cell_type": "markdown",
   "id": "1575c0a0",
   "metadata": {},
   "source": [
    "# Difference between Lists and Tuples\n",
    "\n",
    "    - Syntax --> list[] , tuple()\n",
    "    - Mutability --> tuples(immutable), list(mutable)\n",
    "    - Speed --> tuple>lists\n",
    "    - Memory --> list takes more memory.\n",
    "    - Built in functionality --> list built in functions > tuple built in function\n",
    "    - Error prone --> List is more error prone\n",
    "    - Usability --> list is more usable since it's mutable"
   ]
  },
  {
   "cell_type": "markdown",
   "id": "f35699e5",
   "metadata": {},
   "source": [
    "# Why use tuple?\n",
    "\n",
    "Special Syntax"
   ]
  },
  {
   "cell_type": "code",
   "execution_count": 40,
   "id": "cf1e6ebd",
   "metadata": {},
   "outputs": [
    {
     "name": "stdout",
     "output_type": "stream",
     "text": [
      "1\n",
      "2\n",
      "3\n",
      "1 2 3\n"
     ]
    }
   ],
   "source": [
    "# tuple unpacking\n",
    "a,b,c = (1,2,3)\n",
    "print(a)\n",
    "print(b)\n",
    "print(c)\n",
    "print(a,b,c)"
   ]
  },
  {
   "cell_type": "code",
   "execution_count": 41,
   "id": "492f8494",
   "metadata": {},
   "outputs": [
    {
     "ename": "ValueError",
     "evalue": "not enough values to unpack (expected 4, got 3)",
     "output_type": "error",
     "traceback": [
      "\u001b[1;31m---------------------------------------------------------------------------\u001b[0m",
      "\u001b[1;31mValueError\u001b[0m                                Traceback (most recent call last)",
      "Cell \u001b[1;32mIn[41], line 1\u001b[0m\n\u001b[1;32m----> 1\u001b[0m a,b,c,d \u001b[38;5;241m=\u001b[39m \u001b[38;5;241m1\u001b[39m,\u001b[38;5;241m2\u001b[39m,\u001b[38;5;241m3\u001b[39m\n",
      "\u001b[1;31mValueError\u001b[0m: not enough values to unpack (expected 4, got 3)"
     ]
    }
   ],
   "source": [
    "a,b,c,d = 1,2,3"
   ]
  },
  {
   "cell_type": "code",
   "execution_count": 44,
   "id": "9ff8ad6e",
   "metadata": {},
   "outputs": [
    {
     "name": "stdout",
     "output_type": "stream",
     "text": [
      "5 3\n"
     ]
    }
   ],
   "source": [
    "# swapping can be done easily using tuple unpacking\n",
    "\n",
    "x = 3\n",
    "y = 5\n",
    "x,y = y,x\n",
    "print(x,y)"
   ]
  },
  {
   "cell_type": "code",
   "execution_count": 45,
   "id": "6d01c693",
   "metadata": {},
   "outputs": [
    {
     "name": "stdout",
     "output_type": "stream",
     "text": [
      "1 2\n",
      "[3, 4, 5, 6, 7, 8, 9, 10]\n"
     ]
    }
   ],
   "source": [
    "a,b, *others = (1,2,3,4,5,6,7,8,9,10)\n",
    "print(a,b)\n",
    "print(others)"
   ]
  },
  {
   "cell_type": "code",
   "execution_count": 49,
   "id": "e0ce21e7",
   "metadata": {},
   "outputs": [
    {
     "name": "stdout",
     "output_type": "stream",
     "text": [
      "<zip object at 0x000001EEFE087580>\n",
      "[(1, 5), (2, 6), (3, 7), (4, 8)]\n",
      "((1, 5), (2, 6), (3, 7), (4, 8))\n"
     ]
    }
   ],
   "source": [
    "# zipping tuples\n",
    "a = (1,2,3,4)\n",
    "b = (5,6,7,8)\n",
    "\n",
    "print(zip(a,b))\n",
    "\n",
    "print(list(zip(a,b)))\n",
    "\n",
    "print(tuple(zip(a,b)))"
   ]
  },
  {
   "cell_type": "markdown",
   "id": "76e91c1a",
   "metadata": {},
   "source": [
    "# Topic 4 : PYTHON DATA STRUCTURES\n",
    "## C. SETS"
   ]
  },
  {
   "cell_type": "markdown",
   "id": "705d27e5",
   "metadata": {},
   "source": [
    "A set is an unordered collection of items. Every set element is unique (no duplicates) and must be immutable (cannot be changed).\n",
    "\n",
    "However, a set itself is mutable. We can add or remove items from it.\n",
    "\n",
    "Sets can also be used to perform mathematical set operations like union, intersection, symmetric difference, etc.\n",
    "\n",
    "Characterstics:\n",
    "\n",
    "    - Unordered\n",
    "    - Mutable\n",
    "    - No Duplicates\n",
    "    - Can't contain mutable data types"
   ]
  },
  {
   "cell_type": "markdown",
   "id": "3c2d81f6",
   "metadata": {},
   "source": [
    "# Creating Sets"
   ]
  },
  {
   "cell_type": "code",
   "execution_count": 66,
   "id": "4662a58c",
   "metadata": {},
   "outputs": [
    {
     "name": "stdout",
     "output_type": "stream",
     "text": [
      "set()\n",
      "{1, 2, 3}\n",
      "{1, 2, 3, 4, 5}\n",
      "{1, 2, 'A'}\n",
      "{1, 2, 3}\n",
      "{1, 2, 3, 4}\n"
     ]
    },
    {
     "ename": "TypeError",
     "evalue": "unhashable type: 'list'",
     "output_type": "error",
     "traceback": [
      "\u001b[1;31m---------------------------------------------------------------------------\u001b[0m",
      "\u001b[1;31mTypeError\u001b[0m                                 Traceback (most recent call last)",
      "Cell \u001b[1;32mIn[66], line 30\u001b[0m\n\u001b[0;32m     27\u001b[0m \u001b[38;5;28mprint\u001b[39m(s5)\n\u001b[0;32m     29\u001b[0m \u001b[38;5;66;03m# set can't have mutable items\u001b[39;00m\n\u001b[1;32m---> 30\u001b[0m s6 \u001b[38;5;241m=\u001b[39m {\u001b[38;5;241m1\u001b[39m,\u001b[38;5;241m2\u001b[39m,[\u001b[38;5;241m3\u001b[39m,\u001b[38;5;241m4\u001b[39m]}\n\u001b[0;32m     31\u001b[0m \u001b[38;5;28mprint\u001b[39m(s6)\n",
      "\u001b[1;31mTypeError\u001b[0m: unhashable type: 'list'"
     ]
    }
   ],
   "source": [
    "# empty\n",
    "s = set()\n",
    "print(s)\n",
    "type(s)\n",
    "\n",
    "# 1D and 2D\n",
    "s1 = {1,2,3}\n",
    "print(s1)\n",
    "\n",
    "# s2 = {1,2,3,{4,5,6}}\n",
    "#s2 = {1,2,3,{4,5}}\n",
    "#print(s2)\n",
    "\n",
    "# homo and hetro\n",
    "s3 = {1,2,3,4,5}\n",
    "s4 = {1,2,'A',True}\n",
    "print(s3)\n",
    "print(s4)\n",
    "#set only holds unique values and hence treats True as 1 \n",
    "\n",
    "# using type conversion\n",
    "s4 = set([1,2,3])\n",
    "print(s4)\n",
    "\n",
    "# duplicates not allowed\n",
    "s5 = {1,2,3,4,3,4}\n",
    "print(s5)\n",
    "\n",
    "# set can't have mutable items\n",
    "s6 = {1,2,[3,4]}\n",
    "print(s6)\n"
   ]
  },
  {
   "cell_type": "code",
   "execution_count": 67,
   "id": "0e06e91e",
   "metadata": {},
   "outputs": [
    {
     "name": "stdout",
     "output_type": "stream",
     "text": [
      "True\n"
     ]
    }
   ],
   "source": [
    "s1 = {1,2,3}\n",
    "s2 = {2,3,1}\n",
    "\n",
    "print(s1 == s2)"
   ]
  },
  {
   "cell_type": "markdown",
   "id": "c5192842",
   "metadata": {},
   "source": [
    "# Accessing Items\n",
    "\n",
    "Tuple items cannot be accessed using index.\n",
    "\n",
    "Hence, accessing as well as slicing doesnot work with Sets\n"
   ]
  },
  {
   "cell_type": "code",
   "execution_count": 68,
   "id": "ad64d4f3",
   "metadata": {},
   "outputs": [
    {
     "ename": "TypeError",
     "evalue": "'set' object is not subscriptable",
     "output_type": "error",
     "traceback": [
      "\u001b[1;31m---------------------------------------------------------------------------\u001b[0m",
      "\u001b[1;31mTypeError\u001b[0m                                 Traceback (most recent call last)",
      "Cell \u001b[1;32mIn[68], line 2\u001b[0m\n\u001b[0;32m      1\u001b[0m s1 \u001b[38;5;241m=\u001b[39m {\u001b[38;5;241m1\u001b[39m,\u001b[38;5;241m2\u001b[39m,\u001b[38;5;241m3\u001b[39m,\u001b[38;5;241m4\u001b[39m}\n\u001b[1;32m----> 2\u001b[0m \u001b[43ms1\u001b[49m\u001b[43m[\u001b[49m\u001b[38;5;241;43m1\u001b[39;49m\u001b[43m]\u001b[49m\n",
      "\u001b[1;31mTypeError\u001b[0m: 'set' object is not subscriptable"
     ]
    }
   ],
   "source": [
    "s1 = {1,2,3,4}\n",
    "s1[1]"
   ]
  },
  {
   "cell_type": "markdown",
   "id": "d646cb42",
   "metadata": {},
   "source": [
    "# Editing Items\n",
    "\n",
    "again Set is unordered"
   ]
  },
  {
   "cell_type": "code",
   "execution_count": 1,
   "id": "9703e24e",
   "metadata": {},
   "outputs": [
    {
     "ename": "TypeError",
     "evalue": "'set' object does not support item assignment",
     "output_type": "error",
     "traceback": [
      "\u001b[1;31m---------------------------------------------------------------------------\u001b[0m",
      "\u001b[1;31mTypeError\u001b[0m                                 Traceback (most recent call last)",
      "Cell \u001b[1;32mIn[1], line 2\u001b[0m\n\u001b[0;32m      1\u001b[0m s1 \u001b[38;5;241m=\u001b[39m {\u001b[38;5;241m1\u001b[39m,\u001b[38;5;241m2\u001b[39m,\u001b[38;5;241m3\u001b[39m,\u001b[38;5;241m4\u001b[39m}\n\u001b[1;32m----> 2\u001b[0m \u001b[43ms1\u001b[49m\u001b[43m[\u001b[49m\u001b[38;5;241;43m0\u001b[39;49m\u001b[43m]\u001b[49m \u001b[38;5;241m=\u001b[39m\u001b[38;5;241m100\u001b[39m\n",
      "\u001b[1;31mTypeError\u001b[0m: 'set' object does not support item assignment"
     ]
    }
   ],
   "source": [
    "s1 = {1,2,3,4}\n",
    "s1[0] =100"
   ]
  },
  {
   "cell_type": "markdown",
   "id": "26f8b758",
   "metadata": {},
   "source": [
    "# Adding Items"
   ]
  },
  {
   "cell_type": "code",
   "execution_count": 4,
   "id": "03275b0c",
   "metadata": {},
   "outputs": [
    {
     "name": "stdout",
     "output_type": "stream",
     "text": [
      "{1, 2, 3, 4, 5}\n"
     ]
    }
   ],
   "source": [
    "S = {1,2,3,4}\n",
    "# add\n",
    "S.add(5)\n",
    "print(S)\n"
   ]
  },
  {
   "cell_type": "code",
   "execution_count": 5,
   "id": "e645c0db",
   "metadata": {},
   "outputs": [
    {
     "name": "stdout",
     "output_type": "stream",
     "text": [
      "{1, 2, 3, 4, 5, 6, 7, 8}\n"
     ]
    }
   ],
   "source": [
    "# update\n",
    "S.update([6,7,8])\n",
    "print(S)"
   ]
  },
  {
   "cell_type": "markdown",
   "id": "e69598e8",
   "metadata": {},
   "source": [
    "# Deleting Items"
   ]
  },
  {
   "cell_type": "code",
   "execution_count": 12,
   "id": "09a9901d",
   "metadata": {},
   "outputs": [
    {
     "name": "stdout",
     "output_type": "stream",
     "text": [
      "{1, 2, 3, 4, 5}\n",
      "set()\n"
     ]
    }
   ],
   "source": [
    "## del\n",
    "s = {1,2,3,4,5}\n",
    "print(s)\n",
    "# del s[0]  # Whole set can be deleted but not a single element\n",
    "# print(s)\n",
    "\n",
    "\n",
    "## discard ---> allowed\n",
    "# s.discard(5)\n",
    "# print(s)\n",
    "# s.discard(50)\n",
    "# print(s)\n",
    "\n",
    "\n",
    "# remove\n",
    "# s.remove(50)\n",
    "# print(s)\n",
    "\n",
    "\n",
    "# pop ---> deletes random items\n",
    "# s.pop()\n",
    "\n",
    "\n",
    "# clear ---> clears tghe whole set\n",
    "s.clear()\n",
    "print(s)"
   ]
  },
  {
   "cell_type": "markdown",
   "id": "8a104927",
   "metadata": {},
   "source": [
    "# Set Operation"
   ]
  },
  {
   "cell_type": "code",
   "execution_count": 24,
   "id": "09f47186",
   "metadata": {},
   "outputs": [
    {
     "name": "stdout",
     "output_type": "stream",
     "text": [
      "{1, 2, 3, 4, 5, 6, 7, 8}\n",
      "{4, 5}\n",
      "{1, 2, 3}\n",
      "{8, 6, 7}\n",
      "{1, 2, 3, 6, 7, 8}\n",
      "True\n",
      "False\n",
      "1\n",
      "2\n",
      "3\n",
      "4\n",
      "5\n"
     ]
    }
   ],
   "source": [
    "s1 = {1,2,3,4,5}\n",
    "s2 = {4,5,6,7,8}\n",
    "\n",
    "# Union(|)\n",
    "print(s1|s2)\n",
    "\n",
    "# Intersection(&)\n",
    "print(s1 & s2)\n",
    "\n",
    "# Difference(-)\n",
    "print(s1 - s2)\n",
    "print(s2 - s1)\n",
    "\n",
    "# Symmetric Difference(^)\n",
    "print(s1 ^ s2)\n",
    "\n",
    "# Membership Test\n",
    "print(1 in s1)\n",
    "print(1 in s2)\n",
    "\n",
    "# Iteration\n",
    "for i in s1:\n",
    "    print(i)"
   ]
  },
  {
   "cell_type": "markdown",
   "id": "3d9865dc",
   "metadata": {},
   "source": [
    "# Set Functions"
   ]
  },
  {
   "cell_type": "code",
   "execution_count": 26,
   "id": "c9f5fc11",
   "metadata": {},
   "outputs": [
    {
     "name": "stdout",
     "output_type": "stream",
     "text": [
      "8\n",
      "36\n",
      "1\n",
      "8\n",
      "[1, 2, 3, 4, 5, 6, 7, 8]\n"
     ]
    }
   ],
   "source": [
    "S = {1, 2, 3, 4, 5, 6, 7, 8}\n",
    "\n",
    "# len/sum/min/max/sorted\n",
    "print(len(S))\n",
    "\n",
    "print(sum(S))\n",
    "\n",
    "print(min(S))\n",
    "\n",
    "print(max(S))\n",
    "\n",
    "print(sorted(S))"
   ]
  },
  {
   "cell_type": "code",
   "execution_count": 30,
   "id": "66a831e7",
   "metadata": {},
   "outputs": [
    {
     "name": "stdout",
     "output_type": "stream",
     "text": [
      "{1, 2, 3, 4, 5, 6, 7, 8}\n",
      "{1, 2, 3, 4, 5, 6, 7, 8}\n",
      "{4, 5, 6, 7, 8}\n"
     ]
    }
   ],
   "source": [
    "# union/update\n",
    "s1 = {1,2,3,4,5}\n",
    "s2 = {4,5,6,7,8}\n",
    "\n",
    "# s1 | s2\n",
    "print(s1.union(s2))\n",
    "\n",
    "# union update\n",
    "s1.update(s2)\n",
    "print(s1)\n",
    "print(s2)"
   ]
  },
  {
   "cell_type": "code",
   "execution_count": 33,
   "id": "d716f1b1",
   "metadata": {},
   "outputs": [
    {
     "name": "stdout",
     "output_type": "stream",
     "text": [
      "{1, 2, 3, 4, 5}\n",
      "{4, 5, 6, 7, 8}\n",
      "{4, 5}\n",
      "{4, 5, 6, 7, 8}\n"
     ]
    }
   ],
   "source": [
    "# intersection/intersection_update\n",
    "s1 = {1,2,3,4,5}\n",
    "s2 = {4,5,6,7,8}\n",
    "\n",
    "s1.intersection(s2)\n",
    "\n",
    "print(s1)\n",
    "print(s2)\n",
    "\n",
    "s1.intersection_update(s2)\n",
    "\n",
    "print(s1)\n",
    "print(s2)"
   ]
  },
  {
   "cell_type": "code",
   "execution_count": 35,
   "id": "fdca2570",
   "metadata": {},
   "outputs": [
    {
     "name": "stdout",
     "output_type": "stream",
     "text": [
      "{1, 2, 3, 4, 5}\n",
      "{4, 5, 6, 7, 8}\n",
      "{1, 2, 3}\n",
      "{4, 5, 6, 7, 8}\n"
     ]
    }
   ],
   "source": [
    "# difference/difference_update\n",
    "s1 = {1,2,3,4,5}\n",
    "s2 = {4,5,6,7,8}\n",
    "\n",
    "s1.difference(s2)\n",
    "\n",
    "print(s1)\n",
    "print(s2)\n",
    "\n",
    "s1.difference_update(s2)\n",
    "\n",
    "print(s1)\n",
    "print(s2)"
   ]
  },
  {
   "cell_type": "code",
   "execution_count": 36,
   "id": "72271ce2",
   "metadata": {},
   "outputs": [
    {
     "name": "stdout",
     "output_type": "stream",
     "text": [
      "{1, 2, 3, 4, 5}\n",
      "{4, 5, 6, 7, 8}\n",
      "{1, 2, 3, 6, 7, 8}\n",
      "{4, 5, 6, 7, 8}\n"
     ]
    }
   ],
   "source": [
    "# symmetric_difference/symmetric_difference_update\n",
    "s1 = {1,2,3,4,5}\n",
    "s2 = {4,5,6,7,8}\n",
    "\n",
    "s1.symmetric_difference(s2)\n",
    "\n",
    "print(s1)\n",
    "print(s2)\n",
    "\n",
    "s1.symmetric_difference_update(s2)\n",
    "\n",
    "print(s1)\n",
    "print(s2)"
   ]
  },
  {
   "cell_type": "code",
   "execution_count": 39,
   "id": "a2878abd",
   "metadata": {},
   "outputs": [
    {
     "name": "stdout",
     "output_type": "stream",
     "text": [
      "True\n",
      "False\n",
      "True\n"
     ]
    }
   ],
   "source": [
    "# isdisjoint/issubset/issuperset\n",
    "\n",
    "s1 = {1,2,3,4,5}\n",
    "s2 = {6,7,8}\n",
    "\n",
    "print(s1.isdisjoint(s2))\n",
    "\n",
    "s1 = {1,2,3,4,5}\n",
    "s2 = {4,5}\n",
    "\n",
    "print(s1.issubset(s2))\n",
    "\n",
    "print(s1.issuperset(s2))"
   ]
  },
  {
   "cell_type": "code",
   "execution_count": 40,
   "id": "545d6cef",
   "metadata": {},
   "outputs": [
    {
     "name": "stdout",
     "output_type": "stream",
     "text": [
      "{1, 2, 3}\n",
      "{1, 2, 3}\n"
     ]
    }
   ],
   "source": [
    "# copy\n",
    "s1 = {1,2,3}\n",
    "s2 = s1.copy()\n",
    "\n",
    "print(s1)\n",
    "print(s2)"
   ]
  },
  {
   "cell_type": "markdown",
   "id": "5414c463",
   "metadata": {},
   "source": [
    "# Frozenset\n",
    "Frozen set is just an immutable version of a Python set object"
   ]
  },
  {
   "cell_type": "code",
   "execution_count": 42,
   "id": "9c563a79",
   "metadata": {},
   "outputs": [
    {
     "data": {
      "text/plain": [
       "frozenset({1, 2, 3})"
      ]
     },
     "execution_count": 42,
     "metadata": {},
     "output_type": "execute_result"
    }
   ],
   "source": [
    "# create frozenset\n",
    "fs = frozenset([1,2,3])\n",
    "fs"
   ]
  },
  {
   "cell_type": "code",
   "execution_count": 43,
   "id": "1fe27048",
   "metadata": {},
   "outputs": [
    {
     "data": {
      "text/plain": [
       "frozenset({1, 2, 3, 4, 5})"
      ]
     },
     "execution_count": 43,
     "metadata": {},
     "output_type": "execute_result"
    }
   ],
   "source": [
    "fs1 = frozenset([1,2,3])\n",
    "fs2 = frozenset([3,4,5])\n",
    "\n",
    "fs1|fs2"
   ]
  },
  {
   "cell_type": "code",
   "execution_count": null,
   "id": "c685d98e",
   "metadata": {},
   "outputs": [],
   "source": [
    "# what works and what does not\n",
    "# works -> all read functions\n",
    "# does't work -> write operations"
   ]
  },
  {
   "cell_type": "code",
   "execution_count": 45,
   "id": "98e35cfd",
   "metadata": {},
   "outputs": [
    {
     "data": {
      "text/plain": [
       "frozenset({1, 2, frozenset({3, 4})})"
      ]
     },
     "execution_count": 45,
     "metadata": {},
     "output_type": "execute_result"
    }
   ],
   "source": [
    "# When to use\n",
    "# 2D sets\n",
    "\n",
    "fs = frozenset([1,2,frozenset([3,4])])\n",
    "fs"
   ]
  },
  {
   "cell_type": "markdown",
   "id": "d5e4b681",
   "metadata": {},
   "source": [
    "# Set Comprehension"
   ]
  },
  {
   "cell_type": "code",
   "execution_count": 47,
   "id": "f1a21c99",
   "metadata": {},
   "outputs": [
    {
     "data": {
      "text/plain": [
       "{2, 4, 6, 8, 10}"
      ]
     },
     "execution_count": 47,
     "metadata": {},
     "output_type": "execute_result"
    }
   ],
   "source": [
    "# examples\n",
    "{ i for i in range(1,11) if i%2==0}"
   ]
  },
  {
   "cell_type": "code",
   "execution_count": 48,
   "id": "e3e63ddc",
   "metadata": {},
   "outputs": [
    {
     "data": {
      "text/plain": [
       "{6, 7, 8, 9, 10}"
      ]
     },
     "execution_count": 48,
     "metadata": {},
     "output_type": "execute_result"
    }
   ],
   "source": [
    "{ i for i in range(1,11) if i>5}"
   ]
  },
  {
   "cell_type": "markdown",
   "id": "5950fcb5",
   "metadata": {},
   "source": [
    "# Topic 4 : PYTHON DATA STRUCTURES\n",
    "## D. DICTIONARY"
   ]
  },
  {
   "cell_type": "markdown",
   "id": "e4476500",
   "metadata": {},
   "source": [
    "Dictionary in Python is a collection of keys values, used to store data values like a map, which, unlike other data types which hold only a single value as an element.\n",
    "\n",
    "In some languages it is known as map or assosiative arrays.\n",
    "\n",
    "dict = { 'name' : 'nitish' , 'age' : 33 , 'gender' : 'male' }\n",
    "\n",
    "Characterstics:\n",
    "\n",
    "1. Mutable\n",
    "2. Indexing has no meaning\n",
    "3. Keys can't be duplicated\n",
    "4. Keys can't be mutable items"
   ]
  },
  {
   "cell_type": "markdown",
   "id": "f15a5b5e",
   "metadata": {},
   "source": [
    "# Create Dictionary"
   ]
  },
  {
   "cell_type": "code",
   "execution_count": 7,
   "id": "838934f9",
   "metadata": {},
   "outputs": [
    {
     "name": "stdout",
     "output_type": "stream",
     "text": [
      "{}\n",
      "{'name': 'Aastha', 'gender': 'female'}\n",
      "{'name': 'Aastha', 'age': 21, 'gender': 'female'}\n",
      "{(1, 2, 3): 1, 'hello': 'world'}\n",
      "{'Name': 'Aastha', 'Age': 21, 'Sem': 8, 'Subjects': {'DSA': 50, 'Maths': 60, 'DV': 70}}\n",
      "{1: 1, 2: 4, 3: 9, 4: 16}\n",
      "{'Name': 'Aastha', 'Age': 21, 'Course': 'BTech', 'Domain': 'Data Science'}\n",
      "{'name': 'Aastha Agarwal'}\n",
      "{'name': 'Aastha', (1, 2, 3): 2}\n"
     ]
    }
   ],
   "source": [
    "# empty dictionary\n",
    "Dict = {}\n",
    "print(Dict)\n",
    "\n",
    "# 1D dictionary\n",
    "Dict = { 'name' : 'Aastha' , 'gender' : 'female' }\n",
    "print(Dict)\n",
    "\n",
    "# with mixed keys\n",
    "Dict = { 'name' : 'Aastha' , 'age' : 21 , 'gender' : 'female' }\n",
    "print(Dict)\n",
    "\n",
    "d2 = { (1,2,3) : 1 , 'hello' : 'world'}\n",
    "print(d2)\n",
    "\n",
    "# 2D dictionary -> JSON\n",
    "d3 = { 'Name' : 'Aastha' ,\n",
    "       'Age' : 21 , \n",
    "       'Sem' : 8 ,\n",
    "       'Subjects' : {\n",
    "           'DSA' :  50 , \n",
    "           'Maths' : 60 , \n",
    "           'DV' : 70\n",
    "       }\n",
    "}\n",
    "print(d3)\n",
    "\n",
    "# using sequence and dict function\n",
    "d4 = dict([(1,1),(2,4),(3,9),(4,16)])\n",
    "print(d4)\n",
    "\n",
    "d4 = dict([('Name','Aastha'),('Age',21),('Course','BTech'),('Domain','Data Science')])\n",
    "print(d4)\n",
    "\n",
    "# duplicate keys --> replaces previous value with new value\n",
    "d5 = {'name': 'Aastha', 'name': 'Aastha Agarwal'}\n",
    "print(d5)\n",
    "\n",
    "# mutable items as keys\n",
    "# d6 = {'name': 'Aastha', [1,2,3]:2}   # --> not allowed since lists are mutable \n",
    "# prine(d6)\n",
    "\n",
    "d6 = {'name': 'Aastha', (1,2,3):2}  # --> tuples are immutable\n",
    "print(d6)"
   ]
  },
  {
   "cell_type": "markdown",
   "id": "0edbd6d7",
   "metadata": {},
   "source": [
    "# Accessing items"
   ]
  },
  {
   "cell_type": "code",
   "execution_count": 28,
   "id": "7847ee7d",
   "metadata": {},
   "outputs": [
    {
     "name": "stdout",
     "output_type": "stream",
     "text": [
      "{'Name': 'Aastha', 'Age': 21, 'Sem': 8, 'Subjects': {'DSA': 50, 'Maths': 60, 'DV': 70}}\n",
      "{'DSA': 50, 'Maths': 60, 'DV': 70}\n",
      "Aastha 21\n"
     ]
    },
    {
     "data": {
      "text/plain": [
       "'Aastha'"
      ]
     },
     "execution_count": 28,
     "metadata": {},
     "output_type": "execute_result"
    }
   ],
   "source": [
    "d3 = { 'Name' : 'Aastha' ,\n",
    "       'Age' : 21 , \n",
    "       'Sem' : 8 ,\n",
    "       'Subjects' : {\n",
    "           'DSA' :  50 , \n",
    "           'Maths' : 60 , \n",
    "           'DV' : 70\n",
    "       }\n",
    "}\n",
    "print(d3)\n",
    "\n",
    "print(d3['Subjects'])\n",
    "\n",
    "# d3[0]  # --> not allowed\n",
    "\n",
    "# []\n",
    "print(d3['Name'],d3['Age'])\n",
    "\n",
    "# get\n",
    "d3.get('Name')\n",
    "\n"
   ]
  },
  {
   "cell_type": "markdown",
   "id": "182e6e42",
   "metadata": {},
   "source": [
    "# Adding key-value pair"
   ]
  },
  {
   "cell_type": "code",
   "execution_count": 16,
   "id": "c34112fd",
   "metadata": {},
   "outputs": [
    {
     "name": "stdout",
     "output_type": "stream",
     "text": [
      "{'Name': 'Aastha', 'Age': 21, 'Sem': 8, 'Subjects': {'DSA': 50, 'Maths': 60, 'DV': 70}, 'Gender': 'Female'}\n"
     ]
    }
   ],
   "source": [
    "d3['Gender'] = 'Female'\n",
    "\n",
    "print(d3)"
   ]
  },
  {
   "cell_type": "markdown",
   "id": "354742d4",
   "metadata": {},
   "source": [
    "# Remove key-value pair"
   ]
  },
  {
   "cell_type": "code",
   "execution_count": 25,
   "id": "4220506e",
   "metadata": {},
   "outputs": [
    {
     "name": "stdout",
     "output_type": "stream",
     "text": [
      "{'Name': 'Aastha', 'Age': 21, 'Sem': 8, 3: 3, 'Subjects': {'DSA': 50, 'Maths': 60, 'DV': 70}, 'Gender': 'Female'}\n",
      "{'Name': 'Aastha', 'Age': 21, 'Sem': 8, 3: 3, 'Subjects': {'DSA': 50, 'Maths': 60, 'DV': 70}}\n",
      "{'Age': 21, 'Sem': 8, 3: 3, 'Subjects': {'DSA': 50, 'Maths': 60, 'DV': 70}}\n",
      "{}\n"
     ]
    }
   ],
   "source": [
    "d = {'Name': 'Aastha', 'Age': 21, 'Sem': 8, 3:3, 'Subjects': {'DSA': 50, 'Maths': 60, 'DV': 70}, 'Gender': 'Female'}\n",
    "# pop\n",
    "# d.pop(3)\n",
    "print(d)\n",
    "\n",
    "\n",
    "# popitem\n",
    "d.popitem()\n",
    "print(d)\n",
    "\n",
    "\n",
    "# del\n",
    "del d['Name']\n",
    "print(d)\n",
    "\n",
    "\n",
    "# clear\n",
    "d.clear()\n",
    "print(d)"
   ]
  },
  {
   "cell_type": "markdown",
   "id": "b17c373d",
   "metadata": {},
   "source": [
    "# Editing key-value pair"
   ]
  },
  {
   "cell_type": "code",
   "execution_count": 29,
   "id": "4e3fdd15",
   "metadata": {},
   "outputs": [
    {
     "name": "stdout",
     "output_type": "stream",
     "text": [
      "{'Name': 'Aastha', 'Age': 21, 'Sem': 8, 3: 3, 'Subjects': {'DSA': 80, 'Maths': 60, 'DV': 70}, 'Gender': 'Female'}\n"
     ]
    }
   ],
   "source": [
    "d = {'Name': 'Aastha', 'Age': 21, 'Sem': 8, 3:3, 'Subjects': {'DSA': 50, 'Maths': 60, 'DV': 70}, 'Gender': 'Female'}\n",
    "d['Subjects']['DSA'] = 80\n",
    "\n",
    "print(d)"
   ]
  },
  {
   "cell_type": "markdown",
   "id": "6f0a2d4a",
   "metadata": {},
   "source": [
    "# Dictionary Operations\n",
    "\n",
    "    - Membership\n",
    "    - Iteration"
   ]
  },
  {
   "cell_type": "code",
   "execution_count": 33,
   "id": "5121d134",
   "metadata": {},
   "outputs": [
    {
     "name": "stdout",
     "output_type": "stream",
     "text": [
      "True\n"
     ]
    }
   ],
   "source": [
    "D = {'Name': 'Aastha', 'Age': 21, 'Sem': 8,'Subjects': {'DSA': 80, 'Maths': 60, 'DV': 70}, 'Gender': 'Female'}\n",
    "\n",
    "print('Name' in D)"
   ]
  },
  {
   "cell_type": "code",
   "execution_count": 34,
   "id": "59c28b40",
   "metadata": {},
   "outputs": [
    {
     "name": "stdout",
     "output_type": "stream",
     "text": [
      "Name Aastha\n",
      "Age 21\n",
      "Sem 8\n",
      "Subjects {'DSA': 80, 'Maths': 60, 'DV': 70}\n",
      "Gender Female\n"
     ]
    }
   ],
   "source": [
    "for i in D:\n",
    "    print(i,D[i])"
   ]
  },
  {
   "cell_type": "markdown",
   "id": "008c1e69",
   "metadata": {},
   "source": [
    "# Dictionary Functions"
   ]
  },
  {
   "cell_type": "code",
   "execution_count": 36,
   "id": "22d326eb",
   "metadata": {},
   "outputs": [
    {
     "data": {
      "text/plain": [
       "5"
      ]
     },
     "execution_count": 36,
     "metadata": {},
     "output_type": "execute_result"
    }
   ],
   "source": [
    "# len/sorted\n",
    "len(D)"
   ]
  },
  {
   "cell_type": "code",
   "execution_count": 37,
   "id": "0ec659d8",
   "metadata": {},
   "outputs": [
    {
     "data": {
      "text/plain": [
       "['Age', 'Gender', 'Name', 'Sem', 'Subjects']"
      ]
     },
     "execution_count": 37,
     "metadata": {},
     "output_type": "execute_result"
    }
   ],
   "source": [
    "sorted(D)"
   ]
  },
  {
   "cell_type": "code",
   "execution_count": 39,
   "id": "b78ac18b",
   "metadata": {},
   "outputs": [
    {
     "data": {
      "text/plain": [
       "dict_items([('Name', 'Aastha'), ('Age', 21), ('Sem', 8), ('Subjects', {'DSA': 80, 'Maths': 60, 'DV': 70}), ('Gender', 'Female')])"
      ]
     },
     "execution_count": 39,
     "metadata": {},
     "output_type": "execute_result"
    }
   ],
   "source": [
    "# items/keys/values\n",
    "D.items()"
   ]
  },
  {
   "cell_type": "code",
   "execution_count": 40,
   "id": "977ca15f",
   "metadata": {},
   "outputs": [
    {
     "data": {
      "text/plain": [
       "dict_keys(['Name', 'Age', 'Sem', 'Subjects', 'Gender'])"
      ]
     },
     "execution_count": 40,
     "metadata": {},
     "output_type": "execute_result"
    }
   ],
   "source": [
    "D.keys()"
   ]
  },
  {
   "cell_type": "code",
   "execution_count": 41,
   "id": "d42ab1a9",
   "metadata": {},
   "outputs": [
    {
     "data": {
      "text/plain": [
       "dict_values(['Aastha', 21, 8, {'DSA': 80, 'Maths': 60, 'DV': 70}, 'Female'])"
      ]
     },
     "execution_count": 41,
     "metadata": {},
     "output_type": "execute_result"
    }
   ],
   "source": [
    "D.values()"
   ]
  },
  {
   "cell_type": "code",
   "execution_count": 44,
   "id": "da5a4e29",
   "metadata": {},
   "outputs": [
    {
     "name": "stdout",
     "output_type": "stream",
     "text": [
      "{1: 2, 2: 3, 3: 4, 4: 5, 5: 6, 6: 7}\n"
     ]
    }
   ],
   "source": [
    "# update\n",
    "D1 = {1:2 ,2:3 , 3:4 , 4:5}\n",
    "D2 = {5:6 , 6:7}\n",
    "\n",
    "D1.update(D2)\n",
    "print(D1)"
   ]
  },
  {
   "cell_type": "markdown",
   "id": "7105ac47",
   "metadata": {},
   "source": [
    "# Dictionary Comprehension\n",
    "\n",
    "## {key : value for vars in iterable}"
   ]
  },
  {
   "cell_type": "code",
   "execution_count": 45,
   "id": "019f94bf",
   "metadata": {},
   "outputs": [
    {
     "data": {
      "text/plain": [
       "{1: 1, 2: 4, 3: 9, 4: 16, 5: 25, 6: 36, 7: 49, 8: 64, 9: 81, 10: 100}"
      ]
     },
     "execution_count": 45,
     "metadata": {},
     "output_type": "execute_result"
    }
   ],
   "source": [
    "# print 1st 10 numbers and their squares\n",
    "{i : i**2 for i in range(1,11)}"
   ]
  },
  {
   "cell_type": "code",
   "execution_count": 55,
   "id": "33a88120",
   "metadata": {},
   "outputs": [
    {
     "data": {
      "text/plain": [
       "{'Delhi': 820.0, 'Mumbai': 1016.8, 'Banglore': 2460.0}"
      ]
     },
     "execution_count": 55,
     "metadata": {},
     "output_type": "execute_result"
    }
   ],
   "source": [
    "# using existing dict\n",
    "distances = {'Delhi':1000 , 'Mumbai':1240 , 'Banglore':3000}\n",
    "{ key:value*0.82 for (key,value) in distances.items()}"
   ]
  },
  {
   "cell_type": "code",
   "execution_count": 46,
   "id": "fb708038",
   "metadata": {},
   "outputs": [
    {
     "data": {
      "text/plain": [
       "{'Sunday': 30.4,\n",
       " 'Monday': 32.6,\n",
       " 'Tuesday': 29.7,\n",
       " 'Wednesday': 31.9,\n",
       " 'Thursday': 33.0,\n",
       " 'Friday': 30.8,\n",
       " 'Saturday': 32.2}"
      ]
     },
     "execution_count": 46,
     "metadata": {},
     "output_type": "execute_result"
    }
   ],
   "source": [
    "# using zip\n",
    "days = [\"Sunday\" , \"Monday\", \"Tuesday\", \"Wednesday\", \"Thursday\", \"Friday\", \"Saturday\"]\n",
    "temp = [30.4 , 32.6 , 29.7 , 31.9 , 33.0 , 30.8 , 32.2]\n",
    "\n",
    "dict(zip(days,temp))"
   ]
  },
  {
   "cell_type": "code",
   "execution_count": 54,
   "id": "c0f23439",
   "metadata": {},
   "outputs": [
    {
     "data": {
      "text/plain": [
       "{'phone': 10, 'charger': 32}"
      ]
     },
     "execution_count": 54,
     "metadata": {},
     "output_type": "execute_result"
    }
   ],
   "source": [
    "# using if condition\n",
    "products = {'phone' : 10 , 'laptop' : 0 , 'charger' : 32 , 'tablet' : 4}\n",
    "\n",
    "{ key:value for (key,value) in products.items() if value>5}"
   ]
  },
  {
   "cell_type": "code",
   "execution_count": 56,
   "id": "a6468c6f",
   "metadata": {},
   "outputs": [
    {
     "data": {
      "text/plain": [
       "{2: {1: 2, 2: 4, 3: 6, 4: 8, 5: 10, 6: 12, 7: 14, 8: 16, 9: 18, 10: 20},\n",
       " 3: {1: 3, 2: 6, 3: 9, 4: 12, 5: 15, 6: 18, 7: 21, 8: 24, 9: 27, 10: 30},\n",
       " 4: {1: 4, 2: 8, 3: 12, 4: 16, 5: 20, 6: 24, 7: 28, 8: 32, 9: 36, 10: 40}}"
      ]
     },
     "execution_count": 56,
     "metadata": {},
     "output_type": "execute_result"
    }
   ],
   "source": [
    "# Nested Comprehension\n",
    "# print tables of number from 2 to 4\n",
    "\n",
    "{i : {j : i*j for j in range(1,11)} for i in range(2,5)}"
   ]
  }
 ],
 "metadata": {
  "kernelspec": {
   "display_name": "Python 3 (ipykernel)",
   "language": "python",
   "name": "python3"
  },
  "language_info": {
   "codemirror_mode": {
    "name": "ipython",
    "version": 3
   },
   "file_extension": ".py",
   "mimetype": "text/x-python",
   "name": "python",
   "nbconvert_exporter": "python",
   "pygments_lexer": "ipython3",
   "version": "3.11.3"
  }
 },
 "nbformat": 4,
 "nbformat_minor": 5
}
