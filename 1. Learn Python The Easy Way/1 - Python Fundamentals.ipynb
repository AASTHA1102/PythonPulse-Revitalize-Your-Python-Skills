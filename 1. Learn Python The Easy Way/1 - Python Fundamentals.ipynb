{
 "cells": [
  {
   "cell_type": "markdown",
   "id": "3974b764",
   "metadata": {},
   "source": [
    "### By - Aastha Agarwal \n",
    "### LinkedIn - https://www.linkedin.com/in/aasthaa1jan/"
   ]
  },
  {
   "cell_type": "markdown",
   "id": "04c1af6c",
   "metadata": {},
   "source": [
    "# CONTENTS OF THIS MANUAL \n",
    "\n",
    "1. Python fundamentals\n",
    "2. Operators , If - Else Statements, Loops\n",
    "3. Python Data Structures\n",
    "\n",
    "   a. Lists\n",
    "   \n",
    "   b. Tuples\n",
    "   \n",
    "   c. Sets\n",
    "   \n",
    "   d. Dictionary"
   ]
  },
  {
   "cell_type": "markdown",
   "id": "2c354af6",
   "metadata": {},
   "source": [
    "# Topic 1 : PYTHON FUNDAMENTALS"
   ]
  },
  {
   "cell_type": "markdown",
   "id": "4b6d7024",
   "metadata": {},
   "source": [
    "# 1.Python Output"
   ]
  },
  {
   "cell_type": "code",
   "execution_count": 1,
   "id": "37c115da",
   "metadata": {},
   "outputs": [
    {
     "name": "stdout",
     "output_type": "stream",
     "text": [
      "Hello World\n"
     ]
    }
   ],
   "source": [
    " print('Hello World')"
   ]
  },
  {
   "cell_type": "code",
   "execution_count": 2,
   "id": "eaee1e8c",
   "metadata": {},
   "outputs": [
    {
     "name": "stdout",
     "output_type": "stream",
     "text": [
      "True\n"
     ]
    }
   ],
   "source": [
    "print(True)"
   ]
  },
  {
   "cell_type": "code",
   "execution_count": 3,
   "id": "b2457d4f",
   "metadata": {},
   "outputs": [
    {
     "name": "stdout",
     "output_type": "stream",
     "text": [
      "7.7\n"
     ]
    }
   ],
   "source": [
    "print(7.7)"
   ]
  },
  {
   "cell_type": "code",
   "execution_count": 4,
   "id": "c2db1782",
   "metadata": {},
   "outputs": [
    {
     "name": "stdout",
     "output_type": "stream",
     "text": [
      "Hello 1 7.7 True\n"
     ]
    }
   ],
   "source": [
    "print('Hello',1,7.7,True)"
   ]
  },
  {
   "cell_type": "code",
   "execution_count": 5,
   "id": "f1be89ff",
   "metadata": {},
   "outputs": [
    {
     "name": "stdout",
     "output_type": "stream",
     "text": [
      "Hello/1/7.7/True\n"
     ]
    }
   ],
   "source": [
    "print('Hello',1,7.7,True,sep='/')"
   ]
  },
  {
   "cell_type": "code",
   "execution_count": 7,
   "id": "2cf60551",
   "metadata": {},
   "outputs": [
    {
     "name": "stdout",
     "output_type": "stream",
     "text": [
      "Hello-World\n"
     ]
    }
   ],
   "source": [
    "# for printing in single line -> use end;\n",
    "print('Hello',end='-')\n",
    "print('World')"
   ]
  },
  {
   "cell_type": "markdown",
   "id": "a5809652",
   "metadata": {},
   "source": [
    "# 2. Data Types"
   ]
  },
  {
   "cell_type": "code",
   "execution_count": 10,
   "id": "fe065331",
   "metadata": {},
   "outputs": [
    {
     "name": "stdout",
     "output_type": "stream",
     "text": [
      "8\n",
      "1e+308\n",
      "inf\n"
     ]
    }
   ],
   "source": [
    "# Integer\n",
    "print(8)\n",
    "\n",
    "# 1*10^308\n",
    "print(1e308)\n",
    "\n",
    "# 1*10^309\n",
    "print(1e309)"
   ]
  },
  {
   "cell_type": "code",
   "execution_count": 11,
   "id": "60e16d7c",
   "metadata": {},
   "outputs": [
    {
     "name": "stdout",
     "output_type": "stream",
     "text": [
      "8.66\n",
      "inf\n"
     ]
    }
   ],
   "source": [
    "# Decimal/Float\n",
    "print(8.66)\n",
    "print(1.7e309)"
   ]
  },
  {
   "cell_type": "code",
   "execution_count": 12,
   "id": "0993dc64",
   "metadata": {},
   "outputs": [
    {
     "name": "stdout",
     "output_type": "stream",
     "text": [
      "True\n",
      "False\n"
     ]
    }
   ],
   "source": [
    "# Boolean\n",
    "print(True)\n",
    "print(False)"
   ]
  },
  {
   "cell_type": "code",
   "execution_count": 13,
   "id": "a7f6919f",
   "metadata": {},
   "outputs": [
    {
     "name": "stdout",
     "output_type": "stream",
     "text": [
      "Hello World\n"
     ]
    }
   ],
   "source": [
    "# Text/String\n",
    "print('Hello World')"
   ]
  },
  {
   "cell_type": "code",
   "execution_count": 14,
   "id": "f4984e6c",
   "metadata": {},
   "outputs": [
    {
     "name": "stdout",
     "output_type": "stream",
     "text": [
      "(5+6j)\n"
     ]
    }
   ],
   "source": [
    "# complex\n",
    "print(5+6j)\n"
   ]
  },
  {
   "cell_type": "code",
   "execution_count": 15,
   "id": "ec698672",
   "metadata": {},
   "outputs": [
    {
     "name": "stdout",
     "output_type": "stream",
     "text": [
      "[1, 2, 3, 4, 5, 6, 7, 8]\n"
     ]
    }
   ],
   "source": [
    "# List : C-> Array\n",
    "print([1,2,3,4,5,6,7,8])"
   ]
  },
  {
   "cell_type": "code",
   "execution_count": 16,
   "id": "076d96cb",
   "metadata": {},
   "outputs": [
    {
     "name": "stdout",
     "output_type": "stream",
     "text": [
      "(1, 2, 3, 4, 5, 6)\n"
     ]
    }
   ],
   "source": [
    "# Tuple : (LISTS)\n",
    "print((1,2,3,4,5,6))"
   ]
  },
  {
   "cell_type": "code",
   "execution_count": 17,
   "id": "02a6b130",
   "metadata": {},
   "outputs": [
    {
     "name": "stdout",
     "output_type": "stream",
     "text": [
      "{1, 2, 3, 4}\n"
     ]
    }
   ],
   "source": [
    "# Sets\n",
    "print({1,2,3,4})"
   ]
  },
  {
   "cell_type": "code",
   "execution_count": 19,
   "id": "b49eadba",
   "metadata": {},
   "outputs": [
    {
     "name": "stdout",
     "output_type": "stream",
     "text": [
      "{'name': 'Nitish', 'gender': 'Male', 'weight': 70}\n"
     ]
    }
   ],
   "source": [
    "# Dictionary\n",
    "print({'name':'Nitish','gender':'Male','weight':70})"
   ]
  },
  {
   "cell_type": "code",
   "execution_count": 23,
   "id": "bc22e7a9",
   "metadata": {},
   "outputs": [
    {
     "data": {
      "text/plain": [
       "int"
      ]
     },
     "execution_count": 23,
     "metadata": {},
     "output_type": "execute_result"
    }
   ],
   "source": [
    "# Type\n",
    "type(3)\n"
   ]
  },
  {
   "cell_type": "code",
   "execution_count": 24,
   "id": "6a40b825",
   "metadata": {},
   "outputs": [
    {
     "data": {
      "text/plain": [
       "float"
      ]
     },
     "execution_count": 24,
     "metadata": {},
     "output_type": "execute_result"
    }
   ],
   "source": [
    "type(66.8)\n"
   ]
  },
  {
   "cell_type": "code",
   "execution_count": 25,
   "id": "d3132a44",
   "metadata": {},
   "outputs": [
    {
     "data": {
      "text/plain": [
       "str"
      ]
     },
     "execution_count": 25,
     "metadata": {},
     "output_type": "execute_result"
    }
   ],
   "source": [
    "type('Hi')\n"
   ]
  },
  {
   "cell_type": "code",
   "execution_count": 26,
   "id": "84d2f842",
   "metadata": {},
   "outputs": [
    {
     "data": {
      "text/plain": [
       "set"
      ]
     },
     "execution_count": 26,
     "metadata": {},
     "output_type": "execute_result"
    }
   ],
   "source": [
    "type({1,2,3})"
   ]
  },
  {
   "cell_type": "markdown",
   "id": "9adddd33",
   "metadata": {},
   "source": [
    "# 3.Variables"
   ]
  },
  {
   "cell_type": "code",
   "execution_count": 27,
   "id": "06848c2d",
   "metadata": {},
   "outputs": [],
   "source": [
    "# Static Vs Dynamic Typing\n",
    "# Static Vs Dynamic Binding\n",
    "# Stylish Declaration Techniques"
   ]
  },
  {
   "cell_type": "code",
   "execution_count": null,
   "id": "d5a1c447",
   "metadata": {},
   "outputs": [],
   "source": [
    "# Static Typing --> int a=10;\n",
    "# Dynamic Typing --> a=10"
   ]
  },
  {
   "cell_type": "code",
   "execution_count": 29,
   "id": "dabb9ea5",
   "metadata": {},
   "outputs": [
    {
     "name": "stdout",
     "output_type": "stream",
     "text": [
      "5\n",
      "nitish\n"
     ]
    }
   ],
   "source": [
    "# Static Binding(C++/Java)\n",
    "# int a=10;\n",
    "# --> a='nitish';   # error\n",
    "# Dynamic Binding (Python)\n",
    "a=5\n",
    "print(a)\n",
    "a='nitish'\n",
    "print(a)"
   ]
  },
  {
   "cell_type": "code",
   "execution_count": 30,
   "id": "d74b0a03",
   "metadata": {},
   "outputs": [
    {
     "name": "stdout",
     "output_type": "stream",
     "text": [
      "1 2 3\n"
     ]
    }
   ],
   "source": [
    "# Declaration\n",
    "a,b,c=1,2,3\n",
    "print(a,b,c)"
   ]
  },
  {
   "cell_type": "code",
   "execution_count": 31,
   "id": "71bfde6d",
   "metadata": {},
   "outputs": [
    {
     "name": "stdout",
     "output_type": "stream",
     "text": [
      "1 1 1\n"
     ]
    }
   ],
   "source": [
    "a=b=c=1\n",
    "print(a,b,c)"
   ]
  },
  {
   "cell_type": "markdown",
   "id": "1206f7b0",
   "metadata": {},
   "source": [
    "# 4.Comments"
   ]
  },
  {
   "cell_type": "code",
   "execution_count": 32,
   "id": "5d6ea435",
   "metadata": {},
   "outputs": [],
   "source": [
    "# this is a comment"
   ]
  },
  {
   "cell_type": "markdown",
   "id": "a5c8d0de",
   "metadata": {},
   "source": [
    "# 5.User Input"
   ]
  },
  {
   "cell_type": "code",
   "execution_count": 35,
   "id": "31726234",
   "metadata": {},
   "outputs": [
    {
     "name": "stdout",
     "output_type": "stream",
     "text": [
      "Name: Aastha\n"
     ]
    },
    {
     "data": {
      "text/plain": [
       "'Aastha'"
      ]
     },
     "execution_count": 35,
     "metadata": {},
     "output_type": "execute_result"
    }
   ],
   "source": [
    " input('Name: ')"
   ]
  },
  {
   "cell_type": "code",
   "execution_count": 10,
   "id": "4d3aa860",
   "metadata": {},
   "outputs": [
    {
     "name": "stdout",
     "output_type": "stream",
     "text": [
      "First Number 23\n",
      "Second Number 45\n",
      "Sum is 68\n"
     ]
    },
    {
     "data": {
      "text/plain": [
       "int"
      ]
     },
     "execution_count": 10,
     "metadata": {},
     "output_type": "execute_result"
    }
   ],
   "source": [
    "# basic Sum program\n",
    "a=int(input('First Number '))   #Type Conversion\n",
    "b=int(input('Second Number '))\n",
    "sum=a+b\n",
    "print(\"Sum is\",sum)\n",
    "type(sum)"
   ]
  },
  {
   "cell_type": "code",
   "execution_count": 14,
   "id": "6195b8d7",
   "metadata": {},
   "outputs": [
    {
     "name": "stdout",
     "output_type": "stream",
     "text": [
      "First Number 23\n",
      "Second Number 45\n",
      "68\n",
      "<class 'str'>\n"
     ]
    }
   ],
   "source": [
    "# basic Sum program\n",
    "a=input('First Number ')  #Type Conversion\n",
    "b=input('Second Number ')\n",
    "sum=int(a)+int(b)\n",
    "print(sum)\n",
    "print(type(a))"
   ]
  },
  {
   "cell_type": "markdown",
   "id": "b2e5d940",
   "metadata": {},
   "source": [
    "# 6.Type Conversion"
   ]
  },
  {
   "cell_type": "code",
   "execution_count": 1,
   "id": "689ec766",
   "metadata": {},
   "outputs": [
    {
     "name": "stdout",
     "output_type": "stream",
     "text": [
      "10.6\n",
      "<class 'int'> <class 'float'>\n"
     ]
    }
   ],
   "source": [
    "# Implicit Type Converstion\n",
    "print(5+5.6)\n",
    "print(type(5),type(5.6))"
   ]
  },
  {
   "cell_type": "code",
   "execution_count": 3,
   "id": "3b5514a4",
   "metadata": {},
   "outputs": [
    {
     "data": {
      "text/plain": [
       "int"
      ]
     },
     "execution_count": 3,
     "metadata": {},
     "output_type": "execute_result"
    }
   ],
   "source": [
    "# Explicit Type Conversion  str->int\n",
    "type(int('45'))"
   ]
  },
  {
   "cell_type": "code",
   "execution_count": 4,
   "id": "29ae94c2",
   "metadata": {},
   "outputs": [
    {
     "ename": "TypeError",
     "evalue": "can't convert complex to int",
     "output_type": "error",
     "traceback": [
      "\u001b[1;31m---------------------------------------------------------------------------\u001b[0m",
      "\u001b[1;31mTypeError\u001b[0m                                 Traceback (most recent call last)",
      "\u001b[1;32m~\\AppData\\Local\\Temp\\ipykernel_13092\\1281490552.py\u001b[0m in \u001b[0;36m<module>\u001b[1;34m\u001b[0m\n\u001b[1;32m----> 1\u001b[1;33m \u001b[0mtype\u001b[0m\u001b[1;33m(\u001b[0m\u001b[0mint\u001b[0m\u001b[1;33m(\u001b[0m\u001b[1;36m4\u001b[0m\u001b[1;33m+\u001b[0m\u001b[1;36m5j\u001b[0m\u001b[1;33m)\u001b[0m\u001b[1;33m)\u001b[0m\u001b[1;33m\u001b[0m\u001b[1;33m\u001b[0m\u001b[0m\n\u001b[0m",
      "\u001b[1;31mTypeError\u001b[0m: can't convert complex to int"
     ]
    }
   ],
   "source": [
    "# complex numbers cannot be explicitly converted\n",
    "type(int(4+5j))"
   ]
  },
  {
   "cell_type": "code",
   "execution_count": 9,
   "id": "4c6cfeaf",
   "metadata": {},
   "outputs": [
    {
     "name": "stdout",
     "output_type": "stream",
     "text": [
      "67\n"
     ]
    },
    {
     "data": {
      "text/plain": [
       "str"
      ]
     },
     "execution_count": 9,
     "metadata": {},
     "output_type": "execute_result"
    }
   ],
   "source": [
    "print(str(67))\n",
    "type(str(67))"
   ]
  },
  {
   "cell_type": "code",
   "execution_count": 8,
   "id": "39d5bc4c",
   "metadata": {},
   "outputs": [
    {
     "name": "stdout",
     "output_type": "stream",
     "text": [
      "75.0\n"
     ]
    },
    {
     "data": {
      "text/plain": [
       "float"
      ]
     },
     "execution_count": 8,
     "metadata": {},
     "output_type": "execute_result"
    }
   ],
   "source": [
    "print(float(75))\n",
    "type(float(75))"
   ]
  },
  {
   "cell_type": "markdown",
   "id": "a9e62197",
   "metadata": {},
   "source": [
    "# 7.Literals"
   ]
  },
  {
   "cell_type": "code",
   "execution_count": 15,
   "id": "a5b331f1",
   "metadata": {},
   "outputs": [],
   "source": [
    "a=0b1010 #Binary Literals\n",
    "b=100 #decimal literals\n",
    "c=0o310 #octal Literals\n",
    "d=0x12c  #Hexadecimal Literals\n",
    "\n",
    "\n",
    "# Float Literals\n",
    "float_1=10.5\n",
    "float_2=1.5e2\n",
    "float_3=1.5e-3\n",
    "\n",
    "# Complex Literals\n",
    "x=3.14j"
   ]
  },
  {
   "cell_type": "code",
   "execution_count": 16,
   "id": "da11479b",
   "metadata": {},
   "outputs": [
    {
     "name": "stdout",
     "output_type": "stream",
     "text": [
      "10\n"
     ]
    }
   ],
   "source": [
    "#Binary Literals\n",
    "print(0b1010)"
   ]
  },
  {
   "cell_type": "code",
   "execution_count": 17,
   "id": "9091c83a",
   "metadata": {},
   "outputs": [
    {
     "name": "stdout",
     "output_type": "stream",
     "text": [
      "200\n"
     ]
    }
   ],
   "source": [
    "#octal Literals\n",
    "print(0o310)"
   ]
  },
  {
   "cell_type": "code",
   "execution_count": 18,
   "id": "f322cec7",
   "metadata": {},
   "outputs": [
    {
     "name": "stdout",
     "output_type": "stream",
     "text": [
      "300\n"
     ]
    }
   ],
   "source": [
    "#Hexadecimal Literals\n",
    "print(0x12c)"
   ]
  },
  {
   "cell_type": "code",
   "execution_count": 19,
   "id": "eac0bc3a",
   "metadata": {},
   "outputs": [
    {
     "name": "stdout",
     "output_type": "stream",
     "text": [
      "10.5\n",
      "150.0\n",
      "0.0015\n"
     ]
    }
   ],
   "source": [
    "# Float Literals\n",
    "float_1=10.5\n",
    "float_2=1.5e2\n",
    "float_3=1.5e-3\n",
    "\n",
    "\n",
    "print(float_1)\n",
    "print(float_2)\n",
    "print(float_3)"
   ]
  },
  {
   "cell_type": "code",
   "execution_count": 20,
   "id": "d67e5356",
   "metadata": {},
   "outputs": [
    {
     "name": "stdout",
     "output_type": "stream",
     "text": [
      "3.14j\n"
     ]
    }
   ],
   "source": [
    "# Complex Literals\n",
    "print(3.14j)\n"
   ]
  },
  {
   "cell_type": "code",
   "execution_count": 21,
   "id": "858286a6",
   "metadata": {},
   "outputs": [
    {
     "name": "stdout",
     "output_type": "stream",
     "text": [
      "3.14 0.0\n"
     ]
    }
   ],
   "source": [
    "print(x.imag,x.real)"
   ]
  },
  {
   "cell_type": "markdown",
   "id": "b1d7a020",
   "metadata": {},
   "source": [
    "# 8.String"
   ]
  },
  {
   "cell_type": "code",
   "execution_count": 8,
   "id": "0f5a2bcc",
   "metadata": {},
   "outputs": [],
   "source": [
    "string='This is Python'\n",
    "strings=\"This is Python\"\n",
    "char=\"c\"\n",
    "multiline_str=\"\"\"This is a multiline string\"\"\"\n",
    "unicode=u\"\\U0001f601\\U0001F606\\U0001F923\"\n",
    "raw_str=u\"raw \\n string\"\n"
   ]
  },
  {
   "cell_type": "code",
   "execution_count": 9,
   "id": "c34c32dc",
   "metadata": {},
   "outputs": [
    {
     "name": "stdout",
     "output_type": "stream",
     "text": [
      "*string* This is Python\n",
      "*strings* This is Python\n",
      "*char* c\n",
      "*multiline_str* This is a multiline string\n",
      "*unicode:* 😁😆🤣\n",
      "*raw_str* raw \n",
      " string\n"
     ]
    }
   ],
   "source": [
    "print(\"*string*\",string)\n",
    "print(\"*strings*\",strings)\n",
    "print(\"*char*\",char)\n",
    "print(\"*multiline_str*\",multiline_str)\n",
    "print(\"*unicode:*\",unicode)\n",
    "print(\"*raw_str*\",raw_str)"
   ]
  },
  {
   "cell_type": "markdown",
   "id": "d841ebde",
   "metadata": {},
   "source": [
    "# 9.Boolean"
   ]
  },
  {
   "cell_type": "code",
   "execution_count": 11,
   "id": "dc6e436d",
   "metadata": {},
   "outputs": [
    {
     "data": {
      "text/plain": [
       "6"
      ]
     },
     "execution_count": 11,
     "metadata": {},
     "output_type": "execute_result"
    }
   ],
   "source": [
    "# python treats boolean as numbers\n",
    "a=True+5\n",
    "a"
   ]
  },
  {
   "cell_type": "code",
   "execution_count": 13,
   "id": "066615b8",
   "metadata": {},
   "outputs": [
    {
     "data": {
      "text/plain": [
       "1"
      ]
     },
     "execution_count": 13,
     "metadata": {},
     "output_type": "execute_result"
    }
   ],
   "source": [
    "b=False+True\n",
    "b"
   ]
  },
  {
   "cell_type": "code",
   "execution_count": 15,
   "id": "6c3cd8ac",
   "metadata": {},
   "outputs": [
    {
     "data": {
      "text/plain": [
       "7"
      ]
     },
     "execution_count": 15,
     "metadata": {},
     "output_type": "execute_result"
    }
   ],
   "source": [
    "c=False+7\n",
    "c"
   ]
  },
  {
   "cell_type": "code",
   "execution_count": 17,
   "id": "52975a48",
   "metadata": {},
   "outputs": [
    {
     "name": "stdout",
     "output_type": "stream",
     "text": [
      "None\n"
     ]
    }
   ],
   "source": [
    "a=None\n",
    "print(a)"
   ]
  }
 ],
 "metadata": {
  "kernelspec": {
   "display_name": "Python 3 (ipykernel)",
   "language": "python",
   "name": "python3"
  },
  "language_info": {
   "codemirror_mode": {
    "name": "ipython",
    "version": 3
   },
   "file_extension": ".py",
   "mimetype": "text/x-python",
   "name": "python",
   "nbconvert_exporter": "python",
   "pygments_lexer": "ipython3",
   "version": "3.11.3"
  }
 },
 "nbformat": 4,
 "nbformat_minor": 5
}
