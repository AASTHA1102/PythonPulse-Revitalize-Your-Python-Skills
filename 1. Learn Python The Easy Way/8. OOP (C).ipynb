{
 "cells": [
  {
   "cell_type": "markdown",
   "id": "693f56f0",
   "metadata": {},
   "source": [
    "### By - Aastha Agarwal \n",
    "### LinkedIn - https://www.linkedin.com/in/aasthaa1jan/"
   ]
  },
  {
   "cell_type": "markdown",
   "id": "04e2e245-55fd-4f4f-b33d-a3dc80161f24",
   "metadata": {},
   "source": [
    "# Topic 6 - OBJECT ORIENTED LANGUAGE (Part 2)\n",
    "\n",
    "### Topics Covered in Part 2: \n",
    "1. Aggregation\n",
    "2. Inheritance\n",
    "3. Polymorphism\n",
    "4. Abstraction\n",
    "\n",
    "_________________________________________________________________________________________________________________________"
   ]
  },
  {
   "cell_type": "markdown",
   "id": "15083e25-0337-44c6-9b1a-9e1f55d66eef",
   "metadata": {},
   "source": [
    "## Class Relationships \n",
    "1. Aggregation\n",
    "2. Inheritance"
   ]
  },
  {
   "cell_type": "markdown",
   "id": "bc11dff3-9b58-47c0-beb2-04f25c7d852a",
   "metadata": {},
   "source": [
    "## **1. AGGREGATION**\n",
    "`Has a Relationship`"
   ]
  },
  {
   "cell_type": "code",
   "execution_count": 7,
   "id": "2d474e00-a08f-44f6-9f24-4a5224b4714c",
   "metadata": {},
   "outputs": [],
   "source": [
    "# Example - \n",
    "\n",
    "class Customer:\n",
    "    def __init__(self,name,gender,address):\n",
    "        self.name = name\n",
    "        self.gender = gender\n",
    "        self.address = address\n",
    "\n",
    "    def print_address(self):\n",
    "        print(self.address.city , self.address.state, self.address.pincode)\n",
    "\n",
    "class Address:\n",
    "    def __init__(self,city,state,pincode):\n",
    "        self.city = city\n",
    "        self.state = state\n",
    "        self.pincode = pincode\n",
    "\n",
    "Address1 = Address('Gurgaon','Haryana', 20102901)\n",
    "Customer1 = Customer('Aastha','Female',Address1)"
   ]
  },
  {
   "cell_type": "markdown",
   "id": "57580d3c-b32f-4141-93f7-3f5aac1bef2e",
   "metadata": {},
   "source": [
    "In the provided example, the relationship between the `Customer` and `Address` classes demonstrates an aggregation. Aggregation is a specialized form of association where one class contains an object of another class, representing a \"whole\" and \"part\" relationship.\n",
    "\n",
    "Let's break down the example:\n",
    "\n",
    "1. **Customer Class:**\n",
    "   - The `Customer` class has attributes such as `name`, `gender`, and `address`.\n",
    "   - The `address` attribute is an instance of the `Address` class, indicating that a customer has an associated address.\n",
    "\n",
    "2. **Address Class:**\n",
    "   - The `Address` class has attributes like `city`, `state`, and `pincode`, representing the details of a customer's address.\n",
    "\n",
    "3. **Aggregation:**\n",
    "   - In the `Customer` class, the `address` attribute is of type `Address`, indicating that a customer is associated with an address.\n",
    "   - The `Address` object (`Address1`) is created separately, and it is passed as an argument to the `Customer` constructor during the creation of a `Customer` object (`Customer1`).\n",
    "\n",
    "In this example, `Customer1` has an aggregation relationship with the `Address1` object. The `Customer` class contains a reference to an `Address` object, and the `Address` object can exist independently of the `Customer`. If the `Customer` object is destroyed, the `Address` object remains unaffected.\n",
    "\n",
    "This aggregation relationship reflects the real-world scenario where a customer has an associated address, and the address is a separate entity with its own details."
   ]
  },
  {
   "cell_type": "code",
   "execution_count": 9,
   "id": "f79e5d5e-36a1-458c-b2ff-49f793e1b589",
   "metadata": {},
   "outputs": [
    {
     "name": "stdout",
     "output_type": "stream",
     "text": [
      "Gurgaon Haryana 20102901\n"
     ]
    }
   ],
   "source": [
    "Customer1.print_address()"
   ]
  },
  {
   "cell_type": "markdown",
   "id": "8e175832-ab75-438c-89b2-46e428f92ad1",
   "metadata": {},
   "source": [
    "#### Note :- If the variable `city` in the class `Address` is made private, still we couldn't access the variable.\n",
    "Solution to this will be creating a getter function into the class `Address`."
   ]
  },
  {
   "cell_type": "code",
   "execution_count": 1,
   "id": "dfe0e180-b9b6-46a8-ae86-5f479b5a152e",
   "metadata": {},
   "outputs": [
    {
     "ename": "AttributeError",
     "evalue": "'Address' object has no attribute 'get_city'",
     "output_type": "error",
     "traceback": [
      "\u001b[1;31m---------------------------------------------------------------------------\u001b[0m",
      "\u001b[1;31mAttributeError\u001b[0m                            Traceback (most recent call last)",
      "Cell \u001b[1;32mIn[1], line 19\u001b[0m\n\u001b[0;32m     16\u001b[0m Address1 \u001b[38;5;241m=\u001b[39m Address(\u001b[38;5;124m'\u001b[39m\u001b[38;5;124mGurgaon\u001b[39m\u001b[38;5;124m'\u001b[39m, \u001b[38;5;124m'\u001b[39m\u001b[38;5;124mHaryana\u001b[39m\u001b[38;5;124m'\u001b[39m, \u001b[38;5;241m20102901\u001b[39m)\n\u001b[0;32m     17\u001b[0m Customer1 \u001b[38;5;241m=\u001b[39m Customer(\u001b[38;5;124m'\u001b[39m\u001b[38;5;124mAastha\u001b[39m\u001b[38;5;124m'\u001b[39m, \u001b[38;5;124m'\u001b[39m\u001b[38;5;124mFemale\u001b[39m\u001b[38;5;124m'\u001b[39m, Address1)\n\u001b[1;32m---> 19\u001b[0m \u001b[43mCustomer1\u001b[49m\u001b[38;5;241;43m.\u001b[39;49m\u001b[43mprint_address\u001b[49m\u001b[43m(\u001b[49m\u001b[43m)\u001b[49m\n",
      "Cell \u001b[1;32mIn[1], line 8\u001b[0m, in \u001b[0;36mCustomer.print_address\u001b[1;34m(self)\u001b[0m\n\u001b[0;32m      7\u001b[0m \u001b[38;5;28;01mdef\u001b[39;00m \u001b[38;5;21mprint_address\u001b[39m(\u001b[38;5;28mself\u001b[39m):\n\u001b[1;32m----> 8\u001b[0m     \u001b[38;5;28mprint\u001b[39m(\u001b[38;5;28;43mself\u001b[39;49m\u001b[38;5;241;43m.\u001b[39;49m\u001b[43maddress\u001b[49m\u001b[38;5;241;43m.\u001b[39;49m\u001b[43mget_city\u001b[49m(), \u001b[38;5;28mself\u001b[39m\u001b[38;5;241m.\u001b[39maddress\u001b[38;5;241m.\u001b[39mstate, \u001b[38;5;28mself\u001b[39m\u001b[38;5;241m.\u001b[39maddress\u001b[38;5;241m.\u001b[39mpincode)\n",
      "\u001b[1;31mAttributeError\u001b[0m: 'Address' object has no attribute 'get_city'"
     ]
    }
   ],
   "source": [
    "class Customer:\n",
    "    def __init__(self, name, gender, address):\n",
    "        self.name = name\n",
    "        self.gender = gender\n",
    "        self.address = address\n",
    "\n",
    "    def print_address(self):\n",
    "        print(self.address.get_city(), self.address.state, self.address.pincode)\n",
    "\n",
    "class Address:\n",
    "    def __init__(self, city, state, pincode):\n",
    "        self.__city = city  # Making city private\n",
    "        self.state = state\n",
    "        self.pincode = pincode\n",
    "\n",
    "Address1 = Address('Gurgaon', 'Haryana', 20102901)\n",
    "Customer1 = Customer('Aastha', 'Female', Address1)\n",
    "\n",
    "Customer1.print_address()\n"
   ]
  },
  {
   "cell_type": "markdown",
   "id": "41e586eb-ed07-4e5a-81d6-fe85b4271618",
   "metadata": {},
   "source": [
    "But as soon as a Getter Function is added ->"
   ]
  },
  {
   "cell_type": "code",
   "execution_count": 2,
   "id": "6777b4ef-3b03-4fe1-8107-daf7f96ba04e",
   "metadata": {},
   "outputs": [
    {
     "name": "stdout",
     "output_type": "stream",
     "text": [
      "Gurgaon Haryana 20102901\n"
     ]
    }
   ],
   "source": [
    "class Customer:\n",
    "    def __init__(self, name, gender, address):\n",
    "        self.name = name\n",
    "        self.gender = gender\n",
    "        self.address = address\n",
    "\n",
    "    def print_address(self):\n",
    "        print(self.address.get_city(), self.address.state, self.address.pincode)\n",
    "\n",
    "class Address:\n",
    "    def __init__(self, city, state, pincode):\n",
    "        self.__city = city  # Making city private\n",
    "        self.state = state\n",
    "        self.pincode = pincode\n",
    "\n",
    "    def get_city(self):\n",
    "        return self.__city  # Getter function to access the private attribute\n",
    "\n",
    "Address1 = Address('Gurgaon', 'Haryana', 20102901)\n",
    "Customer1 = Customer('Aastha', 'Female', Address1)\n",
    "\n",
    "# Accessing the address details using the getter function\n",
    "Customer1.print_address()\n"
   ]
  },
  {
   "cell_type": "markdown",
   "id": "08bbf229-f2dd-409c-ab8c-9604b43b723c",
   "metadata": {},
   "source": [
    "#### On performing Aggregation, although `Class A` owns the `Class B` but still there is no guarantee that `Class A` can use it's private attributes as well."
   ]
  },
  {
   "cell_type": "markdown",
   "id": "31eae79c-1e98-4e98-be78-c85dd576613d",
   "metadata": {},
   "source": [
    "I Recommend you to run the code below in Python Tutor just to understand Aggregation clearly."
   ]
  },
  {
   "cell_type": "code",
   "execution_count": 21,
   "id": "1186e875-7d2f-4b86-9d3f-e9c866f4631f",
   "metadata": {},
   "outputs": [
    {
     "name": "stdout",
     "output_type": "stream",
     "text": [
      "Aastha Female\n",
      "Gurgaon Haryana 20102901\n"
     ]
    }
   ],
   "source": [
    "class Customer:\n",
    "    def __init__(self, name, gender, address):\n",
    "        self.name = name\n",
    "        self.gender = gender\n",
    "        self.address = address\n",
    "\n",
    "    def print_address(self):\n",
    "        print(self.address.get_city(), self.address.state, self.address.pincode)\n",
    "\n",
    "    def edit_details(self,new_name, new_city, new_state, new_pin):\n",
    "        self.name = new_name\n",
    "        self.address.edit_address(new_city, new_state, new_pin)\n",
    "\n",
    "    def print_details(self):\n",
    "        print(self.name, self.gender)\n",
    "        self.print_address()\n",
    "\n",
    "class Address:\n",
    "    def __init__(self, city, state, pincode):\n",
    "        self.__city = city  # Making city private\n",
    "        self.state = state\n",
    "        self.pincode = pincode\n",
    "\n",
    "    def get_city(self):\n",
    "        return self.__city  # Getter function to access the private attribute\n",
    "\n",
    "    def edit_address(self, new_city, new_state, new_pin):\n",
    "        self.__city = new_city\n",
    "        self.pincode = new_pin\n",
    "        self.state = new_state\n",
    "\n",
    "Address1 = Address('Gurgaon', 'Haryana', 20102901)\n",
    "Customer1 = Customer('Aastha', 'Female', Address1)\n",
    "Customer1.print_details()\n",
    "\n",
    "Customer1.edit_details('Ankita','Pune','Maharashtra',111111)"
   ]
  },
  {
   "cell_type": "code",
   "execution_count": 22,
   "id": "6b865d47-1df1-4dd9-983d-b010a2cae8ce",
   "metadata": {},
   "outputs": [
    {
     "name": "stdout",
     "output_type": "stream",
     "text": [
      "Ankita Female\n",
      "Pune Maharashtra 111111\n"
     ]
    }
   ],
   "source": [
    "Customer1.print_details()"
   ]
  },
  {
   "cell_type": "markdown",
   "id": "1b7b9dc6-900f-4e50-8849-2f8cbac2a82b",
   "metadata": {},
   "source": [
    "The `edit_details` method of the `Customer` class delegates the address update to the `edit_address` method of the `Address` class, further emphasizing the separation of concerns.\n",
    "\n",
    "This aggregation relationship reflects a real-world scenario where a customer has an associated address, and the address is an independent entity with its own details."
   ]
  },
  {
   "cell_type": "markdown",
   "id": "d140551b-52a6-403f-a343-a9afef423a60",
   "metadata": {},
   "source": [
    "`CLASS DIAGRAM OF AGGREGATION`\n",
    "```plain text\n",
    "+------------------+         +------------------+\n",
    "|    Customer      |         |     Address      |\n",
    "+------------------+         +------------------+\n",
    "| - name           |         | - __city         |\n",
    "| - gender         |         | - state          |\n",
    "| - address        |         | - pincode        |\n",
    "+------------------+ ♦------ +------------------+\n",
    "| + __init__()     |         | + __init__()     |\n",
    "| + print_details()|         | + get_city()     |\n",
    "| + print_address()|         | + edit_address() |\n",
    "| + edit_details() |         +------------------+\n",
    "+------------------+\n",
    "```\r\n",
    "\r\n",
    "Explanation:\r\n",
    "\r\n",
    "- **Customer Class:**\r\n",
    "  - The `Customer` class has attributes `name`, `gender`, and `address`.\r\n",
    "  - The `address` attribute represents an aggregation relationship with the `Address` class. The diamond symbol (`♦`) signifies aggregation.\r\n",
    "  - The class has methods like `__init__` (constructor), `print_details`, `print_address`, and `edit_details`.\r\n",
    "\r\n",
    "- **Address Class:**\r\n",
    "  - The `Address` class has attributes `__city` (private), `state`, and `pincode`.\r\n",
    "  - It includes methods such as `__init__` (constructor), `get_city` (getter for private attribute), and `edit_address`.\r\n",
    "\r\n",
    "- **Aggregation Relationship:**\r\n",
    "  - The diamond symbol (`♦`) between `Customer` and `Address` signifies an aggregation relationship. It indicates that a `Customer` has an associated `Address`, and the `Address` can exist independently of the `Customer`.\r\n",
    "\r\n",
    "This class diagram visually represents the structure of the `Customer` and `Address` classes and their aggregation relationship. The diamond symbol helps to illustrate the association between the classes."
   ]
  },
  {
   "cell_type": "markdown",
   "id": "92637462-4a2c-479f-a142-951a9bcd149b",
   "metadata": {},
   "source": [
    "_________________________________________________________________________________________________________"
   ]
  },
  {
   "cell_type": "markdown",
   "id": "dad80059-a5f4-4d54-9e95-632fae8506fe",
   "metadata": {},
   "source": [
    "# **2. INHERITANCE**\n",
    "`Is a Relationship`"
   ]
  },
  {
   "cell_type": "markdown",
   "id": "9032fee2-9c55-4f54-93e5-69c411c10ac3",
   "metadata": {},
   "source": [
    "\n",
    "In the context of programming and software development, \"DRY\" stands for \"Don't Repeat Yourself.\" The DRY principle encourages developers to avoid duplicating code by promoting code reuse and maintaining a single source of truth for each piece of knowledge in a system.\n",
    "\n",
    "When it comes to inheritance in object-oriented programming, adhering to the DRY principle is important to prevent unnecessary code repetition.\n",
    "\n",
    "\n",
    "Please try running the below code on Python Tutor.."
   ]
  },
  {
   "cell_type": "markdown",
   "id": "dff56603-5797-445d-9aa7-00c8ec121180",
   "metadata": {},
   "source": [
    "#### Class Diagram showing Inheritence \n",
    "\n",
    "```plaintext\n",
    "+------------------+         +------------------+\n",
    "|    User          |         |     Student      |\n",
    "+------------------+ ------▷ +------------------+\n",
    "| - name           |         | - (inherited)    |\n",
    "| - gender         |         | - (inherited)    |\n",
    "+------------------+         | + enroll()       |\n",
    "| + login()        |         +------------------+\n",
    "+------------------+\n",
    "```"
   ]
  },
  {
   "cell_type": "code",
   "execution_count": 3,
   "id": "58af1609-a9f2-4cc2-bbc5-d05815bc89a7",
   "metadata": {},
   "outputs": [],
   "source": [
    "# Example\n",
    "\n",
    "class User:\n",
    "    def __init__(self):\n",
    "        self.name = 'Aastha'\n",
    "        self.gender = 'Female'\n",
    "    def login(self):\n",
    "        print('Login')\n",
    "\n",
    "class Student(User):  # in bracket we write the name of the parent class\n",
    "    def enroll(self):\n",
    "        print('Enroll')\n",
    "    \n",
    "\n",
    "u = User()\n",
    "s = Student()"
   ]
  },
  {
   "cell_type": "code",
   "execution_count": 4,
   "id": "6ea1c161-b62c-41cd-8b99-2b228b48d5f8",
   "metadata": {},
   "outputs": [
    {
     "name": "stdout",
     "output_type": "stream",
     "text": [
      "Aastha\n",
      "Female\n"
     ]
    }
   ],
   "source": [
    "print(s.name)\n",
    "print(s.gender)"
   ]
  },
  {
   "cell_type": "markdown",
   "id": "0e7a3043-d0ee-4ce7-a8d2-13eea8863d42",
   "metadata": {},
   "source": [
    "#### What get's inherited?\n",
    "* Constructor\n",
    "* Non Pivate Attributes\n",
    "* Non Pivate Methods"
   ]
  },
  {
   "cell_type": "code",
   "execution_count": 11,
   "id": "37d7b69d-104a-4a1f-9a3f-1d8f22c3317e",
   "metadata": {},
   "outputs": [
    {
     "name": "stdout",
     "output_type": "stream",
     "text": [
      "Inside Parent's Constructor\n"
     ]
    }
   ],
   "source": [
    "\n",
    "class Phone:\n",
    "    def __init__(self, price, brand, camera):\n",
    "        print(\"Inside Parent's Constructor\")\n",
    "        self.price = price\n",
    "        self.brand = brand\n",
    "        self.camera = camera\n",
    "\n",
    "    def buy(self):\n",
    "        print(\"Buying a Phone\")\n",
    "\n",
    "\n",
    "class Smartphone(Phone):\n",
    "    pass\n",
    "\n",
    "\n",
    "Phn = Smartphone(30000, 'Apple', 13)"
   ]
  },
  {
   "cell_type": "markdown",
   "id": "8548fa5f-20ae-4777-bde1-1c028c2fe7c2",
   "metadata": {},
   "source": [
    "### **Concept 1 :** If Child class doesn't have a constructor, Parent's class constructor is called.\n"
   ]
  },
  {
   "cell_type": "code",
   "execution_count": 14,
   "id": "175f564f-7cea-4e47-bc13-bbf8c7f96cd4",
   "metadata": {},
   "outputs": [
    {
     "name": "stdout",
     "output_type": "stream",
     "text": [
      "Inside Child's Constructor\n"
     ]
    }
   ],
   "source": [
    "class Phone:\n",
    "    def __init__(self, price, brand, camera):\n",
    "        print(\"Inside Parent's Constructor\")\n",
    "        self.price = price\n",
    "        self.brand = brand\n",
    "        self.camera = camera\n",
    "\n",
    "    def buy(self):\n",
    "        print(\"Buying a Phone\")\n",
    "\n",
    "\n",
    "class Smartphone(Phone):\n",
    "    def __init__(self, os, ram ):\n",
    "        print(\"Inside Child's Constructor\")\n",
    "        self.os = os\n",
    "        self.ram = ram\n",
    "\n",
    "\n",
    "\n",
    "Phn = Smartphone('IOS', 4)"
   ]
  },
  {
   "cell_type": "markdown",
   "id": "19491c40-8f3f-4e61-8a9f-09cd4bfc6c84",
   "metadata": {},
   "source": [
    "### **Concept 2 :** If Child class has it's own constructor, Parent's class constructor is not called. Thus, the variables inside the Parent's constructor will never get initialized, Hence, the Child class can never access them!! \n",
    "#### This is called `Constructor Overriding`"
   ]
  },
  {
   "cell_type": "code",
   "execution_count": 22,
   "id": "7ea0fa7d-5440-413c-a112-f705fd3be920",
   "metadata": {},
   "outputs": [
    {
     "name": "stdout",
     "output_type": "stream",
     "text": [
      "Inside Parent's Constructor\n"
     ]
    },
    {
     "ename": "AttributeError",
     "evalue": "'Smartphone' object has no attribute '_Smartphone__price'",
     "output_type": "error",
     "traceback": [
      "\u001b[1;31m---------------------------------------------------------------------------\u001b[0m",
      "\u001b[1;31mAttributeError\u001b[0m                            Traceback (most recent call last)",
      "Cell \u001b[1;32mIn[22], line 19\u001b[0m\n\u001b[0;32m     17\u001b[0m Phn \u001b[38;5;241m=\u001b[39m Smartphone(\u001b[38;5;241m30000\u001b[39m, \u001b[38;5;124m'\u001b[39m\u001b[38;5;124mApple\u001b[39m\u001b[38;5;124m'\u001b[39m, \u001b[38;5;241m13\u001b[39m)\n\u001b[0;32m     18\u001b[0m \u001b[38;5;66;03m# Private Variable\u001b[39;00m\n\u001b[1;32m---> 19\u001b[0m \u001b[43mPhn\u001b[49m\u001b[38;5;241;43m.\u001b[39;49m\u001b[43mcheck\u001b[49m\u001b[43m(\u001b[49m\u001b[43m)\u001b[49m\n",
      "Cell \u001b[1;32mIn[22], line 15\u001b[0m, in \u001b[0;36mSmartphone.check\u001b[1;34m(self)\u001b[0m\n\u001b[0;32m     14\u001b[0m \u001b[38;5;28;01mdef\u001b[39;00m \u001b[38;5;21mcheck\u001b[39m(\u001b[38;5;28mself\u001b[39m):\n\u001b[1;32m---> 15\u001b[0m     \u001b[38;5;28mprint\u001b[39m(\u001b[38;5;28;43mself\u001b[39;49m\u001b[38;5;241;43m.\u001b[39;49m\u001b[43m__price\u001b[49m)\n",
      "\u001b[1;31mAttributeError\u001b[0m: 'Smartphone' object has no attribute '_Smartphone__price'"
     ]
    }
   ],
   "source": [
    "class Phone:\n",
    "    def __init__(self, price, brand, camera):\n",
    "        print(\"Inside Parent's Constructor\")\n",
    "        self.__price = price   # The variable is made private\n",
    "        self.brand = brand\n",
    "        self.camera = camera\n",
    "    def buy(self):\n",
    "        print(\"Buying a Phone\")\n",
    "    def show(self):\n",
    "        print(self.__price)\n",
    "\n",
    "\n",
    "class Smartphone(Phone):\n",
    "    def check(self):\n",
    "        print(self.__price)\n",
    "\n",
    "Phn = Smartphone(30000, 'Apple', 13)\n",
    "# Private Variable\n",
    "Phn.check()"
   ]
  },
  {
   "cell_type": "code",
   "execution_count": 21,
   "id": "0e7b3a50-423c-44fa-a26a-849eec67d781",
   "metadata": {},
   "outputs": [
    {
     "data": {
      "text/plain": [
       "'Apple'"
      ]
     },
     "execution_count": 21,
     "metadata": {},
     "output_type": "execute_result"
    }
   ],
   "source": [
    "# Public Variable\n",
    "Phn.brand"
   ]
  },
  {
   "cell_type": "markdown",
   "id": "528395d5-0596-4425-bca6-a02a894c11ff",
   "metadata": {},
   "source": [
    "### **Concept 3 :** Child class can never access Parent's class private members."
   ]
  },
  {
   "cell_type": "code",
   "execution_count": 24,
   "id": "82909d97-521b-4550-b995-f9c6a35d9abc",
   "metadata": {},
   "outputs": [
    {
     "name": "stdout",
     "output_type": "stream",
     "text": [
      "Inside Parent's Constructor\n"
     ]
    },
    {
     "ename": "AttributeError",
     "evalue": "'Smartphone' object has no attribute '__show'",
     "output_type": "error",
     "traceback": [
      "\u001b[1;31m---------------------------------------------------------------------------\u001b[0m",
      "\u001b[1;31mAttributeError\u001b[0m                            Traceback (most recent call last)",
      "Cell \u001b[1;32mIn[24], line 19\u001b[0m\n\u001b[0;32m     17\u001b[0m Phn \u001b[38;5;241m=\u001b[39m Smartphone(\u001b[38;5;241m30000\u001b[39m, \u001b[38;5;124m'\u001b[39m\u001b[38;5;124mApple\u001b[39m\u001b[38;5;124m'\u001b[39m, \u001b[38;5;241m13\u001b[39m)\n\u001b[0;32m     18\u001b[0m \u001b[38;5;66;03m# Private Method\u001b[39;00m\n\u001b[1;32m---> 19\u001b[0m \u001b[43mPhn\u001b[49m\u001b[38;5;241;43m.\u001b[39;49m\u001b[43m__show\u001b[49m()\n",
      "\u001b[1;31mAttributeError\u001b[0m: 'Smartphone' object has no attribute '__show'"
     ]
    }
   ],
   "source": [
    "class Phone:\n",
    "    def __init__(self, price, brand, camera):\n",
    "        print(\"Inside Parent's Constructor\")\n",
    "        self.__price = price   # The variable is made private\n",
    "        self.brand = brand\n",
    "        self.camera = camera\n",
    "    def buy(self):\n",
    "        print(\"Buying a Phone\")\n",
    "    def __show(self):\n",
    "        print(self.__price)\n",
    "\n",
    "\n",
    "class Smartphone(Phone):\n",
    "    def check(self):\n",
    "        print(self.__price)\n",
    "\n",
    "Phn = Smartphone(30000, 'Apple', 13)\n",
    "# Private Method\n",
    "Phn.__show()"
   ]
  },
  {
   "cell_type": "markdown",
   "id": "9a938f96-ce5c-48ff-a7b3-aa397179146d",
   "metadata": {},
   "source": [
    "### **Concept 4 :** Child class can never access Parent's class private methods.\n",
    "\n",
    "\n",
    "________________________________________________________________________"
   ]
  },
  {
   "cell_type": "code",
   "execution_count": 26,
   "id": "06aaf678-9e1f-44e0-8b1a-4456ab84d217",
   "metadata": {},
   "outputs": [
    {
     "data": {
      "text/plain": [
       "100"
      ]
     },
     "execution_count": 26,
     "metadata": {},
     "output_type": "execute_result"
    }
   ],
   "source": [
    "class Parent:\n",
    "    def __init__(self,num):\n",
    "        self.__num = num\n",
    "    def get_num(self):  # getter method\n",
    "        return self.__num\n",
    "\n",
    "class Child(Parent):\n",
    "    def show(self):\n",
    "        print(\"This is in Child Class\")\n",
    "\n",
    "son = Child(100)\n",
    "son.get_num()"
   ]
  },
  {
   "cell_type": "markdown",
   "id": "401f86e4-9ffa-41d9-8be1-be6939fa4eb5",
   "metadata": {},
   "source": [
    "### **Concept 5 :** Child class can access Parent's class private attributes if Getter method is present in Parent Class"
   ]
  },
  {
   "cell_type": "code",
   "execution_count": 29,
   "id": "68a348da-07b7-40b4-bc6b-4302180920db",
   "metadata": {},
   "outputs": [
    {
     "ename": "AttributeError",
     "evalue": "'Child' object has no attribute '_Parent__num'",
     "output_type": "error",
     "traceback": [
      "\u001b[1;31m---------------------------------------------------------------------------\u001b[0m",
      "\u001b[1;31mAttributeError\u001b[0m                            Traceback (most recent call last)",
      "Cell \u001b[1;32mIn[29], line 14\u001b[0m\n\u001b[0;32m     11\u001b[0m         \u001b[38;5;28mprint\u001b[39m(\u001b[38;5;124m\"\u001b[39m\u001b[38;5;124mThis is in Child Class\u001b[39m\u001b[38;5;124m\"\u001b[39m)\n\u001b[0;32m     13\u001b[0m son \u001b[38;5;241m=\u001b[39m Child(\u001b[38;5;241m100\u001b[39m,\u001b[38;5;241m10\u001b[39m)\n\u001b[1;32m---> 14\u001b[0m \u001b[38;5;28mprint\u001b[39m(\u001b[38;5;124m\"\u001b[39m\u001b[38;5;124mParent\u001b[39m\u001b[38;5;124m'\u001b[39m\u001b[38;5;124ms num\u001b[39m\u001b[38;5;124m\"\u001b[39m,\u001b[43mson\u001b[49m\u001b[38;5;241;43m.\u001b[39;49m\u001b[43mget_num\u001b[49m\u001b[43m(\u001b[49m\u001b[43m)\u001b[49m)\n\u001b[0;32m     15\u001b[0m \u001b[38;5;28mprint\u001b[39m(\u001b[38;5;124m\"\u001b[39m\u001b[38;5;124mChild\u001b[39m\u001b[38;5;124m'\u001b[39m\u001b[38;5;124ms\u001b[39m\u001b[38;5;124m'\u001b[39m\u001b[38;5;124ms num\u001b[39m\u001b[38;5;124m\"\u001b[39m,son\u001b[38;5;241m.\u001b[39mget_num())\n",
      "Cell \u001b[1;32mIn[29], line 5\u001b[0m, in \u001b[0;36mParent.get_num\u001b[1;34m(self)\u001b[0m\n\u001b[0;32m      4\u001b[0m \u001b[38;5;28;01mdef\u001b[39;00m \u001b[38;5;21mget_num\u001b[39m(\u001b[38;5;28mself\u001b[39m):  \u001b[38;5;66;03m# getter method\u001b[39;00m\n\u001b[1;32m----> 5\u001b[0m     \u001b[38;5;28;01mreturn\u001b[39;00m \u001b[38;5;28;43mself\u001b[39;49m\u001b[38;5;241;43m.\u001b[39;49m\u001b[43m__num\u001b[49m\n",
      "\u001b[1;31mAttributeError\u001b[0m: 'Child' object has no attribute '_Parent__num'"
     ]
    }
   ],
   "source": [
    "class Parent:\n",
    "    def __init__(self,num):\n",
    "        self.__num = num\n",
    "    def get_num(self):  # getter method\n",
    "        return self.__num\n",
    "\n",
    "class Child(Parent):\n",
    "    def __init__(self, val, num):\n",
    "        self.__val = val\n",
    "    def show(self):\n",
    "        print(\"This is in Child Class\")\n",
    "\n",
    "son = Child(100,10)\n",
    "print(\"Parent's num\",son.get_num())\n",
    "print(\"Child's's num\",son.get_num())"
   ]
  },
  {
   "cell_type": "markdown",
   "id": "17107145-df29-4cbb-8e1c-b72b1224a125",
   "metadata": {},
   "source": [
    "Here, Child Class has it's own Constructor, thus, Parent's Class Constructor is never called and the value of num is never initialized."
   ]
  },
  {
   "cell_type": "code",
   "execution_count": 32,
   "id": "3b8f8200-2e5e-463c-865e-be094e25e3e8",
   "metadata": {},
   "outputs": [
    {
     "name": "stdout",
     "output_type": "stream",
     "text": [
      "Class A : 100\n"
     ]
    }
   ],
   "source": [
    "class A:\n",
    "    def __init__(self):\n",
    "        self.var1 = 100\n",
    "    def display1(self,var1):\n",
    "        print(\"Class A :\", self.var1)\n",
    "\n",
    "class B(A):\n",
    "    def display2(self,var1):\n",
    "        print(\"Class B :\", self.var1)\n",
    "\n",
    "\n",
    "obj = B()\n",
    "obj.display1(200)"
   ]
  },
  {
   "cell_type": "code",
   "execution_count": 34,
   "id": "ef609ca6-9eb0-4b92-b71e-7597abc7a79d",
   "metadata": {},
   "outputs": [
    {
     "name": "stdout",
     "output_type": "stream",
     "text": [
      "Class B : 100\n"
     ]
    }
   ],
   "source": [
    "obj.display2(200)"
   ]
  },
  {
   "cell_type": "code",
   "execution_count": 35,
   "id": "0752ea57-85a5-4d6d-8af7-1f8169a37662",
   "metadata": {},
   "outputs": [
    {
     "name": "stdout",
     "output_type": "stream",
     "text": [
      "Inside Parent's Constructor\n",
      "Buying the SmartPhone\n"
     ]
    }
   ],
   "source": [
    "# Method Overriding \n",
    "class Phone:\n",
    "    def __init__(self, price, brand, camera):\n",
    "        print(\"Inside Parent's Constructor\")\n",
    "        self.__price = price   # The variable is made private\n",
    "        self.brand = brand\n",
    "        self.camera = camera\n",
    "    def buy(self):\n",
    "        print(\"Buying a Phone\")\n",
    "\n",
    "class Smartphone(Phone):\n",
    "    def buy(self):\n",
    "        print(\"Buying the SmartPhone\")\n",
    "\n",
    "Phn = Smartphone(30000, 'Apple', 13)\n",
    "# Private Method\n",
    "Phn.buy()"
   ]
  },
  {
   "cell_type": "markdown",
   "id": "dff8bfed-4c19-426f-a280-28d4d272ed73",
   "metadata": {},
   "source": [
    "### **Concept 6 :** If both Child & Parent class have methods with the same name , Only the method in the Child's class will be called.\n",
    "#### This concept is known as `Method Overriding`"
   ]
  },
  {
   "cell_type": "markdown",
   "id": "4839fcde-9590-4b05-885e-2edaf56b72f3",
   "metadata": {},
   "source": [
    "## **Super()**\n",
    "\n",
    "In Python, the `super()` keyword is used in the context of object-oriented programming (OOP) to refer to the superclass or parent class. It is commonly used to call methods and access attributes of the parent class from within a subclass. The `super()` function provides a way to delegate method calls and attribute access to the superclass.\n",
    "\n",
    "We can ->\n",
    "1. **Call Superclass Constructor:**\r\n",
    "   - `super().__init__(...)` is used to explicitly call the constructor of the superclass. This is typically done in the constructor of a subclass to ensure that the initialization code of the superclass is executed.\n",
    "2. **Call Superclass Method:**\r\n",
    "   - `super().method()` is used to call a method from the superclass. This is useful when the subclass wants to extend or override the behavior of a method in the superclass.\n",
    "3. **Access Superclass Attributes:**\r\n",
    "   - `super().attribute` is used to access attributes of the superclass. This allows the subclass to use or modify attributes defined in the superclass.\n",
    "4. **Multiple Inheritance:**\r\n",
    "   - `super()` becomes particularly useful in scenarios with multiple inheritance. It helps in maintaining the method resolution order (MRO) and calling the next class in the hierarchy.\n",
    "\n",
    "\n",
    "\n",
    "\n",
    "The super() function is designed to work with new-style classes (classes derived from object). It plays a crucial role in achieving a cooperative superclass-subclass relationship, ensuring that both the parent and child classes can work together sesmles\n",
    "sly."
   ]
  },
  {
   "cell_type": "code",
   "execution_count": 41,
   "id": "4bcecc5e-85a7-4094-b947-19a6fff98a0a",
   "metadata": {},
   "outputs": [
    {
     "name": "stdout",
     "output_type": "stream",
     "text": [
      "Inside Parent's Constructor\n"
     ]
    }
   ],
   "source": [
    "class Phone:\n",
    "    def __init__(self, price, brand, camera):\n",
    "        print(\"Inside Parent's Constructor\")\n",
    "        self.__price = price   # The variable is made private\n",
    "        self.brand = brand\n",
    "        self.camera = camera\n",
    "    def buy(self):\n",
    "        print(\"Buying a Phone\")\n",
    "\n",
    "class Smartphone(Phone):\n",
    "    def buy(self):\n",
    "        print(\"Buying the SmartPhone\")\n",
    "        super().buy()   # will call the buy method in the Parent class\n",
    "\n",
    "Phn = Smartphone(30000, 'Apple', 13)"
   ]
  },
  {
   "cell_type": "code",
   "execution_count": 42,
   "id": "28e5e95f-2e63-4223-a1fd-f4a3a766885e",
   "metadata": {},
   "outputs": [
    {
     "name": "stdout",
     "output_type": "stream",
     "text": [
      "Buying the SmartPhone\n",
      "Buying a Phone\n"
     ]
    }
   ],
   "source": [
    "Phn.buy()"
   ]
  },
  {
   "cell_type": "code",
   "execution_count": 47,
   "id": "2f130168-10f4-4805-b096-1ef707402673",
   "metadata": {},
   "outputs": [
    {
     "name": "stdout",
     "output_type": "stream",
     "text": [
      "Befor Super Keyword\n",
      "Inside Parent's Constructor\n",
      "Inside Child's Constructor\n"
     ]
    }
   ],
   "source": [
    "# This is the perfect usecase of Super Keyword\n",
    "\n",
    "class Phone:\n",
    "    def __init__(self, price, brand, camera):\n",
    "        print(\"Inside Parent's Constructor\")\n",
    "        self.__price = price   # The variable is made private\n",
    "        self.brand = brand\n",
    "        self.camera = camera\n",
    "\n",
    "class Smartphone(Phone):\n",
    "    def __init__(self, price, brand, camera, os, ram):\n",
    "        print(\"Befor Super Keyword\")\n",
    "        super().__init__(price, brand, camera)\n",
    "        self.os = os\n",
    "        self.ram = ram\n",
    "        print(\"Inside Child's Constructor\")\n",
    "\n",
    "p = Smartphone(3000, \"Apple\", 12 ,\"IPhone\", 2)"
   ]
  },
  {
   "cell_type": "code",
   "execution_count": 48,
   "id": "605321f4-2407-4a12-994d-5abca057f5b8",
   "metadata": {},
   "outputs": [
    {
     "data": {
      "text/plain": [
       "'IPhone'"
      ]
     },
     "execution_count": 48,
     "metadata": {},
     "output_type": "execute_result"
    }
   ],
   "source": [
    "p.os"
   ]
  },
  {
   "cell_type": "code",
   "execution_count": 49,
   "id": "b06deca9-94e4-4b99-8f31-63e0e1a759f8",
   "metadata": {},
   "outputs": [
    {
     "data": {
      "text/plain": [
       "'Apple'"
      ]
     },
     "execution_count": 49,
     "metadata": {},
     "output_type": "execute_result"
    }
   ],
   "source": [
    "p.brand"
   ]
  },
  {
   "cell_type": "markdown",
   "id": "24f242da-9069-4ebc-9adb-caf1688797b7",
   "metadata": {},
   "source": [
    "## **Note for `super()`**\n",
    "#### 1. Super() is only used inside the child's class.\n",
    "#### 2. It cannot be used outside the class.\n",
    "#### 3. It can only be used to access the methods, no attributes can be accessed."
   ]
  },
  {
   "cell_type": "markdown",
   "id": "472c238b-e4b9-48a2-abdd-68ea488d8dcb",
   "metadata": {},
   "source": [
    "## **Inheritance in summary**\n",
    "1. A class can inherit from another class.\n",
    "2. Inheritance improves code reusability\n",
    "3. Constructor, Attributes & Methods get inherited to the child class\n",
    "4. Private Properties of parents are not accessible directly in child class\n",
    "5. Child class can override the attributes or methods. This is called `method overriding`\n",
    "6. super() is an inbuilt function which is used to invoke the parent class methods & constructor.\n",
    "\n",
    "______________________________________________________________________________________________"
   ]
  },
  {
   "cell_type": "markdown",
   "id": "35098462-91a3-4ac0-b50c-b1ebe7e33db6",
   "metadata": {},
   "source": [
    "#### Practice Questions"
   ]
  },
  {
   "cell_type": "code",
   "execution_count": 53,
   "id": "96eeb5d5-3237-46a9-8b54-8d0bb70499c7",
   "metadata": {},
   "outputs": [
    {
     "name": "stdout",
     "output_type": "stream",
     "text": [
      "100\n",
      "200\n"
     ]
    }
   ],
   "source": [
    "# Example 1 \n",
    "\n",
    "class Parent:\n",
    "    def __init__(self,num):\n",
    "        self.__num = num\n",
    "    def get_num(self):\n",
    "        return self.__num\n",
    "\n",
    "class Child(Parent):\n",
    "    def __init__(self,num,val):\n",
    "        super().__init__(num)\n",
    "        self.__val = val\n",
    "    def get_val(self):\n",
    "        return self.__val\n",
    "\n",
    "son = Child(100,200)\n",
    "print(son.get_num())\n",
    "print(son.get_val())"
   ]
  },
  {
   "cell_type": "code",
   "execution_count": 55,
   "id": "e73fb6ab-c3a8-4e14-b76f-8506ab6b331c",
   "metadata": {},
   "outputs": [
    {
     "name": "stdout",
     "output_type": "stream",
     "text": [
      "100\n",
      "200\n"
     ]
    }
   ],
   "source": [
    "# Example 2\n",
    "\n",
    "class Parent:\n",
    "    def __init__(self):\n",
    "        self.num = 100\n",
    "\n",
    "class Child(Parent):\n",
    "    def __init__(self):\n",
    "        super().__init__()\n",
    "        self.var = 200\n",
    "    def show(self):\n",
    "        print(self.num)\n",
    "        print(self.var)\n",
    "\n",
    "son = Child()\n",
    "son.show()"
   ]
  },
  {
   "cell_type": "code",
   "execution_count": 56,
   "id": "c2e872cc-625d-4316-ba40-5c3f0350b6ed",
   "metadata": {},
   "outputs": [
    {
     "name": "stdout",
     "output_type": "stream",
     "text": [
      "Child: 10\n"
     ]
    }
   ],
   "source": [
    "# Example 3 \n",
    "class Parent:\n",
    "    def __init__(self):\n",
    "        self.num = 100\n",
    "    def show(self):\n",
    "        print(\"Parent:\", self.num)\n",
    "\n",
    "class Child(Parent):\n",
    "    def __init__(self):\n",
    "        super().__init__()\n",
    "        self.var = 10\n",
    "    def show(self):\n",
    "        print(\"Child:\", self.var)\n",
    "\n",
    "obj = Child()\n",
    "obj.show()"
   ]
  },
  {
   "attachments": {
    "473ef19e-dc5d-46ee-8361-7b0a78849cf9.webp": {
     "image/webp": "[encoded data removed]"
    }
   },
   "cell_type": "markdown",
   "id": "954899af-c4c7-49c9-8b6a-96b4ee6b059f",
   "metadata": {},
   "source": [
    "## **Types of Inheritance**\n",
    "1. **Single Inheritance:**\r\n",
    "   - A class inherits from only one base class\n",
    "2. **Multiple Inheritance:** (Diamond Problem)\r\n",
    "   - A class can inherit from multiple base classes\n",
    "3. **Multilevel Inheritance:**\r\n",
    "   - A class inherits from another class, and then a third class inherits from the second class\n",
    "4. **Hierarchical Inheritance:**\r\n",
    "   - Multiple classes inherit from a single base class\n",
    "5. **Hybrid (Combination) Inheritance:**\r\n",
    "   - A combination of two or more types of inheritance within a single program\n",
    "  \n",
    "![custom-upload-1671564863.webp](attachment:473ef19e-dc5d-46ee-8361-7b0a78849cf9.webp)......"
   ]
  },
  {
   "cell_type": "code",
   "execution_count": 59,
   "id": "8fd6850f-739b-412a-b690-aa2d20edad4b",
   "metadata": {},
   "outputs": [
    {
     "name": "stdout",
     "output_type": "stream",
     "text": [
      "Inside phone constructor\n",
      "Buying a phone\n"
     ]
    }
   ],
   "source": [
    "# Single Inheritance\n",
    "class Phone:\n",
    "    def __init__(self, price, brand, camera):\n",
    "        print (\"Inside phone constructor\")\n",
    "        self.__price = price\n",
    "        self.brand = brand\n",
    "        self.camera = camera\n",
    "\n",
    "    def buy(self):\n",
    "        print (\"Buying a phone\")\n",
    "\n",
    "class SmartPhone(Phone):\n",
    "    pass\n",
    "\n",
    "SmartPhone(1000,\"Apple\",\"13px\").buy()"
   ]
  },
  {
   "cell_type": "code",
   "execution_count": 60,
   "id": "3f3d3dba-9c75-465d-9cd0-80382b42f31c",
   "metadata": {},
   "outputs": [
    {
     "name": "stdout",
     "output_type": "stream",
     "text": [
      "Inside phone constructor\n",
      "Buying a phone\n",
      "Product customer review\n"
     ]
    }
   ],
   "source": [
    "# multilevel\n",
    "class Product:\n",
    "    def review(self):\n",
    "        print (\"Product customer review\")\n",
    "\n",
    "class Phone(Product):\n",
    "    def __init__(self, price, brand, camera):\n",
    "        print (\"Inside phone constructor\")\n",
    "        self.__price = price\n",
    "        self.brand = brand\n",
    "        self.camera = camera\n",
    "\n",
    "    def buy(self):\n",
    "        print (\"Buying a phone\")\n",
    "\n",
    "class SmartPhone(Phone):\n",
    "    pass\n",
    "\n",
    "s=SmartPhone(20000, \"Apple\", 12)\n",
    "\n",
    "s.buy()\n",
    "s.review()"
   ]
  },
  {
   "cell_type": "code",
   "execution_count": 61,
   "id": "de2a6fd3-c6b0-4846-ad90-f5c422e9f58a",
   "metadata": {},
   "outputs": [
    {
     "name": "stdout",
     "output_type": "stream",
     "text": [
      "Inside phone constructor\n",
      "Buying a phone\n",
      "Inside phone constructor\n",
      "Buying a phone\n"
     ]
    }
   ],
   "source": [
    "# Hierarchical\n",
    "class Phone:\n",
    "    def __init__(self, price, brand, camera):\n",
    "        print (\"Inside phone constructor\")\n",
    "        self.__price = price\n",
    "        self.brand = brand\n",
    "        self.camera = camera\n",
    "\n",
    "    def buy(self):\n",
    "        print (\"Buying a phone\")\n",
    "\n",
    "class SmartPhone(Phone):\n",
    "    pass\n",
    "\n",
    "class FeaturePhone(Phone):\n",
    "    pass\n",
    "\n",
    "SmartPhone(1000,\"Apple\",\"13px\").buy()\n",
    "FeaturePhone(10,\"Lava\",\"1px\").buy()"
   ]
  },
  {
   "cell_type": "code",
   "execution_count": 62,
   "id": "3d1bc83b-3865-4e2f-83b6-1a2d700853da",
   "metadata": {},
   "outputs": [
    {
     "name": "stdout",
     "output_type": "stream",
     "text": [
      "Inside phone constructor\n",
      "Buying a phone\n",
      "Customer review\n"
     ]
    }
   ],
   "source": [
    "# Multiple\n",
    "class Phone:\n",
    "    def __init__(self, price, brand, camera):\n",
    "        print (\"Inside phone constructor\")\n",
    "        self.__price = price\n",
    "        self.brand = brand\n",
    "        self.camera = camera\n",
    "\n",
    "    def buy(self):\n",
    "        print (\"Buying a phone\")\n",
    "\n",
    "class Product:\n",
    "    def review(self):\n",
    "        print (\"Customer review\")\n",
    "\n",
    "class SmartPhone(Phone, Product):\n",
    "    pass\n",
    "\n",
    "s=SmartPhone(20000, \"Apple\", 12)\n",
    "\n",
    "s.buy()\n",
    "s.review()\n"
   ]
  },
  {
   "cell_type": "code",
   "execution_count": 63,
   "id": "5c9b8009-b23c-4bdf-a1d7-8a79f07b37e9",
   "metadata": {},
   "outputs": [
    {
     "name": "stdout",
     "output_type": "stream",
     "text": [
      "Inside phone constructor\n",
      "Buying a phone\n"
     ]
    }
   ],
   "source": [
    "# the diamond problem\n",
    "# https://stackoverflow.com/questions/56361048/what-is-the-diamond-problem-in-python-and-why-its-not-appear-in-python2\n",
    "class Phone:\n",
    "    def __init__(self, price, brand, camera):\n",
    "        print (\"Inside phone constructor\")\n",
    "        self.__price = price\n",
    "        self.brand = brand\n",
    "        self.camera = camera\n",
    "\n",
    "    def buy(self):\n",
    "        print (\"Buying a phone\")\n",
    "\n",
    "class Product:\n",
    "    def buy(self):\n",
    "        print (\"Product buy method\")\n",
    "\n",
    "# Method resolution order\n",
    "class SmartPhone(Phone,Product):\n",
    "    pass\n",
    "\n",
    "s=SmartPhone(20000, \"Apple\", 12)\n",
    "\n",
    "s.buy()"
   ]
  },
  {
   "cell_type": "code",
   "execution_count": 64,
   "id": "20375c24-9cdd-4640-8396-420c9674a012",
   "metadata": {},
   "outputs": [
    {
     "name": "stdout",
     "output_type": "stream",
     "text": [
      "70\n"
     ]
    }
   ],
   "source": [
    "# Example for practice\n",
    "\n",
    "class A:\n",
    "\n",
    "    def m1(self):\n",
    "        return 20\n",
    "\n",
    "class B(A):\n",
    "\n",
    "    def m1(self):\n",
    "        return 30\n",
    "\n",
    "    def m2(self):\n",
    "        return 40\n",
    "\n",
    "class C(B):\n",
    "  \n",
    "    def m2(self):\n",
    "        return 20\n",
    "obj1=A()\n",
    "obj2=B()\n",
    "obj3=C()\n",
    "print(obj1.m1() + obj3.m1()+ obj3.m2())"
   ]
  },
  {
   "cell_type": "code",
   "execution_count": 76,
   "id": "23a0afae-70e1-4418-bc6b-f61e6e1c6010",
   "metadata": {},
   "outputs": [
    {
     "ename": "RecursionError",
     "evalue": "maximum recursion depth exceeded",
     "output_type": "error",
     "traceback": [
      "\u001b[1;31m---------------------------------------------------------------------------\u001b[0m",
      "\u001b[1;31mRecursionError\u001b[0m                            Traceback (most recent call last)",
      "Cell \u001b[1;32mIn[76], line 19\u001b[0m\n\u001b[0;32m     17\u001b[0m         \u001b[38;5;28;01mreturn\u001b[39;00m val\n\u001b[0;32m     18\u001b[0m obj\u001b[38;5;241m=\u001b[39mC()\n\u001b[1;32m---> 19\u001b[0m \u001b[38;5;28mprint\u001b[39m(\u001b[43mobj\u001b[49m\u001b[38;5;241;43m.\u001b[39;49m\u001b[43mm1\u001b[49m\u001b[43m(\u001b[49m\u001b[43m)\u001b[49m)\n\u001b[0;32m     21\u001b[0m \u001b[38;5;66;03m# Multiple recursive call caused a code crash\u001b[39;00m\n",
      "Cell \u001b[1;32mIn[76], line 16\u001b[0m, in \u001b[0;36mC.m1\u001b[1;34m(self)\u001b[0m\n\u001b[0;32m     15\u001b[0m \u001b[38;5;28;01mdef\u001b[39;00m \u001b[38;5;21mm1\u001b[39m(\u001b[38;5;28mself\u001b[39m):\n\u001b[1;32m---> 16\u001b[0m     val\u001b[38;5;241m=\u001b[39m\u001b[38;5;28;43mself\u001b[39;49m\u001b[38;5;241;43m.\u001b[39;49m\u001b[43mm1\u001b[49m\u001b[43m(\u001b[49m\u001b[43m)\u001b[49m\u001b[38;5;241m+\u001b[39m\u001b[38;5;241m20\u001b[39m\n\u001b[0;32m     17\u001b[0m     \u001b[38;5;28;01mreturn\u001b[39;00m val\n",
      "Cell \u001b[1;32mIn[76], line 16\u001b[0m, in \u001b[0;36mC.m1\u001b[1;34m(self)\u001b[0m\n\u001b[0;32m     15\u001b[0m \u001b[38;5;28;01mdef\u001b[39;00m \u001b[38;5;21mm1\u001b[39m(\u001b[38;5;28mself\u001b[39m):\n\u001b[1;32m---> 16\u001b[0m     val\u001b[38;5;241m=\u001b[39m\u001b[38;5;28;43mself\u001b[39;49m\u001b[38;5;241;43m.\u001b[39;49m\u001b[43mm1\u001b[49m\u001b[43m(\u001b[49m\u001b[43m)\u001b[49m\u001b[38;5;241m+\u001b[39m\u001b[38;5;241m20\u001b[39m\n\u001b[0;32m     17\u001b[0m     \u001b[38;5;28;01mreturn\u001b[39;00m val\n",
      "    \u001b[1;31m[... skipping similar frames: C.m1 at line 16 (2971 times)]\u001b[0m\n",
      "Cell \u001b[1;32mIn[76], line 16\u001b[0m, in \u001b[0;36mC.m1\u001b[1;34m(self)\u001b[0m\n\u001b[0;32m     15\u001b[0m \u001b[38;5;28;01mdef\u001b[39;00m \u001b[38;5;21mm1\u001b[39m(\u001b[38;5;28mself\u001b[39m):\n\u001b[1;32m---> 16\u001b[0m     val\u001b[38;5;241m=\u001b[39m\u001b[38;5;28;43mself\u001b[39;49m\u001b[38;5;241;43m.\u001b[39;49m\u001b[43mm1\u001b[49m\u001b[43m(\u001b[49m\u001b[43m)\u001b[49m\u001b[38;5;241m+\u001b[39m\u001b[38;5;241m20\u001b[39m\n\u001b[0;32m     17\u001b[0m     \u001b[38;5;28;01mreturn\u001b[39;00m val\n",
      "\u001b[1;31mRecursionError\u001b[0m: maximum recursion depth exceeded"
     ]
    }
   ],
   "source": [
    "# Example for practice\n",
    "class A:\n",
    "\n",
    "    def m1(self):\n",
    "        return 20\n",
    "\n",
    "class B(A):\n",
    "\n",
    "    def m1(self):\n",
    "        val=super().m1()+30\n",
    "        return val\n",
    "\n",
    "class C(B):\n",
    "  \n",
    "    def m1(self):\n",
    "        val=self.m1()+20\n",
    "        return val\n",
    "obj=C()\n",
    "print(obj.m1())\n",
    "\n",
    "# Multiple recursive call caused a code crash"
   ]
  },
  {
   "cell_type": "markdown",
   "id": "05927330-b945-49f9-82c3-a69b4f7e3c5e",
   "metadata": {},
   "source": [
    "____________________________________________________________________________________________"
   ]
  },
  {
   "cell_type": "markdown",
   "id": "763473b9-210e-4431-b512-44c24f8d3121",
   "metadata": {},
   "source": [
    "# **3. POLYMORPHISM**\n",
    "\n",
    "- Method Overriding\n",
    "- Method Overloading\n",
    "- Operator Overloading"
   ]
  },
  {
   "cell_type": "markdown",
   "id": "56485412-28be-4370-9b20-2a6e4c54c666",
   "metadata": {},
   "source": [
    "Polymorphism in Python refers to the ability of different objects to respond to the same method or function call in a way that is specific to their individual types. Python supports both compile-time (static) polymorphism, which is achieved through method overloading, and runtime (dynamic) polymorphism, which is achieved through method overriding.\n",
    "\n",
    "### Method Overloading:\n",
    "\n",
    "Method overloading in Python is a form of compile-time polymorphism where a class can have multiple methods with the same name, but the number or type of parameters is different.\n"
   ]
  },
  {
   "cell_type": "code",
   "execution_count": 81,
   "id": "4d314172-9089-4ed1-a800-ddef2131a86e",
   "metadata": {},
   "outputs": [
    {
     "ename": "TypeError",
     "evalue": "Calculator.add() missing 1 required positional argument: 'c'",
     "output_type": "error",
     "traceback": [
      "\u001b[1;31m---------------------------------------------------------------------------\u001b[0m",
      "\u001b[1;31mTypeError\u001b[0m                                 Traceback (most recent call last)",
      "Cell \u001b[1;32mIn[81], line 12\u001b[0m\n\u001b[0;32m      9\u001b[0m calc \u001b[38;5;241m=\u001b[39m Calculator()\n\u001b[0;32m     11\u001b[0m \u001b[38;5;66;03m# Call the overloaded methods\u001b[39;00m\n\u001b[1;32m---> 12\u001b[0m result1 \u001b[38;5;241m=\u001b[39m \u001b[43mcalc\u001b[49m\u001b[38;5;241;43m.\u001b[39;49m\u001b[43madd\u001b[49m\u001b[43m(\u001b[49m\u001b[38;5;241;43m2\u001b[39;49m\u001b[43m,\u001b[49m\u001b[43m \u001b[49m\u001b[38;5;241;43m3\u001b[39;49m\u001b[43m)\u001b[49m\n\u001b[0;32m     13\u001b[0m result2 \u001b[38;5;241m=\u001b[39m calc\u001b[38;5;241m.\u001b[39madd(\u001b[38;5;241m2\u001b[39m, \u001b[38;5;241m3\u001b[39m, \u001b[38;5;241m4\u001b[39m)\n\u001b[0;32m     15\u001b[0m \u001b[38;5;28mprint\u001b[39m(result1)  \u001b[38;5;66;03m# Output: 5\u001b[39;00m\n",
      "\u001b[1;31mTypeError\u001b[0m: Calculator.add() missing 1 required positional argument: 'c'"
     ]
    }
   ],
   "source": [
    "\n",
    "class Calculator:\n",
    "    def add(self, a, b):\n",
    "        return a + b\n",
    "\n",
    "    def add(self, a, b, c):\n",
    "        return a + b + c\n",
    "\n",
    "# Creating an object of the class\n",
    "calc = Calculator()\n",
    "\n",
    "# Call the overloaded methods\n",
    "result1 = calc.add(2, 3)\n",
    "result2 = calc.add(2, 3, 4)\n",
    "\n",
    "print(result1)  # Output: 5\n",
    "print(result2)  # Output: 9\n"
   ]
  },
  {
   "cell_type": "markdown",
   "id": "31f60d04-71bd-422b-b47e-94c44fc3b122",
   "metadata": {},
   "source": [
    "\n",
    "In this example, the `add` method is overloaded with different numbers of parameters. The method called depends on the number of arguments passed.\n",
    "\n",
    "#### Method Overloading Cannot be implemented in python\n",
    "\n",
    "### Method Overriding:\n",
    "\n",
    "Method overriding is a form of runtime polymorphism where a subclass provides a specific implementation for a method that is already defined in its superclass."
   ]
  },
  {
   "cell_type": "code",
   "execution_count": 80,
   "id": "52ace118-1725-4daa-b212-8c4b18cad015",
   "metadata": {},
   "outputs": [
    {
     "name": "stdout",
     "output_type": "stream",
     "text": [
      "Woof! Woof!\n",
      "Meow!\n"
     ]
    }
   ],
   "source": [
    "class Animal:\n",
    "    def make_sound(self):\n",
    "        print(\"Generic animal sound\")\n",
    "\n",
    "class Dog(Animal):\n",
    "    def make_sound(self):\n",
    "        print(\"Woof! Woof!\")\n",
    "\n",
    "class Cat(Animal):\n",
    "    def make_sound(self):\n",
    "        print(\"Meow!\")\n",
    "        \n",
    "# Creating objects of the subclasses\n",
    "dog = Dog()\n",
    "cat = Cat()\n",
    "\n",
    "# Call the overridden method\n",
    "dog.make_sound()  # Output: Woof! Woof!\n",
    "cat.make_sound()  # Output: Meow!\n"
   ]
  },
  {
   "cell_type": "markdown",
   "id": "f6b2d336-c174-4451-a5f5-565f1f29dc31",
   "metadata": {},
   "source": [
    "In this example, both `Dog` and `Cat` classes inherit from the `Animal` class. They provide their own implementation of the `make_sound` method, demonstrating polymorphic behavior."
   ]
  },
  {
   "cell_type": "markdown",
   "id": "1b37508b-76ee-4c69-b9c2-98228dd61ac8",
   "metadata": {},
   "source": [
    "### Operator Overloading:\r\n",
    "\r\n",
    "Operator overloading allows you to define how operators behave for objects of a class. In Python, this is achieved by defining special methods in the class, often referred to as \"magic\" or \"dunder\" methods. For example, the `__add__` method is used to overload the `+` operator."
   ]
  },
  {
   "cell_type": "code",
   "execution_count": null,
   "id": "55e5ac16-834d-4da7-bc65-5523bba881b4",
   "metadata": {},
   "outputs": [],
   "source": [
    "class ComplexNumber:\n",
    "    def __init__(self, real, imag):\n",
    "        self.real = real\n",
    "        self.imag = imag\n",
    "\n",
    "    def __add__(self, other):\n",
    "        return ComplexNumber(self.real + other.real, self.imag + other.imag)\n",
    "\n",
    "# Creating objects of the class\n",
    "num1 = ComplexNumber(2, 3)\n",
    "num2 = ComplexNumber(1, 4)\n",
    "\n",
    "# Using the overloaded + operator\n",
    "result = num1 + num2\n",
    "\n",
    "print(result.real)  # Output: 3\n",
    "print(result.imag)  # Output: 7\n"
   ]
  },
  {
   "cell_type": "markdown",
   "id": "b5068feb-925e-4df4-b5cd-28ee735539d1",
   "metadata": {},
   "source": [
    "In the above example, the `__add__` method is defined to specify the behavior of the `+` operator for instances of the `ComplexNumber` class.\n",
    "\n",
    "#### Other Examples of Operator Overloading are "
   ]
  },
  {
   "cell_type": "code",
   "execution_count": 91,
   "id": "797fec1e-ed13-4982-9b9d-b9b8fafbe9ee",
   "metadata": {},
   "outputs": [
    {
     "data": {
      "text/plain": [
       "[1, 2, 3, 4, 5]"
      ]
     },
     "execution_count": 91,
     "metadata": {},
     "output_type": "execute_result"
    }
   ],
   "source": [
    "# In case of list \n",
    "[1,2,3] + [4,5]"
   ]
  },
  {
   "cell_type": "code",
   "execution_count": 92,
   "id": "4bfe60d6-efd0-4676-9f06-3c9eb3b8cc6a",
   "metadata": {},
   "outputs": [
    {
     "data": {
      "text/plain": [
       "'helloworld'"
      ]
     },
     "execution_count": 92,
     "metadata": {},
     "output_type": "execute_result"
    }
   ],
   "source": [
    "# In the case of strings\n",
    "'hello' + 'world'"
   ]
  },
  {
   "cell_type": "code",
   "execution_count": 93,
   "id": "16319540-6620-4ea2-8473-c73e82eaa762",
   "metadata": {},
   "outputs": [
    {
     "data": {
      "text/plain": [
       "9"
      ]
     },
     "execution_count": 93,
     "metadata": {},
     "output_type": "execute_result"
    }
   ],
   "source": [
    "#In the case of Integers\n",
    "4+5"
   ]
  },
  {
   "cell_type": "markdown",
   "id": "4d7edab2-0757-44e0-b73d-cf3478cfe93e",
   "metadata": {},
   "source": [
    "____________________________________________________________________________________________________________________"
   ]
  },
  {
   "cell_type": "markdown",
   "id": "dcd35ab4-f8ca-451a-ac18-11d2e405d89f",
   "metadata": {},
   "source": [
    "# **4. ABSTRACTION**\n",
    "\n",
    "Abstraction in Python is a concept that allows you to hide complex implementation details and show only the necessary features of an object. It involves creating abstract classes with abstract methods that serve as blueprints for other classes. Abstraction helps in reducing complexity and allows developers to focus on essential aspects of an object.\r\n",
    "Key components of abstraction in Python include:\r\n",
    "\r\n",
    "1. **Abstract Classes:**\r\n",
    "   - Abstract classes are classes that cannot be instantiated and typically contain one or more abstract methods.\r\n",
    "   - Abstract methods are methods without any implementation; they are meant to be overridden by subclasses.\r\n",
    "   - The `abc` module in Python provides the `ABC` (Abstract Base Class) class, and the `abstractmethod` decorator is used to define abstract methods.\r\n",
    "\n"
   ]
  },
  {
   "cell_type": "code",
   "execution_count": null,
   "id": "27a69cc7-ffb9-49a8-87ff-60fe1828b293",
   "metadata": {},
   "outputs": [],
   "source": [
    "   from abc import ABC, abstractmethod\n",
    "\n",
    "   class Shape(ABC):\n",
    "       @abstractmethod\n",
    "       def area(self):\n",
    "           pass\n",
    "\n",
    "   class Circle(Shape):\n",
    "       def __init__(self, radius):\n",
    "           self.radius = radius\n",
    "\n",
    "       def area(self):\n",
    "           return 3.14 * self.radius ** 2"
   ]
  },
  {
   "cell_type": "markdown",
   "id": "cbe01b14-9277-428d-9c1c-48d81992f682",
   "metadata": {},
   "source": [
    "2. **Abstract Methods:**\r\n",
    "   - Abstract methods are declared in abstract classes but do not have any implementation.\r\n",
    "   - Subclasses must provide concrete implementations for abstract methods.\r\n"
   ]
  },
  {
   "cell_type": "code",
   "execution_count": 84,
   "id": "37b6fd74-e4cc-4fdf-a1d1-de41fd1ab3ff",
   "metadata": {},
   "outputs": [],
   "source": [
    "   from abc import ABC, abstractmethod\n",
    "\n",
    "   class Animal(ABC):\n",
    "       @abstractmethod\n",
    "       def make_sound(self):\n",
    "           pass\n",
    "\n",
    "   class Dog(Animal):\n",
    "       def make_sound(self):\n",
    "           print(\"Woof!\")\n",
    "\n",
    "   class Cat(Animal):\n",
    "       def make_sound(self):\n",
    "           print(\"Meow!\")\n"
   ]
  },
  {
   "cell_type": "markdown",
   "id": "a7006fef-e3f5-48ef-9a8c-0ce9e7453f6d",
   "metadata": {},
   "source": [
    "3. **Encapsulation:**\n",
    "   - Abstraction often involves encapsulating the internal details of an object and exposing only what is necessary.\n",
    "   - Private attributes and methods can be used to achieve encapsulation.\n"
   ]
  },
  {
   "cell_type": "code",
   "execution_count": 85,
   "id": "ff2988eb-b46e-4c3e-a7c0-2e0c3e1b852b",
   "metadata": {},
   "outputs": [],
   "source": [
    "   class BankAccount:\n",
    "       def __init__(self, account_number, balance):\n",
    "           self._account_number = account_number  # Private attribute\n",
    "           self._balance = balance\n",
    "\n",
    "       def get_balance(self):\n",
    "           return self._balance\n",
    "\n",
    "       def deposit(self, amount):\n",
    "           self._balance += amount\n",
    "\n",
    "       def withdraw(self, amount):\n",
    "           if amount <= self._balance:\n",
    "               self._balance -= amount\n",
    "           else:\n",
    "               print(\"Insufficient funds.\")\n"
   ]
  },
  {
   "cell_type": "markdown",
   "id": "ff9d2e07-6462-4300-9f15-312cd16f87f9",
   "metadata": {},
   "source": [
    "In the example above, the `_account_number` and `_balance` attributes are considered private, and their access is restricted. Methods like `get_balance`, `deposit`, and `withdraw` provide a controlled way to interact with the object.\n",
    "\n",
    "Abstraction promotes a clean and modular design by focusing on what an object does rather than how it achieves it. It is a fundamental principle of object-oriented programming that helps manage complexity and improves code maintainability."
   ]
  },
  {
   "cell_type": "markdown",
   "id": "b3a8126f-4348-4ef9-8518-a62b4ef61fd9",
   "metadata": {},
   "source": [
    "## Let's look into it with a detailed example"
   ]
  },
  {
   "cell_type": "code",
   "execution_count": null,
   "id": "b8c27d7c-8517-4ac7-9d17-34f37633ad90",
   "metadata": {},
   "outputs": [],
   "source": []
  },
  {
   "cell_type": "markdown",
   "id": "672331ac-027d-4ba1-a26a-003e5b29a6d0",
   "metadata": {},
   "source": [
    "1. **Importing the `ABC` (Abstract Base Class) and `abstractmethod` from the `abc` module:**\n"
   ]
  },
  {
   "cell_type": "code",
   "execution_count": 86,
   "id": "c706086e-8f16-46b4-a5ab-e716ea30d6eb",
   "metadata": {},
   "outputs": [],
   "source": [
    "from abc import ABC, abstractmethod"
   ]
  },
  {
   "cell_type": "markdown",
   "id": "5c07cc12-1ccc-4656-b9ce-8ad38ec615a6",
   "metadata": {},
   "source": [
    "   The `ABC` class is used as a base class for creating abstract classes, and the `abstractmethod` decorator is used to define abstract methods.\r\n",
    "\r\n",
    "2. **Defining the `BankApp` abstract class:**\r\n"
   ]
  },
  {
   "cell_type": "code",
   "execution_count": null,
   "id": "2f86d2fa-bb85-4ab6-bc2f-879c59788c77",
   "metadata": {},
   "outputs": [],
   "source": [
    "class BankApp(ABC):\n",
    "\n",
    "  def database(self):\n",
    "    print('connected to database')\n",
    "\n",
    "  @abstractmethod\n",
    "  def security(self):\n",
    "    pass\n",
    "\n",
    "  @abstractmethod\n",
    "  def display(self):\n",
    "    pass\n"
   ]
  },
  {
   "cell_type": "markdown",
   "id": "c86950d4-a805-4051-8711-2db19dbd95bc",
   "metadata": {},
   "source": [
    "   - This class inherits from `ABC`, making it an abstract class.\n",
    "   - It includes a non-abstract method `database`, which has an implementation. This method doesn't need to be overridden by subclasses.\n",
    "   - It includes two abstract methods, `security` and `display`, which have no implementation (abstract methods). Subclasses must provide concrete implementations for these methods."
   ]
  },
  {
   "cell_type": "markdown",
   "id": "c0f810e8-04a9-4856-be2b-ddb63e02a100",
   "metadata": {},
   "source": [
    "3. **Defining the `MobileApp` class as a subclass of `BankApp`:**\n"
   ]
  },
  {
   "cell_type": "code",
   "execution_count": null,
   "id": "2aa43f50-7cca-44b0-9335-b830436e1c8c",
   "metadata": {},
   "outputs": [],
   "source": [
    "class MobileApp(BankApp):\n",
    "\n",
    "  def mobile_login(self):\n",
    "    print('login into mobile')\n",
    "\n",
    "  def security(self):\n",
    "    print('mobile security')\n",
    "\n",
    "  def display(self):\n",
    "    print('display')"
   ]
  },
  {
   "cell_type": "markdown",
   "id": "1bf72d08-3138-4255-bd77-f9cda8a619b8",
   "metadata": {},
   "source": [
    "   - This class inherits from the abstract class `BankApp`.\n",
    "   - It includes two additional methods, `mobile_login` and `security`, both with concrete implementations.\n",
    "   - It provides concrete implementations for the abstract methods `security` and `display` defined in the `BankApp` class."
   ]
  },
  {
   "cell_type": "markdown",
   "id": "794264d8-e65c-4221-84fd-1af80547bb4c",
   "metadata": {},
   "source": [
    "The key concepts of abstraction in this code are:\n",
    "\n",
    "- **Abstract Class (`BankApp`):**\n",
    "  - Defines a blueprint for classes that inherit from it.\n",
    "  - Contains a mix of abstract and non-abstract methods.\n",
    "  - Forces subclasses to provide implementations for abstract methods.\n",
    "\n",
    "- **Abstract Methods (`security` and `display`):**\n",
    "  - Declared in the abstract class without implementations.\n",
    "  - Must be implemented by concrete subclasses.\n",
    "\n",
    "- **Concrete Subclass (`MobileApp`):**\n",
    "  - Inherits from the abstract class.\n",
    "  - Provides concrete implementations for all abstract methods.\n",
    "  - Can include additional methods and attributes.\n",
    "\n",
    "This structure ensures that any class inheriting from `BankApp` must provide specific security and display implementations, enforcing a consistent interface across different subclasses. The abstract class serves as a template, emphasizing what functionality is required while allowing flexibility in how it is achieved by concrete subclasses."
   ]
  },
  {
   "cell_type": "code",
   "execution_count": 87,
   "id": "7d32813e-0261-489c-a08d-3ad6910b7214",
   "metadata": {},
   "outputs": [],
   "source": [
    "mob = MobileApp()"
   ]
  },
  {
   "cell_type": "code",
   "execution_count": 88,
   "id": "e72baa51-d9da-4bde-a891-a5bf4d5c495e",
   "metadata": {},
   "outputs": [
    {
     "name": "stdout",
     "output_type": "stream",
     "text": [
      "mobile security\n"
     ]
    }
   ],
   "source": [
    "mob.security()"
   ]
  },
  {
   "cell_type": "code",
   "execution_count": 89,
   "id": "cbfd454e-1d20-4a3a-bbb6-78765aa923cf",
   "metadata": {},
   "outputs": [
    {
     "ename": "TypeError",
     "evalue": "Can't instantiate abstract class BankApp with abstract methods display, security",
     "output_type": "error",
     "traceback": [
      "\u001b[1;31m---------------------------------------------------------------------------\u001b[0m",
      "\u001b[1;31mTypeError\u001b[0m                                 Traceback (most recent call last)",
      "Cell \u001b[1;32mIn[89], line 1\u001b[0m\n\u001b[1;32m----> 1\u001b[0m obj \u001b[38;5;241m=\u001b[39m \u001b[43mBankApp\u001b[49m\u001b[43m(\u001b[49m\u001b[43m)\u001b[49m\n",
      "\u001b[1;31mTypeError\u001b[0m: Can't instantiate abstract class BankApp with abstract methods display, security"
     ]
    }
   ],
   "source": [
    "obj = BankApp()"
   ]
  },
  {
   "cell_type": "markdown",
   "id": "b637ae14-d2d1-4106-9aa4-94751d4d1958",
   "metadata": {},
   "source": [
    "In Python, abstract classes cannot be instantiated directly; they serve as blueprints for concrete classes. Abstract classes are meant to be subclassed, and their abstract methods must be implemented in the concrete subclasses."
   ]
  },
  {
   "cell_type": "markdown",
   "id": "424c6e9b-e593-42b3-a08d-1790a2ffb224",
   "metadata": {},
   "source": [
    "*_______________________________________________________________________________________________________________________________*"
   ]
  },
  {
   "cell_type": "markdown",
   "id": "1cf8791c-a59e-4fd5-ab10-e5c01ef29c23",
   "metadata": {},
   "source": [
    "This was all about the concept of OOP in python.!!\n",
    "\n",
    "I hope I was able to create a perfect reference guide for you to understand OOP concept better!!\n",
    "\n",
    "Till Then, **Happy Learning!!**"
   ]
  }
 ],
 "metadata": {
  "kernelspec": {
   "display_name": "Python 3 (ipykernel)",
   "language": "python",
   "name": "python3"
  },
  "language_info": {
   "codemirror_mode": {
    "name": "ipython",
    "version": 3
   },
   "file_extension": ".py",
   "mimetype": "text/x-python",
   "name": "python",
   "nbconvert_exporter": "python",
   "pygments_lexer": "ipython3",
   "version": "3.11.3"
  }
 },
 "nbformat": 4,
 "nbformat_minor": 5
}
